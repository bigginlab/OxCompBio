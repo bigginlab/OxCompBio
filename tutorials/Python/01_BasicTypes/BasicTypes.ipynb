{
 "cells": [
  {
   "cell_type": "markdown",
   "metadata": {},
   "source": [
    "# 1. Object types in Python"
   ]
  },
  {
   "cell_type": "markdown",
   "metadata": {},
   "source": [
    "Every object in python has a type.\n",
    "For example,  the object `'Hello world'` is text, also known as a string.\n",
    "\n",
    "Object types include: \n",
    "- strings (ie. text)\n",
    "- integers (ie. whole numbers, both positive and negative)\n",
    "- floating point values (ie. decimal numbers)\n",
    "- booleans values (i.e. True or False)\n",
    "\n",
    "Objects can have things done to them, ie. operations can be performed on them, such as addition.\n"
   ]
  },
  {
   "cell_type": "markdown",
   "metadata": {},
   "source": [
    "## 1.1 Strings"
   ]
  },
  {
   "cell_type": "markdown",
   "metadata": {},
   "source": [
    "For example, we can add two strings together:"
   ]
  },
  {
   "cell_type": "code",
   "execution_count": null,
   "metadata": {},
   "outputs": [],
   "source": [
    "# The first string:\n",
    "'Hello'"
   ]
  },
  {
   "cell_type": "code",
   "execution_count": null,
   "metadata": {},
   "outputs": [],
   "source": [
    "# The second string:\n",
    "'world'"
   ]
  },
  {
   "cell_type": "code",
   "execution_count": null,
   "metadata": {},
   "outputs": [],
   "source": [
    "# Add them together\n",
    "'Hello'+'world'"
   ]
  },
  {
   "cell_type": "code",
   "execution_count": null,
   "metadata": {},
   "outputs": [],
   "source": [
    "# print the string (and add a space between words)\n",
    "print('Hello '+'world')"
   ]
  },
  {
   "cell_type": "markdown",
   "metadata": {},
   "source": [
    "Apart from the space between words, what is the difference between the outputs from the last two cells?"
   ]
  },
  {
   "cell_type": "markdown",
   "metadata": {},
   "source": [
    "### Strings and quotation marks:"
   ]
  },
  {
   "cell_type": "markdown",
   "metadata": {},
   "source": [
    "FAQ:\n",
    "\n",
    "Do we have to use single quotes to indicate a string?  Will double quotes (`\"\"`) work as well?\n",
    "\n",
    "Answer: Yes. Single quotes, double quotes, and even triple quotes (`'''something'''` or `\"\"\"something\"\"\"`) tell Python that you want a string. When to use one or the other depends on what you are trying to do; check the exercises below for more on this.\n",
    "\n",
    "A word of caution: don't get in the habit of using triple quotes for strings, as these should be reserved for docstrings. As previously mentioned, it is not necessary to know exactly what these are, just know that these are important in other aspect of Python, and it wouldn't be a good idea to mix them with single and double quotation marks."
   ]
  },
  {
   "cell_type": "markdown",
   "metadata": {},
   "source": [
    "### Exercise 1.1.1: "
   ]
  },
  {
   "cell_type": "markdown",
   "metadata": {},
   "source": [
    "Try printing strings surrounded by either single quotes or double quotes."
   ]
  },
  {
   "cell_type": "code",
   "execution_count": null,
   "metadata": {},
   "outputs": [],
   "source": [
    "# Exercise 1.1.1"
   ]
  },
  {
   "cell_type": "markdown",
   "metadata": {},
   "source": [
    "As explained above, you can use the two types of quotation marks to print quotation marks within a string\n",
    "\n",
    "For example, to print: Just say \"No!\""
   ]
  },
  {
   "cell_type": "code",
   "execution_count": null,
   "metadata": {},
   "outputs": [],
   "source": [
    "print('Just say \"No!\"')\n",
    "print('Just say \"No\"!')"
   ]
  },
  {
   "cell_type": "markdown",
   "metadata": {},
   "source": [
    "You can also achieve the same effect with single quotes by using a backslash `\\` before the quotation mark you wish to be printed.  This \"escapes\" the single quote mark from being interpreted as a quotation mark at the end of the string.\n",
    "\n",
    "For example:"
   ]
  },
  {
   "cell_type": "code",
   "execution_count": null,
   "metadata": {},
   "outputs": [],
   "source": [
    "print('Just say \\'No!\\'')"
   ]
  },
  {
   "cell_type": "markdown",
   "metadata": {},
   "source": [
    "### Exercise 1.1.2: "
   ]
  },
  {
   "cell_type": "markdown",
   "metadata": {},
   "source": [
    "Print the following string twice, first using single quotes at the start and end of the string, then double quotes:\n",
    "\n",
    "_`I can't be bothered with this \"exercise\"`_"
   ]
  },
  {
   "cell_type": "code",
   "execution_count": null,
   "metadata": {},
   "outputs": [],
   "source": [
    "# Exercise 1.1.2"
   ]
  },
  {
   "cell_type": "markdown",
   "metadata": {},
   "source": [
    "More types of quotation marks...\n",
    "If you want to include more than one line in your string, you can:\n",
    "- use a 'new line character' in your string - this character looks like: `\\n`\n",
    "- use triple quotes (`'''` or `\"\"\"`) at either end of your string"
   ]
  },
  {
   "cell_type": "code",
   "execution_count": null,
   "metadata": {},
   "outputs": [],
   "source": [
    "print('Here is an example of using a new line character\\nto print a second line.')"
   ]
  },
  {
   "cell_type": "code",
   "execution_count": null,
   "metadata": {},
   "outputs": [],
   "source": [
    "print('''Or you can just use triple quotes at either end of the string\n",
    "and start a new line as you type.''')"
   ]
  },
  {
   "cell_type": "markdown",
   "metadata": {},
   "source": [
    "### Review:"
   ]
  },
  {
   "cell_type": "markdown",
   "metadata": {},
   "source": [
    "We have covered:\n",
    "- strings, surrounded by either 'single quotes' or \"double quotes\"\n",
    "- printing strings\n",
    "- adding strings together\n",
    "- quotes within a string, either using double or single quotes, or using `\\`\n",
    "- inserting a new line into your string, with a new line character, `\\n` , or '''triple quotes'''"
   ]
  },
  {
   "cell_type": "markdown",
   "metadata": {},
   "source": [
    "## 1.2 Integers"
   ]
  },
  {
   "cell_type": "markdown",
   "metadata": {},
   "source": [
    "What about the other types mentioned, ie. integers (whole numbers) and floating point values (decimals)?\n",
    "\n",
    "We can also perform operations on integers and floating point values, in all the ways you might expect.\n",
    "\n",
    "Adding and subtracting integers:"
   ]
  },
  {
   "cell_type": "code",
   "execution_count": null,
   "metadata": {},
   "outputs": [],
   "source": [
    "2 + 4"
   ]
  },
  {
   "cell_type": "code",
   "execution_count": null,
   "metadata": {},
   "outputs": [],
   "source": [
    "5-3"
   ]
  },
  {
   "cell_type": "code",
   "execution_count": null,
   "metadata": {},
   "outputs": [],
   "source": [
    "7- 10"
   ]
  },
  {
   "cell_type": "markdown",
   "metadata": {},
   "source": [
    "(Note that it doesn't matter if you use spaces between numbers and symbols)"
   ]
  },
  {
   "cell_type": "markdown",
   "metadata": {},
   "source": [
    "Multiplying (we use the `*` sign to multiply)"
   ]
  },
  {
   "cell_type": "code",
   "execution_count": null,
   "metadata": {},
   "outputs": [],
   "source": [
    "2 * 5"
   ]
  },
  {
   "cell_type": "markdown",
   "metadata": {},
   "source": [
    "Dividing (use the `/` sign):"
   ]
  },
  {
   "cell_type": "code",
   "execution_count": null,
   "metadata": {},
   "outputs": [],
   "source": [
    "4 / 2"
   ]
  },
  {
   "cell_type": "markdown",
   "metadata": {},
   "source": [
    "Note that when dividing integers, a floating point type value (i.e. a decimal) will be returned. It is important to note\n",
    "that in previous versions of python (v2.7 and lower) only integer types (i.e. whole numbers) would be returned, resulting\n",
    "in a rounding down of values. This very specific difference between versions is a frequent source of errors when porting python code. If integer division (i.e. a division that returns only whole numbers) is required, the `//` operation can be used instead.\n",
    "\n",
    "for example:"
   ]
  },
  {
   "cell_type": "code",
   "execution_count": null,
   "metadata": {},
   "outputs": [],
   "source": [
    "# This division will return a non-whole number result (float type)\n",
    "7 / 4"
   ]
  },
  {
   "cell_type": "code",
   "execution_count": null,
   "metadata": {},
   "outputs": [],
   "source": [
    "# With integer division a whole number is returned (same as using '/' in python 2.7 and lower)\n",
    "7 // 4"
   ]
  },
  {
   "cell_type": "markdown",
   "metadata": {},
   "source": [
    "Powers, eg. $4^2$ , (using 2 consecutive `*` symbols):"
   ]
  },
  {
   "cell_type": "code",
   "execution_count": null,
   "metadata": {},
   "outputs": [],
   "source": [
    "4 ** 2"
   ]
  },
  {
   "cell_type": "markdown",
   "metadata": {},
   "source": [
    "Modular arithmetic (or integer remainders), is done using the `%` symbol:"
   ]
  },
  {
   "cell_type": "code",
   "execution_count": null,
   "metadata": {},
   "outputs": [],
   "source": [
    "12 % 4"
   ]
  },
  {
   "cell_type": "code",
   "execution_count": null,
   "metadata": {},
   "outputs": [],
   "source": [
    "13 % 4"
   ]
  },
  {
   "cell_type": "code",
   "execution_count": null,
   "metadata": {},
   "outputs": [],
   "source": [
    "17 % 4"
   ]
  },
  {
   "cell_type": "markdown",
   "metadata": {},
   "source": [
    "#### Review:\n",
    "\n",
    "We have covered:\n",
    "- addition `+`\n",
    "- substraction `-`\n",
    "- multiplication `*`\n",
    "- division and differences from older versions of python (`/` and `//`)\n",
    "- power operations `**`\n",
    "- modular arthmetic `%`\n"
   ]
  },
  {
   "cell_type": "code",
   "execution_count": null,
   "metadata": {},
   "outputs": [],
   "source": [
    "# Possible exercise: how big can a python integer be?\n",
    "# hint: this is a trick question"
   ]
  },
  {
   "cell_type": "markdown",
   "metadata": {},
   "source": [
    "## 1.3 Floating point values"
   ]
  },
  {
   "cell_type": "markdown",
   "metadata": {},
   "source": [
    "As introduced in section 1.2, a floating point value is a decimal, and python can tell we are using floating points when we use a decimal point in the number.\n",
    "\n",
    "For example:"
   ]
  },
  {
   "cell_type": "code",
   "execution_count": null,
   "metadata": {},
   "outputs": [],
   "source": [
    "8.23"
   ]
  },
  {
   "cell_type": "code",
   "execution_count": null,
   "metadata": {},
   "outputs": [],
   "source": [
    "5.0"
   ]
  },
  {
   "cell_type": "markdown",
   "metadata": {},
   "source": [
    "We don't necessarily need to put any numbers after the floating point, eg, 5. is the same as 5.0:"
   ]
  },
  {
   "cell_type": "code",
   "execution_count": null,
   "metadata": {},
   "outputs": [],
   "source": [
    "5."
   ]
  },
  {
   "cell_type": "markdown",
   "metadata": {},
   "source": [
    "We can also perform operations on floating point values, like before.\n",
    "    "
   ]
  },
  {
   "cell_type": "markdown",
   "metadata": {},
   "source": [
    "### Exercise 1.3.1"
   ]
  },
  {
   "cell_type": "markdown",
   "metadata": {},
   "source": [
    "Find:\n",
    "    \n",
    "- 8.3 + 4\n",
    "- 5.1 x 2.5\n",
    "- 10 / 3 (the answer should be a floating point value)\n",
    "- $8.1^3$ "
   ]
  },
  {
   "cell_type": "code",
   "execution_count": null,
   "metadata": {},
   "outputs": [],
   "source": [
    "# Exercise 1.3.1 a)"
   ]
  },
  {
   "cell_type": "code",
   "execution_count": null,
   "metadata": {},
   "outputs": [],
   "source": [
    "# Exercise 1.3.1 b)"
   ]
  },
  {
   "cell_type": "code",
   "execution_count": null,
   "metadata": {},
   "outputs": [],
   "source": [
    "# Exercise 1.3.1 c)"
   ]
  },
  {
   "cell_type": "code",
   "execution_count": null,
   "metadata": {},
   "outputs": [],
   "source": [
    "# Exercise 1.3.1 d)"
   ]
  },
  {
   "cell_type": "markdown",
   "metadata": {},
   "source": [
    "### Floating point precision"
   ]
  },
  {
   "cell_type": "markdown",
   "metadata": {},
   "source": [
    "Floating point arithmetic is not exact, because computers work in base 2, which means that numbers like `1/10` are not stored exactly.\n",
    "\n",
    "Usually this is not a problem - floating point values are correct to ~17 significant figures on modern computers - however, it can mean that small errors creep in:"
   ]
  },
  {
   "cell_type": "code",
   "execution_count": null,
   "metadata": {},
   "outputs": [],
   "source": [
    "0.1 + 0.1 + 0.1"
   ]
  },
  {
   "cell_type": "markdown",
   "metadata": {},
   "source": [
    "### Exercise 1.3.2"
   ]
  },
  {
   "cell_type": "markdown",
   "metadata": {},
   "source": [
    "Find $(1/10)^5$\n",
    "\n",
    "How accurate is the answer?"
   ]
  },
  {
   "cell_type": "code",
   "execution_count": null,
   "metadata": {},
   "outputs": [],
   "source": [
    "# Exercise 1.3.2"
   ]
  },
  {
   "cell_type": "markdown",
   "metadata": {},
   "source": [
    "### Review"
   ]
  },
  {
   "cell_type": "markdown",
   "metadata": {},
   "source": [
    "- Numbers in python are integers or floating points (specified by using a decimal point, `.`, in the number)\n",
    "- Floating point values are specified by using a decimal point (`.`) in the number\n",
    "- Can also perform addition, subtraction, multiplication, division and powers with floating points\n",
    "- Precision can be an issue with floating point values"
   ]
  },
  {
   "cell_type": "markdown",
   "metadata": {},
   "source": [
    "## 1.4 Other types of objects"
   ]
  },
  {
   "cell_type": "markdown",
   "metadata": {},
   "source": [
    "We can also group strings, integers and floating point values into new objects:\n",
    "- list, surrounded by square brackets, `[ ]`, succesive entries are separated by `,`.  These are used a lot.\n",
    "- tuple, surrounded by round brackets, `( )`, succesive entries are separated by `,`. Like a list except that, once specified, its elements can't be changed.\n",
    "- dictionary, surrounded by curly brackets, `{ }`, succesive entries are separated by `,`. These are lists of pairs, where each element in a pair is separated by `:`."
   ]
  },
  {
   "cell_type": "markdown",
   "metadata": {},
   "source": [
    "A list of integers:"
   ]
  },
  {
   "cell_type": "code",
   "execution_count": null,
   "metadata": {},
   "outputs": [],
   "source": [
    "[1, 6, 3, 0]"
   ]
  },
  {
   "cell_type": "markdown",
   "metadata": {},
   "source": [
    "A tuple of integers:"
   ]
  },
  {
   "cell_type": "code",
   "execution_count": null,
   "metadata": {},
   "outputs": [],
   "source": [
    "(6,1,3)"
   ]
  },
  {
   "cell_type": "markdown",
   "metadata": {},
   "source": [
    "A dictionary, eg. of exam scores for each person in a class (as string-float pairs):"
   ]
  },
  {
   "cell_type": "code",
   "execution_count": null,
   "metadata": {},
   "outputs": [],
   "source": [
    "{'Andy':2.0, 'Vivek':6.1, 'Sian':9.5, 'Chen':3.6}"
   ]
  },
  {
   "cell_type": "markdown",
   "metadata": {},
   "source": [
    "There are also many operations we can perform on these object types, eg. adding two lists.\n",
    "\n",
    "The types of operation you can perform will depend on the type of object (eg. try adding two dictionaries).\n",
    "\n",
    "We will come back to lists, tuples and dictionaries later on."
   ]
  },
  {
   "cell_type": "markdown",
   "metadata": {},
   "source": [
    "## 1.5 Checking what type of object we have"
   ]
  },
  {
   "cell_type": "markdown",
   "metadata": {},
   "source": [
    "We can check what type of object we are dealing with using the `type()` function.\n",
    "\n",
    "For example:\n"
   ]
  },
  {
   "cell_type": "code",
   "execution_count": null,
   "metadata": {},
   "outputs": [],
   "source": [
    "type('what type of object is this?')"
   ]
  },
  {
   "cell_type": "code",
   "execution_count": null,
   "metadata": {},
   "outputs": [],
   "source": [
    "type(4.)"
   ]
  },
  {
   "cell_type": "code",
   "execution_count": null,
   "metadata": {},
   "outputs": [],
   "source": [
    "type(3/4)"
   ]
  },
  {
   "cell_type": "code",
   "execution_count": null,
   "metadata": {},
   "outputs": [],
   "source": [
    "type([8,1])"
   ]
  }
 ],
 "metadata": {
  "kernelspec": {
   "display_name": "Python 3",
   "language": "python",
   "name": "python3"
  },
  "language_info": {
   "codemirror_mode": {
    "name": "ipython",
    "version": 3
   },
   "file_extension": ".py",
   "mimetype": "text/x-python",
   "name": "python",
   "nbconvert_exporter": "python",
   "pygments_lexer": "ipython3",
   "version": "3.6.7"
  }
 },
 "nbformat": 4,
 "nbformat_minor": 1
}
