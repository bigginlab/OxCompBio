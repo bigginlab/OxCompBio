{
 "cells": [
  {
   "cell_type": "markdown",
   "metadata": {},
   "source": [
    "# 1. Object types in Python"
   ]
  },
  {
   "cell_type": "markdown",
   "metadata": {},
   "source": [
    "## Introduction\n",
    "\n",
    "In this section we discuss one of the main building blocks of python, the `type`. We will cover some of the basic types and how they can be used.\n",
    "\n",
    "Python code is composed of the manipulation of various objects in order to achieve a certain outcome. Every object in python has a type.\n",
    "\n",
    "For example,  the object `'Hello world'` (introduced in the previous section) is text, also known as a string.\n",
    "\n",
    "Object types include: \n",
    "- strings (i.e. text)\n",
    "- integers (i.e. whole numbers, both positive and negative)\n",
    "- floating point values (i.e. decimal numbers)\n",
    "- booleans values (i.e. True or False)\n",
    "\n",
    "Objects can have things done to them, i.e. operations can be performed on them, such as addition, substraction and division."
   ]
  },
  {
   "cell_type": "markdown",
   "metadata": {},
   "source": [
    "## 1.1 Strings"
   ]
  },
  {
   "cell_type": "markdown",
   "metadata": {},
   "source": [
    "For example, we can add two strings together:"
   ]
  },
  {
   "cell_type": "code",
   "execution_count": null,
   "metadata": {},
   "outputs": [],
   "source": [
    "# The first string:\n",
    "'Hello'"
   ]
  },
  {
   "cell_type": "code",
   "execution_count": null,
   "metadata": {},
   "outputs": [],
   "source": [
    "# The second string:\n",
    "'world'"
   ]
  },
  {
   "cell_type": "code",
   "execution_count": null,
   "metadata": {},
   "outputs": [],
   "source": [
    "# Add them together\n",
    "'Hello'+'world'"
   ]
  },
  {
   "cell_type": "code",
   "execution_count": null,
   "metadata": {},
   "outputs": [],
   "source": [
    "# print the string (and add a space between words)\n",
    "print('Hello '+'world')"
   ]
  },
  {
   "cell_type": "markdown",
   "metadata": {},
   "source": [
    "Apart from the space between words, what is the difference between the outputs from the last two cells?\n",
    "\n",
    "As discussed in the previous section, the `print` function will write out the contents passed to it without the included quotation. We should note that the fact that strings are written out on cell execution without a `print` function is unique to jupyter notebooks. If you were to write the above in a python script, only the contents passed to the `print` function would be shown in your terminal output."
   ]
  },
  {
   "cell_type": "markdown",
   "metadata": {},
   "source": [
    "### Strings and quotation marks:"
   ]
  },
  {
   "cell_type": "markdown",
   "metadata": {},
   "source": [
    "Question: Do we have to use single quotes to indicate a string?  Will double quotes (`\"\"`) work as well?\n",
    "\n",
    "Answer: Yes. Single quotes, double quotes, and even triple quotes (`'''something'''` or `\"\"\"something\"\"\"`) tell Python that you want a string. When to use one or the other depends on what you are trying to do; check the exercises below for more on this.\n",
    "\n",
    "A word of caution: don't get in the habit of using triple quotes for strings, as these should be reserved for docstrings. As previously mentioned, these will be covered briefly in section 8, just know that these are important in other aspects of Python, and it generaly isn't a good idea to mix them with single and double quotation marks."
   ]
  },
  {
   "cell_type": "markdown",
   "metadata": {},
   "source": [
    "You can use double quotes within single quotes and the other way around:"
   ]
  },
  {
   "cell_type": "code",
   "execution_count": null,
   "metadata": {},
   "outputs": [],
   "source": [
    "print(\"Single 'quotes' can be used within double quotes.\")\n",
    "print('Double \"quotes\" can be used within single quotes.')"
   ]
  },
  {
   "cell_type": "markdown",
   "metadata": {},
   "source": [
    "### Exercise 1.1.1: "
   ]
  },
  {
   "cell_type": "markdown",
   "metadata": {},
   "source": [
    "Try printing strings surrounded by either single quotes or double quotes."
   ]
  },
  {
   "cell_type": "code",
   "execution_count": null,
   "metadata": {},
   "outputs": [],
   "source": [
    "# Exercise 1.1.1\n",
    "print('Example')\n",
    "print(\"Example\")"
   ]
  },
  {
   "cell_type": "markdown",
   "metadata": {},
   "source": [
    "As explained above, you can use the two types of quotation marks to print quotation marks within a string\n",
    "\n",
    "For example, to print: Just say \"No!\""
   ]
  },
  {
   "cell_type": "code",
   "execution_count": null,
   "metadata": {},
   "outputs": [],
   "source": [
    "print('Just say \"No!\"')"
   ]
  },
  {
   "cell_type": "markdown",
   "metadata": {},
   "source": [
    "You can also achieve the same effect with single quotes by using a backslash `\\` before the quotation mark you wish to be printed.  This \"escapes\" the single quote mark from being interpreted as a quotation mark at the end of the string.\n",
    "\n",
    "For example:"
   ]
  },
  {
   "cell_type": "code",
   "execution_count": null,
   "metadata": {},
   "outputs": [],
   "source": [
    "print('Just say \\'No!\\'')"
   ]
  },
  {
   "cell_type": "markdown",
   "metadata": {},
   "source": [
    "### Exercise 1.1.2: "
   ]
  },
  {
   "cell_type": "markdown",
   "metadata": {},
   "source": [
    "Print the following string twice, first using single quotes at the start and end of the string, then double quotes:\n",
    "\n",
    "`I can't be bothered with this \"exercise\"`"
   ]
  },
  {
   "cell_type": "code",
   "execution_count": null,
   "metadata": {},
   "outputs": [],
   "source": [
    "# Exercise 1.1.2\n",
    "print('I can\\'t be bothered with this \"exercise\"')\n",
    "# the following two solutions won't work\n",
    "# since the ' in can't will be recognised as a single quotation mark\n",
    "#print('I can't be bothered with this \"exercise\"')\n",
    "#print(\"I can't be bothered with this \"exercise\"\")"
   ]
  },
  {
   "cell_type": "markdown",
   "metadata": {},
   "source": [
    "#### More types of quotation marks\n",
    "\n",
    "If you want to include more than one line in your string, you can:\n",
    "- use a 'new line character' in your string - this character looks like: `\\n`\n",
    "- use triple quotes (`'''` or `\"\"\"`) at either end of your string"
   ]
  },
  {
   "cell_type": "code",
   "execution_count": null,
   "metadata": {},
   "outputs": [],
   "source": [
    "print('Here is an example of using a new line character\\nto print a second line.')"
   ]
  },
  {
   "cell_type": "code",
   "execution_count": null,
   "metadata": {},
   "outputs": [],
   "source": [
    "print('''Or you can just use triple quotes at either end of the string\n",
    "and start a new line as you type.''')"
   ]
  },
  {
   "cell_type": "markdown",
   "metadata": {},
   "source": [
    "## 1.2 Integers"
   ]
  },
  {
   "cell_type": "markdown",
   "metadata": {},
   "source": [
    "What about the other types mentioned, i.e. integers (whole numbers) and floating point values (decimals)?\n",
    "\n",
    "We can also perform operations on integers and floating point values, in all the ways you might expect.\n",
    "\n",
    "Adding and subtracting integers:"
   ]
  },
  {
   "cell_type": "code",
   "execution_count": null,
   "metadata": {},
   "outputs": [],
   "source": [
    "2 + 4"
   ]
  },
  {
   "cell_type": "code",
   "execution_count": null,
   "metadata": {},
   "outputs": [],
   "source": [
    "5-3"
   ]
  },
  {
   "cell_type": "code",
   "execution_count": null,
   "metadata": {},
   "outputs": [],
   "source": [
    "7- 10"
   ]
  },
  {
   "cell_type": "markdown",
   "metadata": {},
   "source": [
    "**Note:** usually it doesn't matter if you use spaces between numbers and symbols, however you may want to do so in order to improve code readability."
   ]
  },
  {
   "cell_type": "markdown",
   "metadata": {},
   "source": [
    "Multiplying (we use the `*` sign to multiply)"
   ]
  },
  {
   "cell_type": "code",
   "execution_count": null,
   "metadata": {},
   "outputs": [],
   "source": [
    "2 * 5"
   ]
  },
  {
   "cell_type": "markdown",
   "metadata": {},
   "source": [
    "Dividing (use the `/` sign):"
   ]
  },
  {
   "cell_type": "code",
   "execution_count": null,
   "metadata": {},
   "outputs": [],
   "source": [
    "4 / 2"
   ]
  },
  {
   "cell_type": "markdown",
   "metadata": {},
   "source": [
    "Note that when dividing integers, a floating point type value (i.e. a decimal) will be returned. It is important to note that in previous versions of python (v2.7 and lower) only integer types (i.e. whole numbers) would be returned, resulting in a rounding down of values. This very specific difference between versions is a frequent source of errors when porting python code. If integer division (i.e. a division that returns only whole numbers) is required, the `//` operation can be used instead.\n",
    "\n",
    "for example:"
   ]
  },
  {
   "cell_type": "code",
   "execution_count": null,
   "metadata": {},
   "outputs": [],
   "source": [
    "# This division will return a non-whole number result (float type)\n",
    "7 / 4"
   ]
  },
  {
   "cell_type": "code",
   "execution_count": null,
   "metadata": {},
   "outputs": [],
   "source": [
    "# With integer division a whole number is returned (same as using '/' in python 2.7 and lower)\n",
    "7 // 4"
   ]
  },
  {
   "cell_type": "markdown",
   "metadata": {},
   "source": [
    "Powers, eg. $4^2$ , (using 2 consecutive `*` symbols):"
   ]
  },
  {
   "cell_type": "code",
   "execution_count": null,
   "metadata": {},
   "outputs": [],
   "source": [
    "4 ** 2"
   ]
  },
  {
   "cell_type": "markdown",
   "metadata": {},
   "source": [
    "Modular arithmetic (or integer remainders), is done using the `%` symbol:"
   ]
  },
  {
   "cell_type": "code",
   "execution_count": null,
   "metadata": {},
   "outputs": [],
   "source": [
    "12 % 4"
   ]
  },
  {
   "cell_type": "code",
   "execution_count": null,
   "metadata": {},
   "outputs": [],
   "source": [
    "13 % 4"
   ]
  },
  {
   "cell_type": "code",
   "execution_count": null,
   "metadata": {},
   "outputs": [],
   "source": [
    "17 % 4"
   ]
  },
  {
   "cell_type": "markdown",
   "metadata": {},
   "source": [
    "So how big can a python integer be?\n",
    "\n",
    "In most programming languages, integers and floats are limited by the amount of memory allocated to them (you'll often hear the words \"64 bit integer\"). In Python 3, integers have an unlimited size, so that maximum value you can give them is only limited to the amount of memory your computer has. You will however find that processing times get much longer as you work with increasingly large numbers."
   ]
  },
  {
   "cell_type": "markdown",
   "metadata": {},
   "source": [
    "## 1.3 Floating point values"
   ]
  },
  {
   "cell_type": "markdown",
   "metadata": {},
   "source": [
    "As introduced in section 1.2, a floating point value is a decimal, and python can tell we are using floating points when we use a decimal point in the number.\n",
    "\n",
    "For example:"
   ]
  },
  {
   "cell_type": "code",
   "execution_count": null,
   "metadata": {},
   "outputs": [],
   "source": [
    "8.23"
   ]
  },
  {
   "cell_type": "code",
   "execution_count": null,
   "metadata": {},
   "outputs": [],
   "source": [
    "5.0"
   ]
  },
  {
   "cell_type": "markdown",
   "metadata": {},
   "source": [
    "We don't necessarily need to put any numbers after the floating point, eg, 5. is the same as 5.0:"
   ]
  },
  {
   "cell_type": "code",
   "execution_count": null,
   "metadata": {},
   "outputs": [],
   "source": [
    "5."
   ]
  },
  {
   "cell_type": "markdown",
   "metadata": {},
   "source": [
    "We can also perform operations on floating point values, like before.\n",
    "    "
   ]
  },
  {
   "cell_type": "markdown",
   "metadata": {},
   "source": [
    "### Exercise 1.3.1"
   ]
  },
  {
   "cell_type": "markdown",
   "metadata": {},
   "source": [
    "Write code to find:\n",
    "    \n",
    "a) $8.3 + 4$\n",
    "\n",
    "b) $5.1$ x $2.5$\n",
    "\n",
    "c) $10$ / $3$ (the answer should be a floating point value)\n",
    "\n",
    "d) $8.1^3$"
   ]
  },
  {
   "cell_type": "code",
   "execution_count": null,
   "metadata": {},
   "outputs": [],
   "source": [
    "# Exercise 1.3.1 a)\n",
    "8.3 + 4"
   ]
  },
  {
   "cell_type": "code",
   "execution_count": null,
   "metadata": {},
   "outputs": [],
   "source": [
    "# Exercise 1.3.1 b)\n",
    "5.1 * 2.5"
   ]
  },
  {
   "cell_type": "code",
   "execution_count": null,
   "metadata": {},
   "outputs": [],
   "source": [
    "# Exercise 1.3.1 c)\n",
    "10 / 3"
   ]
  },
  {
   "cell_type": "code",
   "execution_count": null,
   "metadata": {},
   "outputs": [],
   "source": [
    "# Exercise 1.3.1 d)\n",
    "8.1 ** 3 # (or 8.1 * 8.1 * 8.1)"
   ]
  },
  {
   "cell_type": "markdown",
   "metadata": {},
   "source": [
    "### Floating point precision"
   ]
  },
  {
   "cell_type": "markdown",
   "metadata": {},
   "source": [
    "Floating point arithmetic is not exact, because computers work in base 2, which means that numbers like `1/10` are not stored exactly.\n",
    "\n",
    "Usually this is not a problem - floating point values are correct to ~17 significant figures on modern computers - however, it can mean that small errors creep in:"
   ]
  },
  {
   "cell_type": "code",
   "execution_count": null,
   "metadata": {},
   "outputs": [],
   "source": [
    "0.1 + 0.1 + 0.1"
   ]
  },
  {
   "cell_type": "markdown",
   "metadata": {},
   "source": [
    "When adding several small and large numbers together, you can find that your answer will eventually diverge from it's exact solution.\n",
    "\n",
    "This is a common problem in computer science, and several approaches such as parallel and Kahan summation have been proposed to avoid this problem. A discussion of these methods goes beyond the scope of this tutorial, however for more information on this, we recommended looking at resources such as; \"Accuracy and Stability of Numerical Algorithms\" by Nicholas J. Higham."
   ]
  },
  {
   "cell_type": "markdown",
   "metadata": {},
   "source": [
    "### Exercise 1.3.2"
   ]
  },
  {
   "cell_type": "markdown",
   "metadata": {},
   "source": [
    "Find $(1/10)^5$\n",
    "\n",
    "How accurate is the answer?"
   ]
  },
  {
   "cell_type": "code",
   "execution_count": null,
   "metadata": {},
   "outputs": [],
   "source": [
    "# Exercise 1.3.2\n",
    "0.1 ** 5"
   ]
  },
  {
   "cell_type": "markdown",
   "metadata": {},
   "source": [
    "## 1.4 Other types of objects"
   ]
  },
  {
   "cell_type": "markdown",
   "metadata": {},
   "source": [
    "Many different types of python objects exist. Here we cover some other common object types which can be obtained by grouping strings, integers and floating point values into new ojbects:\n",
    "- Lists; surrounded by square brackets, `[ ]`, succesive entries are separated by `,`.  These are used a lot.\n",
    "- Tuples; surrounded by round brackets, `( )`, succesive entries are separated by `,`. Like a list except that, once specified, its elements can't be changed.\n",
    "- Dictionaries; surrounded by curly brackets, `{ }`, succesive entries are separated by `,`. These are lists of `key:value` pairs, where each entry is indexed by the contents of the `key`."
   ]
  },
  {
   "cell_type": "markdown",
   "metadata": {},
   "source": [
    "A list of integers:"
   ]
  },
  {
   "cell_type": "code",
   "execution_count": null,
   "metadata": {},
   "outputs": [],
   "source": [
    "[1, 6, 3, 0]"
   ]
  },
  {
   "cell_type": "markdown",
   "metadata": {},
   "source": [
    "A tuple of integers:"
   ]
  },
  {
   "cell_type": "code",
   "execution_count": null,
   "metadata": {},
   "outputs": [],
   "source": [
    "(6,1,3)"
   ]
  },
  {
   "cell_type": "markdown",
   "metadata": {},
   "source": [
    "A dictionary, eg. of exam scores for each person in a class (as string-float pairs):"
   ]
  },
  {
   "cell_type": "code",
   "execution_count": null,
   "metadata": {},
   "outputs": [],
   "source": [
    "{'Andy':2.0, 'Vivek':6.1, 'Sian':9.5, 'Chen':3.6}"
   ]
  },
  {
   "cell_type": "markdown",
   "metadata": {},
   "source": [
    "There are also many operations we can perform on these object types, eg. adding two lists.\n",
    "\n",
    "The types of operation you can perform will depend on the type of object (eg. try adding two dictionaries).\n",
    "\n",
    "We will come back to lists, tuples and dictionaries later on."
   ]
  },
  {
   "cell_type": "markdown",
   "metadata": {},
   "source": [
    "## 1.5 Checking what type of object we have"
   ]
  },
  {
   "cell_type": "markdown",
   "metadata": {},
   "source": [
    "We can check what type of object we are dealing with using the `type()` function.\n",
    "\n",
    "For example:\n"
   ]
  },
  {
   "cell_type": "code",
   "execution_count": null,
   "metadata": {},
   "outputs": [],
   "source": [
    "type('what type of object is this?')"
   ]
  },
  {
   "cell_type": "code",
   "execution_count": null,
   "metadata": {},
   "outputs": [],
   "source": [
    "type(4.)"
   ]
  },
  {
   "cell_type": "code",
   "execution_count": null,
   "metadata": {},
   "outputs": [],
   "source": [
    "type(3/4)"
   ]
  },
  {
   "cell_type": "code",
   "execution_count": null,
   "metadata": {},
   "outputs": [],
   "source": [
    "type([8,1])"
   ]
  },
  {
   "cell_type": "markdown",
   "metadata": {},
   "source": [
    "## Review\n",
    "\n",
    "In section 1.1 we covered:\n",
    "- Strings, surrounded by either `'single quotes'` or `\"double quotes\"`.\n",
    "- Printing strings.\n",
    "- Adding strings together.\n",
    "- Quotes within a string, either using `\"double\"` or `'single quotes'`, or using `\\`.\n",
    "- Inserting a new line into your string, with a new line character, `\\n`, or `'''triple quotes'''`.\n",
    "\n",
    "In section 1.2 we covered:\n",
    "- Addition `+`.\n",
    "- Substraction `-`.\n",
    "- Multiplication `*`.\n",
    "- Division and differences from older version of python (`/` and `//`).\n",
    "- Power operations `**`.\n",
    "- Modulo arithmetics `%`.\n",
    "- Python integer size limits.\n",
    "\n",
    "In section 1.3 we covered:\n",
    "- Defining floating points (by using a decimal point, `.`, in the number).\n",
    "- Performing addition, substraction, multiplication, and powers with floating points.\n",
    "- Issues with the precision of floating point values.\n",
    "\n",
    "In section 1.4 we covered:\n",
    "- Additional types of objects, including; lists, tuples, and dictionaries.\n",
    "\n",
    "In section 1.5 we covered:\n",
    "- How to check the type of an object using the `type()` function.\n"
   ]
  }
 ],
 "metadata": {
  "kernelspec": {
   "display_name": "Python 3",
   "language": "python",
   "name": "python3"
  },
  "language_info": {
   "codemirror_mode": {
    "name": "ipython",
    "version": 3
   },
   "file_extension": ".py",
   "mimetype": "text/x-python",
   "name": "python",
   "nbconvert_exporter": "python",
   "pygments_lexer": "ipython3",
   "version": "3.7.3"
  }
 },
 "nbformat": 4,
 "nbformat_minor": 1
}
