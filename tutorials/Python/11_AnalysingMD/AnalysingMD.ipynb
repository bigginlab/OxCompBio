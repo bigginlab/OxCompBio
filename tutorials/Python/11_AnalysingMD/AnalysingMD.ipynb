{
 "cells": [
  {
   "cell_type": "markdown",
   "metadata": {},
   "source": [
    "# 11. Working with MDAnalysis"
   ]
  },
  {
   "cell_type": "markdown",
   "metadata": {},
   "source": [
    "MDAnalysis is one of the more popular libraries for processing structures and trajectories.\n",
    "\n",
    "To use MDAnalysis, you must first import the relevant functions you want to use. For the purposes\n",
    "of this tutorial, let's put together all you have learned so far into one final exercise.\n",
    "\n",
    "In this exercise, you will need to calculate, plot, and save to file the change in the phi and psi\n",
    "dihedrals of alanine di-peptide from a given trajectory."
   ]
  },
  {
   "cell_type": "markdown",
   "metadata": {},
   "source": [
    "## 11.1 The MDAnalysis Universe module"
   ]
  },
  {
   "cell_type": "markdown",
   "metadata": {},
   "source": [
    "To work with structures and trajectories in MDAnalysis, you must first create an MDAnalysis Universe.\n",
    "\n",
    "To do this, you import the MDAnalysis Universe module:"
   ]
  },
  {
   "cell_type": "code",
   "execution_count": null,
   "metadata": {},
   "outputs": [],
   "source": [
    "from MDAnalysis import Universe"
   ]
  },
  {
   "cell_type": "markdown",
   "metadata": {},
   "source": [
    "You then load the structure file into the Universe with:"
   ]
  },
  {
   "cell_type": "code",
   "execution_count": null,
   "metadata": {},
   "outputs": [],
   "source": [
    "alanine = Universe('ALA.pdb')"
   ]
  },
  {
   "cell_type": "markdown",
   "metadata": {},
   "source": [
    "** Note**: We could have also used `import MDAnalyis`, in which case we would have to use `MDAnalysis.Universe` in place of `Universe`. The `from ... import ...` syntax allows us to import only a sub-module from a module, rather than the full thing, which can be convinient in various circumstances."
   ]
  },
  {
   "cell_type": "markdown",
   "metadata": {},
   "source": [
    "A Universe is a 'class', a python object we haven't talked about yet, but it essentially allows us to group together a bunch of related information and relevant functions for working with it. A Universe stores all the information of the atoms in your structure, including\n",
    "\n",
    "Names\n",
    "\n",
    "Type\n",
    "\n",
    "Positions (i.e. coordinates)\n",
    "\n",
    "Bonds\n",
    "\n",
    "and so on. This could be very useful if you are trying to measure distances or dihedrals. For when we add a trajectory later on, the Universe also stores information like the current frame number, etc. We call `alanine` an 'instance' of the Universe class.\n",
    "\n",
    "You can check the different properties of your universe using MDAnalysis. The general syntax for this is `universename.attributename`; some properties (attributes) are themselves classes (e.g. `alanine.atoms` groups all the information about our atoms) and will have their own attributes. For example, if you want to check the names of the atoms of your structure, you can type\n",
    "\n",
    "alanine.atoms.names"
   ]
  },
  {
   "cell_type": "code",
   "execution_count": null,
   "metadata": {},
   "outputs": [],
   "source": [
    "alanine.atoms.names"
   ]
  },
  {
   "cell_type": "markdown",
   "metadata": {
    "collapsed": true
   },
   "source": [
    "###### How would you find the values of the Phi and Psi dihedral angles of alanine dipeptide, in degrees or radians?"
   ]
  },
  {
   "cell_type": "markdown",
   "metadata": {},
   "source": [
    "Hint: the Phi dihedral is calculated from atoms CLP, NL, CA, and CRP, and the Psi dihedral is calculated using atoms NR, CRP, CA, and NL.\n",
    "\n",
    "For this we can make use of the built-in functions associated with the Universe class (or 'methods'). We can use `select_atoms(selection)` to isolate a group of atoms that match `selection`; the syntax of the selections strings is generally the same as for VMD (which you may have used in day 1 of this workshop). `alanine.select_atoms(selection)` will give us an 'atom group' instance. We can then used this instance's method `dihedral` to turn four atoms into a 'dihedral' instance, and finally using `value()` on this instance will return the (current) value of that dihedral angle."
   ]
  },
  {
   "cell_type": "code",
   "execution_count": null,
   "metadata": {},
   "outputs": [],
   "source": [
    "print(type(alanine))\n",
    "print(type(alanine.select_atoms('name CLP NL CA CRP')))\n",
    "print(type(alanine.select_atoms('name CLP NL CA CRP').dihedral))\n",
    "\n",
    "phi = alanine.select_atoms('name CLP NL CA CRP').dihedral.value()\n",
    "psi = alanine.select_atoms('name NR CRP CA NL').dihedral.value()\n",
    "print('The Phi dihedral is {:.2f} in degrees and {:.2f} in radians'.format(phi, numpy.deg2rad(phi)))\n",
    "print('The Phi dihedral is {:.2f} in degrees and {:.2f} in radians'.format(psi, numpy.deg2rad(psi)))"
   ]
  },
  {
   "cell_type": "markdown",
   "metadata": {
    "collapsed": true
   },
   "source": [
    "###### How would you plot the change in Phi and Psi (in two plot, or all in the same plot)?"
   ]
  },
  {
   "cell_type": "markdown",
   "metadata": {},
   "source": [
    "In order to do this, let's break the process down into small steps.\n",
    "\n",
    "You will first need to load the trajectory. The format to do this is:\n",
    "\n",
    "universe_name = Universe(PDBfile, TRJfile)\n",
    "\n",
    "In our case, the PDB file is called 'ALA.pdb' and the TRJ file is called 'ALA.xtc'."
   ]
  },
  {
   "cell_type": "code",
   "execution_count": null,
   "metadata": {},
   "outputs": [],
   "source": [
    "# Exercise 11.1.1: Create a Universe called 'ala_trajectory' using the PDB file 'ALA.pdb' \n",
    "# and the trajectory file 'ALA.xtc'"
   ]
  },
  {
   "cell_type": "markdown",
   "metadata": {},
   "source": [
    "Now that you have a Universe with your trajectory, we can access another feature of the Universe: trajectory data.\n",
    "\n",
    "Let's try something simple now. Write a quick 'for' loop that prints the frame number.\n",
    "\n",
    "You can tell Python to pring the frame number using:\n",
    "\n",
    "`ala_trajectory.trajectory.frame`\n"
   ]
  },
  {
   "cell_type": "code",
   "execution_count": null,
   "metadata": {},
   "outputs": [],
   "source": [
    "# Exercise 11.1.2: Print the current frame number."
   ]
  },
  {
   "cell_type": "markdown",
   "metadata": {},
   "source": [
    "A `Universe.trajectory` acts kind of like a list storing each frame in a simulation and various information about is, so we can loop through it the same way we did for lists above. As we go through each frame, the coordinates of each atom, stored in Universe.atoms, will be updated."
   ]
  },
  {
   "cell_type": "markdown",
   "metadata": {},
   "source": [
    "Remind yourself of how to construct a 'for' loop.\n",
    "\n",
    "Now, loop through the trajectory."
   ]
  },
  {
   "cell_type": "code",
   "execution_count": null,
   "metadata": {},
   "outputs": [],
   "source": [
    "# when using mdanalysis, each frame is conventionally called a 'timestep' or 'ts'\n",
    "for ts in ala_trajectory.trajectory:\n",
    "    # the comma at the end here will stop it printing on a new line every time,\n",
    "    # so this doesn't take up too much space\n",
    "    print(ts.frame)"
   ]
  },
  {
   "cell_type": "markdown",
   "metadata": {},
   "source": [
    "That's half the work done!\n",
    "\n",
    "Now, use the same logic as Exercise 11.1 to print the phi and psi dihedral angles."
   ]
  },
  {
   "cell_type": "code",
   "execution_count": null,
   "metadata": {},
   "outputs": [],
   "source": [
    "# Exercise 11.1.3: Print the frame number and at least one of the dihedrals."
   ]
  },
  {
   "cell_type": "markdown",
   "metadata": {},
   "source": [
    "\n",
    "Now that you can access both the frame number and the phi and psi dihedrals, it's time to plot them.\n",
    "\n",
    "Let's write a little bit more this time. First, import pyplot from matplotlib. Then create three empty \n",
    "lists (frames, all_phi, and all_psi, for example). Then fill each of those lists with the relevant values.\n",
    "\n",
    "Make sure you comment your code at every step, just so you don't forget what the code is doing!"
   ]
  },
  {
   "cell_type": "code",
   "execution_count": null,
   "metadata": {},
   "outputs": [],
   "source": [
    "# We need pyplot from matplotlib to plot the dihedrals\n",
    "\n",
    "# Let's create a variable with the length of our trajectory\n",
    "\n",
    "# Create three empty lists\n",
    "\n",
    "# iterate through the trajectory\n",
    "    \n",
    "    # calculate phi and psi\n",
    "    \n",
    "    # append frame number, phi, and psi to the lists\n",
    "\n",
    "\n",
    "# Check the contents of the lists"
   ]
  },
  {
   "cell_type": "markdown",
   "metadata": {},
   "source": [
    "Nearly there!\n",
    "\n",
    "Now plot the time series of the dihedrals.\n",
    "\n",
    "You can plot a line graph using\n",
    "\n",
    "pyplot.plot(x_value, y_value)\n",
    "\n",
    "then show the plot using pyplot.show()"
   ]
  },
  {
   "cell_type": "code",
   "execution_count": null,
   "metadata": {},
   "outputs": [],
   "source": [
    "%matplotlib inline\n",
    "# Exercise 11.1.5: Plot your data here"
   ]
  },
  {
   "cell_type": "markdown",
   "metadata": {},
   "source": [
    "Optional exercise: Make your plot presentable.\n",
    "\n",
    "You can use `pyplot.xlim()`, `pyplot.ylim()`, `pyplot.xlabel()`, and `pyplot.ylabel()` to adjust your plot.\n",
    "\n",
    "`pyplot.title()` adds a title.\n",
    "\n",
    "Check the help for these functions for more details!"
   ]
  },
  {
   "cell_type": "markdown",
   "metadata": {
    "collapsed": true
   },
   "source": [
    "## 11.2 Analysing a protein simulation"
   ]
  },
  {
   "cell_type": "markdown",
   "metadata": {},
   "source": [
    "In day 1 of this workshop you did some molecular dynamics simulations of a HIV-1 protease protein using gromacs.\n",
    "Let's now look at how you could use MDAnalysis, and an associated python visulisation library NGLview, to analyse the trajectory you generated."
   ]
  },
  {
   "cell_type": "markdown",
   "metadata": {},
   "source": [
    "### Visualising the trajectory using nglview"
   ]
  },
  {
   "cell_type": "markdown",
   "metadata": {},
   "source": [
    "The nglview library is a python widget for visualising simulation trajectories, achieving a similar task to the VMD program that you will have used on day 1. One of the interesting advantages of nglview is that it interfaces directly with analysis packages such as MDAnalysis and runs within jupyter notebooks.\n",
    "\n",
    "Let's see how we can use nglview to visualise an MDAnalysis universe object.\n",
    "\n",
    "First we need to create a universe (let's call it protein) from the simulation output files \"pre_md.pdb\" and \"md_cent.xtc\".\n",
    "\n",
    "_Note: we have pre-aligned the trajectory to the first frame for you so as to remove any motions related to translation._"
   ]
  },
  {
   "cell_type": "code",
   "execution_count": null,
   "metadata": {},
   "outputs": [],
   "source": [
    "# Exercise 11.2.1: Let's load a universe named protein"
   ]
  },
  {
   "cell_type": "markdown",
   "metadata": {},
   "source": [
    "Next let's load nglview and use it's show_mdanalysis function to load the MDAnalysis universe"
   ]
  },
  {
   "cell_type": "code",
   "execution_count": null,
   "metadata": {},
   "outputs": [],
   "source": [
    "import nglview\n",
    "protein_view = nglview.show_mdanalysis(protein)"
   ]
  },
  {
   "cell_type": "markdown",
   "metadata": {},
   "source": [
    "By default this pre-sets the nglviewer to show the protein in the cartoon representation. Let's add a few options to colour the protein by secondary structure, show water oxygens and change the background colour"
   ]
  },
  {
   "cell_type": "code",
   "execution_count": null,
   "metadata": {},
   "outputs": [],
   "source": [
    "# Let's update the cartoon representation to colour the protein by secondary structure\n",
    "protein_view.update_cartoon(color='sstruc')\n",
    "\n",
    "# We then add a transparent hyperball representation of the water oxygens \n",
    "#(play with the opacity value, see what you get)\n",
    "protein_view.add_hyperball('SOL and not hydrogen', opacity=0.4)\n",
    "\n",
    "# Let's change the display a little bit\n",
    "protein_view.parameters = dict(camera_type='orthographic', clip_dist=0)\n",
    "\n",
    "# Set the background colour to black\n",
    "protein_view.background = 'black'\n",
    "\n",
    "# Call protein_view to visualise the trajectory\n",
    "protein_view"
   ]
  },
  {
   "cell_type": "markdown",
   "metadata": {
    "collapsed": true
   },
   "source": [
    "The nglview output can be controlled in the following way:\n",
    "\n",
    "- play / pause button: play the trajectory \n",
    "- double click window: enter or exit full screen mode \n",
    "- left mouse button: rotate system \n",
    "- middle mouse wheel: zoom in/out \n",
    "- right mouse button: translate system \n"
   ]
  },
  {
   "cell_type": "markdown",
   "metadata": {},
   "source": [
    "As you can be seen from the trajectory, the HIV-1 protease structure does indeed move, but by how much? In the next section we will see how we can use MDAnalysis to quantify backbone fluctuations."
   ]
  },
  {
   "cell_type": "markdown",
   "metadata": {},
   "source": [
    "### Calculating the root-mean-square deviation"
   ]
  },
  {
   "cell_type": "markdown",
   "metadata": {},
   "source": [
    "In order to gain a quantitative description of how the HIV-1 protease moves in our simulation we can calculate the root-mean-square deviation (RMSD) of the protein backbone.\n",
    "\n",
    "The RMSD gives us an idea of how 'stable' our protein is when compared to our starting, static, structure. The lower the RMSD is the more stable we can say our protein is. \n",
    "\n",
    "The RMSD as a fucntion of time, $\\rho (t)$, can be defined by the following equation:\n",
    "\n",
    "\\begin{equation}\n",
    "\\\\\n",
    "\\rho (t) = \\sqrt{\\frac{1}{N}\\sum^N_{i=1}w_i\\big(\\mathbf{x}_i(t) - \\mathbf{x}^{\\text{ref}}_i\\big)^2}\n",
    "\\end{equation}\n",
    "\n",
    "Luckily MDAnalysis has it's own built in function to calcualte this, we can import it like we did before."
   ]
  },
  {
   "cell_type": "code",
   "execution_count": null,
   "metadata": {},
   "outputs": [],
   "source": [
    "from MDAnalysis.analysis.rms import RMSD as rmsd"
   ]
  },
  {
   "cell_type": "markdown",
   "metadata": {},
   "source": [
    "In order to calculate the RMSD for every frame in our trajectory we will need:\n",
    "\n",
    "- A reference structure\n",
    "- A universe object\n",
    "- A selection of atoms\n",
    "\n",
    "In our case the reference structure will be the HIV-1 protease structure in the first frame.\n",
    "\n",
    "Our universe object will be the 'protein' object we defined above.\n",
    "\n",
    "For our selection we will use the backbone atoms."
   ]
  },
  {
   "cell_type": "code",
   "execution_count": null,
   "metadata": {},
   "outputs": [],
   "source": [
    "ref = Universe('pre_md.pdb', 'md_cent.xtc')\n",
    "\n",
    "# Set the ref trajectory to the first frame\n",
    "ref.trajectory[0]"
   ]
  },
  {
   "cell_type": "markdown",
   "metadata": {},
   "source": [
    "Due to the way that GROMACS post processes the trajectory file we need to edit it slightly before running our RMSD.\n",
    "\n",
    "This is done by aligning all frames to the reference structure. "
   ]
  },
  {
   "cell_type": "code",
   "execution_count": null,
   "metadata": {},
   "outputs": [],
   "source": [
    "from MDAnalysis.analysis import align\n",
    "\n",
    "protein = Universe('pre_md.pdb', 'md_cent.xtc')\n",
    "align_strucs = align.AlignTraj(protein, ref, select=\"backbone\", weights=\"mass\", in_memory=True, verbose=True)\n",
    "\n",
    "R = align_strucs.run()"
   ]
  },
  {
   "cell_type": "markdown",
   "metadata": {},
   "source": [
    "You will have noticed that running this function stores it in the variable 'R', we can now access the RMSD values:"
   ]
  },
  {
   "cell_type": "code",
   "execution_count": null,
   "metadata": {},
   "outputs": [],
   "source": [
    "rmsd_data = R.rmsd"
   ]
  },
  {
   "cell_type": "markdown",
   "metadata": {},
   "source": [
    "Really, we'd like to visualise how the RMSD changes over time and this can be done in the same way you did in Excercise 11.1.5.\n",
    "\n",
    "Take a look at the 'rmsd_data' variable (it's a numpy array) and try plotting it below.\n",
    "\n",
    "You will need to access 'rmsd_data' (a numpy array) in order to plot both the time and the RMSD as a line plot.\n"
   ]
  },
  {
   "cell_type": "code",
   "execution_count": null,
   "metadata": {},
   "outputs": [],
   "source": [
    "# Excercise 11.2.2: Plot the RMSD data for the HIV-1 protease system. \n",
    "\n",
    "# Make sure to add appropriate axis titles.\n",
    "# What does the RMSD tell you about the protein?\n",
    "# [If you have time] What happens when you calculate the RMSD using more atoms (i.e. not just the backbone)"
   ]
  },
  {
   "cell_type": "markdown",
   "metadata": {},
   "source": [
    "### Calculating the root-mean-square fluctuation"
   ]
  },
  {
   "cell_type": "markdown",
   "metadata": {},
   "source": [
    "To look at how each residue flucuates over it's average postion we can use the closely related measurement of root-mean-square fluctuation (RMSF).\n",
    "\n",
    "The RMSF for an atom, $\\rho_i$, is given by:\n",
    "\n",
    "\\begin{equation}\n",
    "\\rho_i = \\sqrt{\\sum^N_{i=1} \\big\\langle(\\mathbf{x}_i - \\langle \\mathbf{x}_i \\rangle )^2 \\big\\rangle }\n",
    "\\end{equation}"
   ]
  },
  {
   "cell_type": "code",
   "execution_count": null,
   "metadata": {},
   "outputs": [],
   "source": [
    "from MDAnalysis.analysis.rms import RMSF as rmsf"
   ]
  },
  {
   "cell_type": "code",
   "execution_count": null,
   "metadata": {},
   "outputs": [],
   "source": [
    "# Reset the trajectory to the first frame\n",
    "protein.trajectory[0]\n",
    "\n",
    "# We will need to select the alpha Carbons only\n",
    "calphas = \n",
    "rmsf_calc = rmsf(calphas, verbose=True).run()"
   ]
  },
  {
   "cell_type": "code",
   "execution_count": null,
   "metadata": {},
   "outputs": [],
   "source": [
    "# Excercise 11.2.3: Plot the RMSF data for the HIV-1 protease system. \n",
    "    # Tip, in order to plot the resids you will need to access them through the rmsf_calc object\n",
    "\n",
    "# Make sure to add appropriate axis titles.\n",
    "# What parts of the protein have a high RMSF, can you locate these on the protein structure?\n",
    "# [If you have time] What happens when you calculate the RMSF using more atoms (i.e. not just the backbone)"
   ]
  }
 ],
 "metadata": {
  "kernelspec": {
   "display_name": "Python 3",
   "language": "python",
   "name": "python3"
  },
  "language_info": {
   "codemirror_mode": {
    "name": "ipython",
    "version": 3
   },
   "file_extension": ".py",
   "mimetype": "text/x-python",
   "name": "python",
   "nbconvert_exporter": "python",
   "pygments_lexer": "ipython3",
   "version": "3.7.3"
  }
 },
 "nbformat": 4,
 "nbformat_minor": 1
}
