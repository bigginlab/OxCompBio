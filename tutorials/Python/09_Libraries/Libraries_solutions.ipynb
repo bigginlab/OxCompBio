{
 "cells": [
  {
   "cell_type": "markdown",
   "metadata": {},
   "source": [
    "# 9. Python libraries"
   ]
  },
  {
   "cell_type": "markdown",
   "metadata": {},
   "source": [
    "## 9.1 Using libraries"
   ]
  },
  {
   "cell_type": "markdown",
   "metadata": {},
   "source": [
    "While creating your own functions can be incredibly useful, others may have done so already (and these might actually be faster).\n",
    "\n",
    "Often, these will come packaged as part of a wider python library."
   ]
  },
  {
   "cell_type": "markdown",
   "metadata": {},
   "source": [
    "A simple example of this is converting degree angles to radians.\n",
    "\n",
    "The basic formalism for this is:\n",
    "\n",
    "radians = degrees * pi / 180.0"
   ]
  },
  {
   "cell_type": "code",
   "execution_count": null,
   "metadata": {},
   "outputs": [],
   "source": [
    "# Exercise 9.1.1: Write a function that converts degrees to radians and convert 25 degrees to radians\n",
    "def deg2rad(angle):\n",
    "    pi = 3.141593\n",
    "    return angle * (pi / 180)\n",
    "\n",
    "deg2rad(65)"
   ]
  },
  {
   "cell_type": "markdown",
   "metadata": {},
   "source": [
    "However, the `math` python library already offers a function to do this, allowing you to perform the same operation without having to write all the above lines."
   ]
  },
  {
   "cell_type": "code",
   "execution_count": null,
   "metadata": {},
   "outputs": [],
   "source": [
    "import math\n",
    "math.radians(65)"
   ]
  },
  {
   "cell_type": "markdown",
   "metadata": {},
   "source": [
    "## 9.2 Importing libraries"
   ]
  },
  {
   "cell_type": "markdown",
   "metadata": {},
   "source": [
    "In the example above, we used the `math` library through the use of the `import` statement.\n",
    "\n",
    "In order to use any library you first must `import` it. For example to use the `string` library we do:"
   ]
  },
  {
   "cell_type": "code",
   "execution_count": null,
   "metadata": {},
   "outputs": [],
   "source": [
    "import string"
   ]
  },
  {
   "cell_type": "markdown",
   "metadata": {},
   "source": [
    "Sometimes you might want to import a library but call it something else than its standard name. For example, you might consider that the `random` library name it too long for you, and you want to instead call it as `rand`. To do this we import the library as an *alias* using the `import libraryname as newname` construct: "
   ]
  },
  {
   "cell_type": "code",
   "execution_count": null,
   "metadata": {},
   "outputs": [],
   "source": [
    "import random as rand"
   ]
  },
  {
   "cell_type": "markdown",
   "metadata": {},
   "source": [
    "We can now use `rand` just like we would have used `random` if we had plainly imported the module."
   ]
  },
  {
   "cell_type": "markdown",
   "metadata": {},
   "source": [
    "## 9.3 Using library functions and objects"
   ]
  },
  {
   "cell_type": "markdown",
   "metadata": {},
   "source": [
    "Python libraries often contain multiple functions and objects that can be accessed and used.\n",
    "To access a given function you only need to call it using the construct `libraryname.functioname()`.\n",
    "\n",
    "For example to use the `pi` variable in math we would just do:"
   ]
  },
  {
   "cell_type": "code",
   "execution_count": null,
   "metadata": {},
   "outputs": [],
   "source": [
    "import math\n",
    "math.pi"
   ]
  },
  {
   "cell_type": "markdown",
   "metadata": {},
   "source": [
    "Libraries usually contain lots of modules that themselves contain several functions.\n",
    "For example the commonly used `argarse` library (which is used to process arguments passed to python scripts), has an `ArgumentParser` object which is used for most argument parsing work.\n",
    "\n",
    "We can use it in the following way:"
   ]
  },
  {
   "cell_type": "code",
   "execution_count": null,
   "metadata": {},
   "outputs": [],
   "source": [
    "import argparse\n",
    "\n",
    "parser = argparse.ArgumentParser"
   ]
  },
  {
   "cell_type": "markdown",
   "metadata": {},
   "source": [
    "However, if we wanted to solely use the ArgumentParser object we could also selectively import the object using the `from` construct:"
   ]
  },
  {
   "cell_type": "code",
   "execution_count": null,
   "metadata": {},
   "outputs": [],
   "source": [
    "from argparse import ArgumentParser\n",
    "\n",
    "parser = ArgumentParser"
   ]
  },
  {
   "cell_type": "markdown",
   "metadata": {},
   "source": [
    "The exact means by which a given library's functions/objects/modules are used will differ from library to library. Whenever using a new library, we recommend that you spend time reading the library's Application Program Interface (API) documentation.\n",
    "\n",
    "For example, you can see the documentation for argparse here: https://docs.python.org/3/library/argparse.html"
   ]
  },
  {
   "cell_type": "markdown",
   "metadata": {},
   "source": [
    "## 9.4 A whole world of libraries"
   ]
  },
  {
   "cell_type": "markdown",
   "metadata": {},
   "source": [
    "One of the main advantages of python is that there are many different libraries which exist that can help you achieve any goal.\n",
    "\n",
    "The standard python distribution offers a limited about of libraries, termed the \"standard library\", details about them can be found here: https://docs.python.org/3/library/\n",
    "\n",
    "These include the above mentioned `math`, `random`, and `argparse` libraries.\n",
    "\n",
    "Beyond the \"standard library\", there are also many amazing community driver packages, here is a non-exhaustive list of them:\n",
    "\n",
    "- NumPy (http://www.numpy.org/) and SciPy (https://www.scipy.org/) are excellent libraries \n",
    "  that do a lot more that simple mathematical operations (like the Euclidean distance calculator above).\n",
    "  These also interface very well with plotting libraries.\n",
    "\n",
    "- Matplotlib (https://matplotlib.org/) is the most commonly used plotting library available. It is simple, \n",
    "  and can do a lot. Other plotting libraries, such as GGPlot (http://ggplot.yhathq.com/), SeaBorn   (https://seaborn.pydata.org/), and Bokeh (https://bokeh.pydata.org/en/latest/).\n",
    "\n",
    "-  Pandas (https://pandas.pydata.org/) is a great library to manipulate data structures. \n",
    "   Its ease of use makes it ideal to work with large data sets.\n",
    "\n",
    "-  MDAnalysis (https://www.mdanalysis.org/), MDTraj (http://mdtraj.org/1.9.0/), and \n",
    "   PyTraj (https://github.com/Amber-MD/pytraj), are some of the libraries used to process\n",
    "   Molecular Dynamics trajcetories and other files. These interface very well with \n",
    "   NumPy and Pandas and Matplotlib.\n",
    "\n",
    "-  SciKit-Learn (http://scikit-learn.org/stable/) for machine learning in Python.\n",
    "\n",
    "-  MPI4Py (http://mpi4py.readthedocs.io/en/stable/) allows Python scripts to be parallelised \n",
    "   (run over multiple processors).\n",
    "\n",
    "-  Cython (http://cython.org/) allows you to write parts of your code in C/C++, making it very fast.\n",
    "\n",
    "Each library will have its means of directly installing them, however keeping track of various installs and avoiding clashes between libraries can be quite tedious. We instead recommend that a package manager like `conda` be used instead.\n",
    "\n",
    "See here for more details about conda: https://www.anaconda.com/distribution/"
   ]
  }
 ],
 "metadata": {
  "kernelspec": {
   "display_name": "Python 3",
   "language": "python",
   "name": "python3"
  },
  "language_info": {
   "codemirror_mode": {
    "name": "ipython",
    "version": 3
   },
   "file_extension": ".py",
   "mimetype": "text/x-python",
   "name": "python",
   "nbconvert_exporter": "python",
   "pygments_lexer": "ipython3",
   "version": "3.7.3"
  }
 },
 "nbformat": 4,
 "nbformat_minor": 1
}
