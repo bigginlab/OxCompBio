{
 "cells": [
  {
   "cell_type": "markdown",
   "metadata": {},
   "source": [
    "# Help and documenting"
   ]
  },
  {
   "cell_type": "markdown",
   "metadata": {},
   "source": [
    "Python can be overwhelming, especially when you are reading someone else's scripts.\n",
    "\n",
    "There are two ways to make this simpler:\n",
    "    \n",
    "Comments on scripts\n",
    "\n",
    "Use the help module\n",
    "\n",
    "Comments are simple: using '#' before a line makes it a comment. The compiler will simply\n",
    "skip that line when processing your code. This means you can annotate all the little details \n",
    "of your code to help others following it better (and yourself, too!)."
   ]
  },
  {
   "cell_type": "markdown",
   "metadata": {},
   "source": [
    "The second part is also incredibly useful.\n",
    "\n",
    "The help module can give a lot of information on how to use certain functions.\n",
    "\n",
    "Try 'help(list)'"
   ]
  },
  {
   "cell_type": "code",
   "execution_count": null,
   "metadata": {},
   "outputs": [],
   "source": [
    "help(list)"
   ]
  },
  {
   "cell_type": "markdown",
   "metadata": {},
   "source": [
    "You can also use ? and ?? for even more detail (only works for some modules).\n",
    "\n",
    "? can give you information on how to use the functions (provided they have docstrigs, i.e. '''These''')\n",
    "?? will show you the code being run when you use the function.\n",
    "\n",
    "? and ?? works in IPython, and it opens a pop-up.\n",
    "\n",
    "You will have the chance to try it later on."
   ]
  }
 ],
 "metadata": {
  "kernelspec": {
   "display_name": "Python 3",
   "language": "python",
   "name": "python3"
  },
  "language_info": {
   "codemirror_mode": {
    "name": "ipython",
    "version": 3
   },
   "file_extension": ".py",
   "mimetype": "text/x-python",
   "name": "python",
   "nbconvert_exporter": "python",
   "pygments_lexer": "ipython3",
   "version": "3.6.7"
  }
 },
 "nbformat": 4,
 "nbformat_minor": 1
}
