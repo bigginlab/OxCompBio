{
 "cells": [
  {
   "cell_type": "markdown",
   "metadata": {},
   "source": [
    "# 3 Loops"
   ]
  },
  {
   "cell_type": "markdown",
   "metadata": {},
   "source": [
    "Sometimes you need to do repetitive tasks. Loops are the way to make your life easier."
   ]
  },
  {
   "cell_type": "markdown",
   "metadata": {},
   "source": [
    "## 3.1 While loops"
   ]
  },
  {
   "cell_type": "markdown",
   "metadata": {},
   "source": [
    "Let `number = 1` and you would like to add 1 until you reach 10 and each time print the value of the variable number to the screen. You could do it explicitly:"
   ]
  },
  {
   "cell_type": "code",
   "execution_count": null,
   "metadata": {},
   "outputs": [],
   "source": [
    "number = 1\n",
    "print(\"number is equal to %d now.\" % number)\n",
    "number +=1\n",
    "print(\"number is equal to %d now.\" % number)\n",
    "number +=1\n",
    "print(\"number is equal to %d now.\" % number)\n",
    "number +=1\n",
    "print(\"number is equal to %d now.\" % number)\n",
    "number +=1\n",
    "print(\"number is equal to %d now.\" % number)\n",
    "number +=1\n",
    "print(\"number is equal to %d now.\" % number)\n",
    "number +=1\n",
    "print(\"number is equal to %d now.\" % number)\n",
    "number +=1\n",
    "print(\"number is equal to %d now.\" % number)\n",
    "number +=1\n",
    "print(\"number is equal to %d now.\" % number)\n",
    "number +=1\n",
    "print(\"number is equal to %d now.\" % number)\n",
    "number +=1"
   ]
  },
  {
   "cell_type": "markdown",
   "metadata": {},
   "source": [
    "Or you can save yourself some time and just program this as a loop:"
   ]
  },
  {
   "cell_type": "code",
   "execution_count": null,
   "metadata": {},
   "outputs": [],
   "source": [
    "number = 1\n",
    "while number <= 10:\n",
    "    print(\"number is equal to %d now.\" % number)\n",
    "    number += 1"
   ]
  },
  {
   "cell_type": "markdown",
   "metadata": {},
   "source": [
    "The `while` loop is useful if you want to repeat a task while a certain statement is true. Here, this statement is `number <= 10`. The colon after the statement marks the beginning of the task(s) that are to be performed in the loop. Note also that in Python the task(s) to be done in the loop need to be indented."
   ]
  },
  {
   "cell_type": "markdown",
   "metadata": {},
   "source": [
    "#### Aside"
   ]
  },
  {
   "cell_type": "markdown",
   "metadata": {},
   "source": [
    "`'%d' % number` is an example of string formatting, in this case we're 'inserting' the value of variables into a string (use `%d` for a number and `%s` for a string). If you want to insert multiple variables, you can use e.g.: `'%d %s' % (num, str)`. This is 'old-style' formatting; you can also use the 'new-style' formatting: `'{} {}'.format(var1, var2)`. The new-style formatting lets us index our entries, which can be convineint."
   ]
  },
  {
   "cell_type": "code",
   "execution_count": null,
   "metadata": {},
   "outputs": [],
   "source": [
    "print('This is %d example of a formatted %s' % (1, 'string'))\n",
    "print ('This is the {}nd example of a formatted {}.'.format(2, 'string'))\n",
    "\n",
    "# indexing with new-style\n",
    "print('This is the {A} thing, here is the {B}, the {C}, and now the {A} again'.format(A='first', C='third', B='second'))"
   ]
  },
  {
   "cell_type": "markdown",
   "metadata": {},
   "source": [
    "Recent versions of Python (from 3.6 onwards) introduced f-string (format-string,`f\"\"` or `f''`), which are an extremely convenient for string formatting:"
   ]
  },
  {
   "cell_type": "code",
   "execution_count": null,
   "metadata": {},
   "outputs": [],
   "source": [
    "print(f\"'x' is of type {type(x)} and contains the value {x}\")"
   ]
  },
  {
   "cell_type": "markdown",
   "metadata": {},
   "source": [
    "Thus, by prepending our string with the letter `f`, we can use variables and valid Python expressions within `{}`. In the rest of the course we will prefer this new formatting style since it greatly improves readability and we strongly recommend the use of f-strings over other types of formatting"
   ]
  },
  {
   "cell_type": "markdown",
   "metadata": {
    "collapsed": true
   },
   "source": [
    "### Exercise 3.1\n",
    "\n",
    "Try what happens in the above example if you remove the colon or don't use indentation."
   ]
  },
  {
   "cell_type": "code",
   "execution_count": null,
   "metadata": {},
   "outputs": [],
   "source": [
    "# Exercise 3.1"
   ]
  },
  {
   "cell_type": "markdown",
   "metadata": {
    "collapsed": true
   },
   "source": [
    "A problem with while loops can be that eventually the condition under which they run is always true and then they run forever. Without the line \"number += 1\" in the above example, the loop would run forever and always print \"number is equal to 1 now.\" to the screen. Therefore, it is important to make sure that while loops terminate at some stage."
   ]
  },
  {
   "cell_type": "markdown",
   "metadata": {
    "collapsed": true
   },
   "source": [
    "If you already know how many times you want to execute a set of tasks, for loops are better suited."
   ]
  },
  {
   "cell_type": "markdown",
   "metadata": {
    "collapsed": true
   },
   "source": [
    "## 3.2 For loops"
   ]
  },
  {
   "cell_type": "markdown",
   "metadata": {},
   "source": [
    "You can equally write the above example as a for loop:"
   ]
  },
  {
   "cell_type": "code",
   "execution_count": null,
   "metadata": {},
   "outputs": [],
   "source": [
    "for number in range (1,11):\n",
    "    print(f\"number is equal to {number} now.\")"
   ]
  },
  {
   "cell_type": "markdown",
   "metadata": {},
   "source": [
    "Note that the range goes till 11, but the loop stops at 10. This is something where Python is not very intuitive. If you define ranges, Python will not include the last value of your range. Since number is an integer here, the last integer before 11 is 10."
   ]
  },
  {
   "cell_type": "markdown",
   "metadata": {},
   "source": [
    "###### Exercise 3.2.1\n",
    "\n",
    "Use both a `while` loop or a `for` loop to print out the first 10 entries in the 6 times table, i.e.:\n",
    "- 1x6=6\n",
    "- 2x6=12\n",
    "- ...\n",
    "- 10x6=60"
   ]
  },
  {
   "cell_type": "code",
   "execution_count": null,
   "metadata": {},
   "outputs": [],
   "source": [
    "# Exercise 3.2.1"
   ]
  },
  {
   "cell_type": "markdown",
   "metadata": {},
   "source": [
    "You can also use loops within loops - as many as you like. Just keep good track using indentations!"
   ]
  },
  {
   "cell_type": "markdown",
   "metadata": {},
   "source": [
    "###### Exercise 3.2.2\n",
    "\n",
    "Use nested loops to calculate the matrix product of the two matrices:\n",
    "\n",
    "  \\begin{bmatrix}\n",
    "    1 & 2  \\\\\n",
    "    3 & 4\n",
    "  \\end{bmatrix}\n",
    "  \n",
    "  and\n",
    "  \n",
    "  \\begin{bmatrix}\n",
    "    -3 & 1  \\\\\n",
    "    4 & -2\n",
    "  \\end{bmatrix}\n",
    "\n",
    "Note: You can define each matrix as a numpy array (see section 10). You might want to work through section 10 first and then come back and try this exercise."
   ]
  },
  {
   "cell_type": "code",
   "execution_count": null,
   "metadata": {},
   "outputs": [],
   "source": [
    "# Exercise 3.2.2"
   ]
  },
  {
   "cell_type": "code",
   "execution_count": null,
   "metadata": {},
   "outputs": [],
   "source": [
    "# There are other (easier) ways of going about this, e.g. the numpy library provides a function for this:\n",
    "import numpy as np\n",
    "\n",
    "np.dot(A, B)\n",
    "# But this exercise demonstrates how we can use nested loops!"
   ]
  },
  {
   "cell_type": "markdown",
   "metadata": {},
   "source": [
    "### Range"
   ]
  },
  {
   "cell_type": "markdown",
   "metadata": {},
   "source": [
    "If you want to loop over a range of numbers, you can loop over `range`. `range(start, stop)` allow to define a `[start, stop)` range. If `start` is omitted, `start=0` is assumed:"
   ]
  },
  {
   "cell_type": "code",
   "execution_count": null,
   "metadata": {},
   "outputs": [],
   "source": [
    "for i in range(5):\n",
    "    print(i)"
   ]
  },
  {
   "cell_type": "code",
   "execution_count": null,
   "metadata": {},
   "outputs": [],
   "source": [
    "for i in range(-5, 5):\n",
    "    print(i)"
   ]
  },
  {
   "cell_type": "markdown",
   "metadata": {},
   "source": [
    "The `range` function accepts a third argument that allows to modify the step size (default `1`). The full signature of `range` is therefore `range(start, stop, step)`."
   ]
  },
  {
   "cell_type": "code",
   "execution_count": null,
   "metadata": {},
   "outputs": [],
   "source": [
    "for i in range(-5, 5, 2):\n",
    "    print(i)"
   ]
  },
  {
   "cell_type": "markdown",
   "metadata": {},
   "source": [
    "## Review:\n",
    "\n",
    "In this section, we have covered:\n",
    "- Loops to do repetitive tasks\n",
    "- The while loop\n",
    "- The for loop"
   ]
  }
 ],
 "metadata": {
  "kernelspec": {
   "display_name": "Python 3",
   "language": "python",
   "name": "python3"
  },
  "language_info": {
   "codemirror_mode": {
    "name": "ipython",
    "version": 3
   },
   "file_extension": ".py",
   "mimetype": "text/x-python",
   "name": "python",
   "nbconvert_exporter": "python",
   "pygments_lexer": "ipython3",
   "version": "3.6.7"
  }
 },
 "nbformat": 4,
 "nbformat_minor": 1
}
