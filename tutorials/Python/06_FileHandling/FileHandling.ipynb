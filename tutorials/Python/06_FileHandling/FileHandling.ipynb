{
 "cells": [
  {
   "cell_type": "markdown",
   "metadata": {},
   "source": [
    "# 6. Reading and writing files"
   ]
  },
  {
   "cell_type": "markdown",
   "metadata": {},
   "source": [
    "One important aspect of using Python is being able to read and write files. To do this you use the `open` command:\n",
    "\n",
    "```\n",
    "open(filename-in-quotes, mode)\n",
    "```\n",
    "\n",
    "In place of `mode` you can specify:\n",
    "- `'r'`, to open a file you want to read\n",
    "- `'w'`, to open a file that you want to write (starting a new file).\n",
    "- `'a'`, to open a file that you want to append to (adding to an existing file).\n",
    "\n",
    "So, to open a file with filename `file1.txt` in \"read\" mode:\n",
    "\n",
    "```\n",
    "open('file1.txt', 'r')\n",
    "```\n",
    "\n",
    "To open a file, `file2.txt`, in \"write\" mode:\n",
    "\n",
    "```\n",
    "open('file2.txt', 'w')\n",
    "```\n",
    "\n",
    "**CAREFUL: this will create a new file called `file2.txt`.  If you had an existing file named `file2.txt` it will be overwritten.**\n",
    "\n",
    "To open a file, `file3.txt`, in 'append' mode:\n",
    "\n",
    "```\n",
    "open('file3.txt', 'a')\n",
    "```\n",
    "\n",
    "If you don't specify the mode, the default is `'r'`.\n",
    "\n",
    "## 6.1 Reading files\n",
    "\n",
    "When we open a file in 'read' mode, we will also want to be able to access what has been read.\n",
    "\n",
    "To start with, we will create an opened file object and set it as a new variable, `f`.  (You could change `f` to whatever you want!):"
   ]
  },
  {
   "cell_type": "code",
   "execution_count": null,
   "metadata": {},
   "outputs": [],
   "source": [
    "f = open('datafiles/file1.txt', 'r')"
   ]
  },
  {
   "cell_type": "markdown",
   "metadata": {},
   "source": [
    "The file object, `f`, is an *iterator*, that is we can iterate through the file object (using a `for` loop) to obtain each new line in the file.  We can then perform some operation on each line of the file.\n",
    "\n",
    "For example, if we just want to print each line in the file:"
   ]
  },
  {
   "cell_type": "code",
   "execution_count": null,
   "metadata": {},
   "outputs": [],
   "source": [
    "for line in f:\n",
    "    print(line)"
   ]
  },
  {
   "cell_type": "markdown",
   "metadata": {},
   "source": [
    "Open the file, `file1.txt`, in a text editor and check that the file indeed contains the lines we printed above.\n",
    "\n",
    "Once we have iterated once through the file object, *f*, it is empty, so if we do the same thing again, nothing will happen:"
   ]
  },
  {
   "cell_type": "code",
   "execution_count": null,
   "metadata": {},
   "outputs": [],
   "source": [
    "for line in f:\n",
    "    print(line)"
   ]
  },
  {
   "cell_type": "markdown",
   "metadata": {},
   "source": [
    "If we want to read the lines again, we need to close the file object, using `f.close()`, and reopen the file:\n"
   ]
  },
  {
   "cell_type": "code",
   "execution_count": null,
   "metadata": {},
   "outputs": [],
   "source": [
    "f.close()\n",
    "f = open(\"datafiles/file1.txt\", \"r\")"
   ]
  },
  {
   "cell_type": "markdown",
   "metadata": {},
   "source": [
    "Now we can read the lines in the file again:"
   ]
  },
  {
   "cell_type": "code",
   "execution_count": null,
   "metadata": {},
   "outputs": [],
   "source": [
    "for line in f:\n",
    "    print(line)"
   ]
  },
  {
   "cell_type": "markdown",
   "metadata": {},
   "source": [
    "Let's close the file object again, so we don't have it hanging around!"
   ]
  },
  {
   "cell_type": "code",
   "execution_count": null,
   "metadata": {},
   "outputs": [],
   "source": [
    "f.close()"
   ]
  },
  {
   "cell_type": "markdown",
   "metadata": {},
   "source": [
    "If you only wanted to read through the contents of the file once, this would be fine, but it is quite a nuisance if you want to refer back to the lines in the file later on.\n",
    "\n",
    "Instead, we can convert the file object to a list, which then gives us a list of the lines in the file, that we can go back to:"
   ]
  },
  {
   "cell_type": "code",
   "execution_count": null,
   "metadata": {},
   "outputs": [],
   "source": [
    "# First open the file object\n",
    "file_object = open(\"datafiles/file1.txt\", \"r\")\n",
    "# Then we convert it to a list\n",
    "file_list = list(file_object)\n",
    "# Let's print the contents of the list\n",
    "print(file_list)\n",
    "# Finally we have to make sure that the file object is closed\n",
    "file_object.close()"
   ]
  },
  {
   "cell_type": "markdown",
   "metadata": {},
   "source": [
    "Note that:\n",
    "1. This is a list of string objects, and each string ends in a new line character.\n",
    "2. We can still use file_list to print out the lines of the file in a 'for' loop."
   ]
  },
  {
   "cell_type": "code",
   "execution_count": null,
   "metadata": {},
   "outputs": [],
   "source": [
    "for line in file_list:\n",
    "    print(line)"
   ]
  },
  {
   "cell_type": "markdown",
   "metadata": {},
   "source": [
    "You can also use the `readlines()` *method* function:"
   ]
  },
  {
   "cell_type": "code",
   "execution_count": null,
   "metadata": {},
   "outputs": [],
   "source": [
    "# First open the file object\n",
    "file_object = open(\"datafiles/file1.txt\",\"r\")\n",
    "# Then we use the readlines method to get all the lines\n",
    "file_list2 = file_object.readlines()\n",
    "# We close the file object for safety\n",
    "file_object.close()\n",
    "# We print the extracted list\n",
    "print(file_list2)"
   ]
  },
  {
   "cell_type": "markdown",
   "metadata": {},
   "source": [
    "But now we can use the functions that work on lists to access the lines in the file.\n",
    "\n",
    "Let's put that into practise with an exercise:"
   ]
  },
  {
   "cell_type": "markdown",
   "metadata": {},
   "source": [
    "### Exercise 6.1.1\n",
    "\n",
    "a) Print out just the first line in the file"
   ]
  },
  {
   "cell_type": "code",
   "execution_count": null,
   "metadata": {},
   "outputs": [],
   "source": [
    "# Exercise 6.1.1 a)"
   ]
  },
  {
   "cell_type": "markdown",
   "metadata": {},
   "source": [
    "b) Print out all except the first line in the file"
   ]
  },
  {
   "cell_type": "code",
   "execution_count": null,
   "metadata": {},
   "outputs": [],
   "source": [
    "# Exercise 6.1.1 b)"
   ]
  },
  {
   "cell_type": "markdown",
   "metadata": {},
   "source": [
    "c) Change the third peptide sequence from  'PLSDMASI' to 'PLSEMASI'"
   ]
  },
  {
   "cell_type": "code",
   "execution_count": null,
   "metadata": {},
   "outputs": [],
   "source": [
    "# Exercise 6.1.1 c)"
   ]
  },
  {
   "cell_type": "markdown",
   "metadata": {},
   "source": [
    "d) Add a new peptide sequence (YYVHNKSERFT) to the end of `file_list`"
   ]
  },
  {
   "cell_type": "code",
   "execution_count": null,
   "metadata": {},
   "outputs": [],
   "source": [
    "# Exercise 6.1.1 d)"
   ]
  },
  {
   "cell_type": "markdown",
   "metadata": {},
   "source": [
    "e) Now print all the peptide sequences again (without the first line)"
   ]
  },
  {
   "cell_type": "code",
   "execution_count": null,
   "metadata": {},
   "outputs": [],
   "source": [
    "# Exercise 6.1.1 e)"
   ]
  },
  {
   "cell_type": "markdown",
   "metadata": {},
   "source": [
    "## 6.2 Writing files\n",
    "\n",
    "To write the updated list of peptides to a new file we would need to open a new file, using \"write\" mode, and then use the `write` *method* fuction.\n",
    "\n",
    "The following example opens a new file, `file2.txt` (as mentioned above, we need to be careful that this file doesn't already exist, otherwise it will be overwritten), then writes three lines to the new file.  Notice that the argument to the `write` function is a single string. We make use of the new line character `\\n` as part of the string to make separate lines."
   ]
  },
  {
   "cell_type": "code",
   "execution_count": null,
   "metadata": {},
   "outputs": [],
   "source": [
    "file_object_2 = open('file2.txt', 'w')\n",
    "file_object_2.write('In this new file\\nthis is the second line\\n')"
   ]
  },
  {
   "cell_type": "markdown",
   "metadata": {},
   "source": [
    "Note: the write function returns the number of characters written to the file."
   ]
  },
  {
   "cell_type": "markdown",
   "metadata": {},
   "source": [
    "If I want to write more to the file I can do so by using the `write` function again:"
   ]
  },
  {
   "cell_type": "code",
   "execution_count": null,
   "metadata": {},
   "outputs": [],
   "source": [
    "file_object_2.write('and this is the third line\\n')"
   ]
  },
  {
   "cell_type": "markdown",
   "metadata": {},
   "source": [
    "Once finished writing to the file, we should close the file, using `close` as before."
   ]
  },
  {
   "cell_type": "code",
   "execution_count": null,
   "metadata": {},
   "outputs": [],
   "source": [
    "file_object_2.close()"
   ]
  },
  {
   "cell_type": "markdown",
   "metadata": {},
   "source": [
    "We can now no longer write to `file_object_2`:"
   ]
  },
  {
   "cell_type": "code",
   "execution_count": null,
   "metadata": {},
   "outputs": [],
   "source": [
    "file_object_2.write('another line\\n')"
   ]
  },
  {
   "cell_type": "markdown",
   "metadata": {},
   "source": [
    "Open `file2.txt` in a text editor to check that the lines we wrote to the file are there.\n",
    "\n",
    "If we now want to append a fourth line to `file2.txt`, we can open the file again, this time in \"append' mode.\n",
    "\n",
    "The following opens `file2.txt` in append mode, writes a third line to that file, then closes the file object."
   ]
  },
  {
   "cell_type": "code",
   "execution_count": null,
   "metadata": {},
   "outputs": [],
   "source": [
    "file_object_3 = open('file2.txt', 'a')\n",
    "file_object_3.write('this line will be appended\\n')\n",
    "file_object_3.close()"
   ]
  },
  {
   "cell_type": "markdown",
   "metadata": {},
   "source": [
    "Check `file2.txt` again (by opening in a text editor)\n",
    "\n",
    "### Exercise 6.2.1\n",
    "\n",
    "Going back to our file of peptide sequences (`file1.txt`): write the updated list of peptide sequence lines to a new file called `peptides.txt`.  Check your answer by opening`peptides.txt` in a text editor.\n"
   ]
  },
  {
   "cell_type": "code",
   "execution_count": null,
   "metadata": {},
   "outputs": [],
   "source": [
    "# Exercise 6.2.1"
   ]
  },
  {
   "cell_type": "markdown",
   "metadata": {},
   "source": [
    "## 6.3 The context manager\n",
    "\n",
    "If you don't want to have to remember to close the file when you're done with it, you can work with your file inside a `with` statement. Your file will be automatically closed at the end of the `with` statement. The technical term you may see for this type of usage is using a file as a 'context manager'."
   ]
  },
  {
   "cell_type": "code",
   "execution_count": null,
   "metadata": {},
   "outputs": [],
   "source": [
    "with open('file3.txt', 'w') as out_file:\n",
    "    # within this statement, the file is open\n",
    "    out_file.write('test')"
   ]
  },
  {
   "cell_type": "markdown",
   "metadata": {},
   "source": [
    "If we try to write outside the context manager, python will give us an error as the file is no longer opened:"
   ]
  },
  {
   "cell_type": "code",
   "execution_count": null,
   "metadata": {},
   "outputs": [],
   "source": [
    "with open('file3.txt', 'w') as out_file:\n",
    "    # within this statement, the file is open\n",
    "    out_file.write('test')\n",
    "\n",
    "# now the file is closed\n",
    "out_file.write('test')"
   ]
  },
  {
   "cell_type": "markdown",
   "metadata": {},
   "source": [
    "## Review\n",
    "\n",
    "In this section we have learned the following:\n",
    "- How to open files using `open` ('*filename*', '*mode*').\n",
    "- The 'r' is read mode; 'w' is write mode and 'a' is append mode.\n",
    "- To perform operation on the lines in a file that has been opened in read mode, convert the file object to a list, using list(*file_object*).\n",
    "- If opening a file in write mode, the new file will overwrite another file of the same name.\n",
    "- To write lines to a file opened in append or write mode, use *file_object*.write('*text-to-write-to-file*').\n",
    "- Once finished with a file object, close it using *file_object*.close().\n",
    "- Using a context manager to handle file opening and closing within a `with` statement.\n"
   ]
  }
 ],
 "metadata": {
  "kernelspec": {
   "display_name": "Python 3",
   "language": "python",
   "name": "python3"
  },
  "language_info": {
   "codemirror_mode": {
    "name": "ipython",
    "version": 3
   },
   "file_extension": ".py",
   "mimetype": "text/x-python",
   "name": "python",
   "nbconvert_exporter": "python",
   "pygments_lexer": "ipython3",
   "version": "3.7.3"
  }
 },
 "nbformat": 4,
 "nbformat_minor": 1
}
