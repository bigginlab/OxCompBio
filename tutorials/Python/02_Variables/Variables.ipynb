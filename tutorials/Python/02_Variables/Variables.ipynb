{
 "cells": [
  {
   "cell_type": "markdown",
   "metadata": {},
   "source": [
    "# 2 Assigning values and making comparisons"
   ]
  },
  {
   "cell_type": "markdown",
   "metadata": {},
   "source": [
    "## 2.1 Assigning values"
   ]
  },
  {
   "cell_type": "markdown",
   "metadata": {},
   "source": [
    "In the previous section we covered a variety of objects with different types, such as integers, floating point numbers, strings, lists, etc... In python, objects can be declared as variables and assigned a value.\n",
    "\n",
    "For example you can assign the value 2 to the variable `n`:"
   ]
  },
  {
   "cell_type": "code",
   "execution_count": null,
   "metadata": {},
   "outputs": [],
   "source": [
    "n=2"
   ]
  },
  {
   "cell_type": "markdown",
   "metadata": {},
   "source": [
    "Nothing is displayed by the interpreter after this entry, so it is not clear anything happened. But in fact Python has stored the value 2 into a variable named `n`. You can easily check this via just typing in n and pressing enter:"
   ]
  },
  {
   "cell_type": "code",
   "execution_count": null,
   "metadata": {},
   "outputs": [],
   "source": [
    "n"
   ]
  },
  {
   "cell_type": "markdown",
   "metadata": {},
   "source": [
    "Now check for the type of n."
   ]
  },
  {
   "cell_type": "code",
   "execution_count": null,
   "metadata": {},
   "outputs": [],
   "source": [
    "type(n)"
   ]
  },
  {
   "cell_type": "markdown",
   "metadata": {},
   "source": [
    "Python has automatically realized that the value of 2 is an integer and therefore declared the variable `n` to be of type int. Python is relatively smart in figuring out what you mean, so it automatically declares your variables with the correct type:"
   ]
  },
  {
   "cell_type": "code",
   "execution_count": null,
   "metadata": {},
   "outputs": [],
   "source": [
    "pi=3.141"
   ]
  },
  {
   "cell_type": "code",
   "execution_count": null,
   "metadata": {},
   "outputs": [],
   "source": [
    "type(pi)"
   ]
  },
  {
   "cell_type": "code",
   "execution_count": null,
   "metadata": {},
   "outputs": [],
   "source": [
    "word='Hello'"
   ]
  },
  {
   "cell_type": "code",
   "execution_count": null,
   "metadata": {},
   "outputs": [],
   "source": [
    "type(word)"
   ]
  },
  {
   "cell_type": "code",
   "execution_count": null,
   "metadata": {},
   "outputs": [],
   "source": [
    "many_numbers=[1, 6, 3, 0]"
   ]
  },
  {
   "cell_type": "code",
   "execution_count": null,
   "metadata": {},
   "outputs": [],
   "source": [
    "type(many_numbers)"
   ]
  },
  {
   "cell_type": "markdown",
   "metadata": {},
   "source": [
    "All the above are examples for assignment statements. An assignment statement associates a variable name on the left of the equal sign with the value of an expression on the right of the equal sign. You can be as creative as you like when it comes to giving names to variables. \n",
    "\n",
    "__However, you need to keep in mind the following:__\n",
    "\n",
    "1) You cannot have a space in a variable name (i.e. \"many numbers\" would not work).\n",
    "\n",
    "2) Variables are case-sensitive (i.e. Pi is a different variable than pi).\n",
    "\n",
    "3) Variables cannot start with a number (i.e. 1number is not acceptable, but numb3r would be)."
   ]
  },
  {
   "cell_type": "markdown",
   "metadata": {},
   "source": [
    "### Exercise 2.1.1\n",
    "\n",
    "Try the following:\n",
    "\n",
    "a) Assigning the same list above `many_numbers` to the same variable name but separated by an empty space (i.e. `many numbers`). \n",
    "\n",
    "b) See what you get asking for the variable `pi` and for `Pi` (with the capital letter).\n",
    "\n",
    "c) What happens if you wanted to assign the value of `3.141` to the variable `pi` the other way around, i.e. `3.141 = pi`."
   ]
  },
  {
   "cell_type": "code",
   "execution_count": null,
   "metadata": {},
   "outputs": [],
   "source": [
    "# Exercise 2.1.1 a)"
   ]
  },
  {
   "cell_type": "code",
   "execution_count": null,
   "metadata": {},
   "outputs": [],
   "source": [
    "# Exercise 2.1.1 b)"
   ]
  },
  {
   "cell_type": "code",
   "execution_count": null,
   "metadata": {},
   "outputs": [],
   "source": [
    "# Exercise 2.1.1 c)"
   ]
  },
  {
   "cell_type": "markdown",
   "metadata": {},
   "source": [
    "Once a variable is assigned a value, the variable can be used in place of that value:"
   ]
  },
  {
   "cell_type": "code",
   "execution_count": null,
   "metadata": {},
   "outputs": [],
   "source": [
    "width = 10\n",
    "height = 5"
   ]
  },
  {
   "cell_type": "code",
   "execution_count": null,
   "metadata": {},
   "outputs": [],
   "source": [
    "area = width * height"
   ]
  },
  {
   "cell_type": "code",
   "execution_count": null,
   "metadata": {},
   "outputs": [],
   "source": [
    "area"
   ]
  },
  {
   "cell_type": "markdown",
   "metadata": {},
   "source": [
    "A word of caution: The `=` sign that is used for assigning values is actually a bit misleading. It is not to be confused with a mathematical `=` sign. The `=` sign that is used for assigning values would much better be represented by an arrow like this $\\leftarrow$. It is not a symmetric operation."
   ]
  },
  {
   "cell_type": "markdown",
   "metadata": {},
   "source": [
    "Once you already have assigned a value to a variable, you can assign a new value to it using the same variable:"
   ]
  },
  {
   "cell_type": "code",
   "execution_count": null,
   "metadata": {},
   "outputs": [],
   "source": [
    "width = width + 10"
   ]
  },
  {
   "cell_type": "code",
   "execution_count": null,
   "metadata": {},
   "outputs": [],
   "source": [
    "width"
   ]
  },
  {
   "cell_type": "markdown",
   "metadata": {},
   "source": [
    "This example demonstrates that the `=` sign for value assignment does not at all have the properties of a mathematical equal sign."
   ]
  },
  {
   "cell_type": "markdown",
   "metadata": {},
   "source": [
    "Note that there is a shorter version of writing the above that often comes in handy, e.g when you want to increase integer values in loops (section 4)."
   ]
  },
  {
   "cell_type": "code",
   "execution_count": null,
   "metadata": {},
   "outputs": [],
   "source": [
    "width += 10"
   ]
  },
  {
   "cell_type": "code",
   "execution_count": null,
   "metadata": {},
   "outputs": [],
   "source": [
    "width"
   ]
  },
  {
   "cell_type": "markdown",
   "metadata": {},
   "source": [
    "### Exercise 2.1.2\n",
    "\n",
    "Does this shortcut also work with minus?"
   ]
  },
  {
   "cell_type": "code",
   "execution_count": null,
   "metadata": {},
   "outputs": [],
   "source": [
    "# Exercise 2.1.2"
   ]
  },
  {
   "cell_type": "code",
   "execution_count": null,
   "metadata": {},
   "outputs": [],
   "source": [
    "width"
   ]
  },
  {
   "cell_type": "markdown",
   "metadata": {},
   "source": [
    "## 2.2 Comparisons"
   ]
  },
  {
   "cell_type": "markdown",
   "metadata": {},
   "source": [
    "In computer programs it is often necessary to compare numbers. Let's check the following statements:"
   ]
  },
  {
   "cell_type": "code",
   "execution_count": null,
   "metadata": {},
   "outputs": [],
   "source": [
    "1 < 2"
   ]
  },
  {
   "cell_type": "code",
   "execution_count": null,
   "metadata": {},
   "outputs": [],
   "source": [
    "1 > 2"
   ]
  },
  {
   "cell_type": "markdown",
   "metadata": {},
   "source": [
    "Python understands the `<` and `>` signs as operators to compare numbers. It correctly identifies the statement `1 < 2` to be `True` and the statement `1 > 2` to be `False`.\n",
    "\n",
    "So Python assigns a value to each of these statements, namely `True` or `False`. These values are a special Python type called a \"Boolean\" (`bool`). Booleans are named after George Boole, who wrote a book about logic in the 19th century. `True` and `False` are the only two values a Boolean can have. Booleans are used to keep track of whether something is true or not.\n",
    "\n",
    "In the first example above the`<` operator takes two integers and returns a Boolean value. In general, there are 6 relational operators for comparisons:\n",
    "\n",
    "-  `>`   (greater than)\n",
    "-  `<`    (less than)\n",
    "-  `>=`  (greater than or equal to)\n",
    "-  `<=`   (less than or equal to)\n",
    "-  `!=`   (not equal to)\n",
    "-  `==`   (equal to)\n",
    "\n",
    "Note that a common mistake is to use the simple `=` sign when you want to check whether two numbers are equal to each other. But remember that the `=` in Python programming is used to assign a value to a variable. So if you just write `x = y`, it means `x` is assigned the value of `y`. If you want to check if `x` is equal to `y`, you need to write `x == y`."
   ]
  },
  {
   "cell_type": "markdown",
   "metadata": {},
   "source": [
    "### Exercise 2.2.1\n",
    "\n",
    "Let `x=2` and `y=3`. Try to predict the Boolean value of the following statements (and check what Python says):\n",
    "\n",
    "a) `x * y == 6`\n",
    "\n",
    "b) `x + y < 5`\n",
    "\n",
    "c) `x + y != 5`\n",
    "\n",
    "d) `x == y`\n",
    "\n",
    "e) `x = y`"
   ]
  },
  {
   "cell_type": "code",
   "execution_count": null,
   "metadata": {},
   "outputs": [],
   "source": [
    "# Exercise 2.2.1\n",
    "x = 2\n",
    "y = 3"
   ]
  },
  {
   "cell_type": "code",
   "execution_count": null,
   "metadata": {},
   "outputs": [],
   "source": [
    "# Exercise 2.2.1 a)"
   ]
  },
  {
   "cell_type": "code",
   "execution_count": null,
   "metadata": {},
   "outputs": [],
   "source": [
    "# Exercise 2.2.1 b)"
   ]
  },
  {
   "cell_type": "code",
   "execution_count": null,
   "metadata": {},
   "outputs": [],
   "source": [
    "# Exercise 2.2.1 c)"
   ]
  },
  {
   "cell_type": "code",
   "execution_count": null,
   "metadata": {},
   "outputs": [],
   "source": [
    "# Exercise 2.2.1 d)"
   ]
  },
  {
   "cell_type": "code",
   "execution_count": null,
   "metadata": {},
   "outputs": [],
   "source": [
    "# Exercise 2.2.1 e)"
   ]
  },
  {
   "cell_type": "markdown",
   "metadata": {},
   "source": [
    "## 2.3 Boolean operations"
   ]
  },
  {
   "cell_type": "markdown",
   "metadata": {},
   "source": [
    "For numbers you can do arithmetics with the operators `+`, `-`, `*`, etc. Similarly, you can do arithmetics with Booleans, too! So what operators do Booleans have? (That was what George Boole's book was about...)"
   ]
  },
  {
   "cell_type": "markdown",
   "metadata": {},
   "source": [
    "### The `and` operator"
   ]
  },
  {
   "cell_type": "markdown",
   "metadata": {},
   "source": [
    "- True and True $\\rightarrow$ True\n",
    "- True and False $\\rightarrow$ False\n",
    "- False and True $\\rightarrow$ False\n",
    "- False and False $\\rightarrow$ False"
   ]
  },
  {
   "cell_type": "markdown",
   "metadata": {},
   "source": [
    "### Exercise 2.3.1\n",
    "\n",
    "Predict the Boolean value of the following statements (and check what Python says) :\n",
    "\n",
    "a) `1 < 2 and 2 < 3`\n",
    "\n",
    "b) `1 < 2 and 2 > 3`"
   ]
  },
  {
   "cell_type": "code",
   "execution_count": null,
   "metadata": {},
   "outputs": [],
   "source": [
    "# Exercise 2.3.1 a)"
   ]
  },
  {
   "cell_type": "code",
   "execution_count": null,
   "metadata": {},
   "outputs": [],
   "source": [
    "# Exercise 2.3.1 b)"
   ]
  },
  {
   "cell_type": "markdown",
   "metadata": {},
   "source": [
    "### The `or` operator"
   ]
  },
  {
   "cell_type": "markdown",
   "metadata": {},
   "source": [
    "- True or True $\\rightarrow$ True\n",
    "- True or False $\\rightarrow$ True\n",
    "- False or True $\\rightarrow$ True\n",
    "- False or False $\\rightarrow$ False"
   ]
  },
  {
   "cell_type": "markdown",
   "metadata": {},
   "source": [
    "### Exercise 2.3.2\n",
    "\n",
    "Predict the Boolean value of the following statements (and check what Python says) :\n",
    "\n",
    "a) `1 < 2 or 2 < 3`\n",
    "\n",
    "b) `1 < 2 or 2 > 3`"
   ]
  },
  {
   "cell_type": "code",
   "execution_count": null,
   "metadata": {},
   "outputs": [],
   "source": [
    "# Exercise 2.3.2 a)"
   ]
  },
  {
   "cell_type": "code",
   "execution_count": null,
   "metadata": {},
   "outputs": [],
   "source": [
    "# Exercise 2.3.2 b)"
   ]
  },
  {
   "cell_type": "markdown",
   "metadata": {},
   "source": [
    "### The `not` operator"
   ]
  },
  {
   "cell_type": "markdown",
   "metadata": {},
   "source": [
    "- not True $\\rightarrow$ False\n",
    "- not False $\\rightarrow$ True"
   ]
  },
  {
   "cell_type": "markdown",
   "metadata": {},
   "source": [
    "### Exercise 2.3.3\n",
    "\n",
    "Predict the Boolean value of the following statements (and check what Python says) :\n",
    "\n",
    "a) `not 2 < 3`\n",
    "\n",
    "b) `not 2 > 3`"
   ]
  },
  {
   "cell_type": "code",
   "execution_count": null,
   "metadata": {},
   "outputs": [],
   "source": [
    "# Exercise 2.3.3 a)"
   ]
  },
  {
   "cell_type": "code",
   "execution_count": null,
   "metadata": {},
   "outputs": [],
   "source": [
    "# Exercise 2.3.3 b)"
   ]
  },
  {
   "cell_type": "markdown",
   "metadata": {},
   "source": [
    "Just as you can combine numbers with `+`, `-`, `*`, etc. to form complex expressions, you can do the same with Booleans and the above `and`, `or` and `not` operators. To mark precedence, just as for numbers, you can use parantheses.\n",
    "\n",
    "This can be done in the following way:"
   ]
  },
  {
   "cell_type": "code",
   "execution_count": null,
   "metadata": {},
   "outputs": [],
   "source": [
    "(3 > 2 and 3 < 4) or 1 > 2"
   ]
  },
  {
   "cell_type": "markdown",
   "metadata": {},
   "source": [
    "## Review:\n",
    "\n",
    "In this section, we have covered:\n",
    "- How to assign values to variables.\n",
    "- The `+=` shortcut for incrementing variables.\n",
    "- Booleans to keep track if something is true or false.\n",
    "- The 6 relational operators: `>`, `<`, `>=`, `<=`, `==` and `!=`.\n",
    "- The Boolean operators: `and`, `or` and `not`."
   ]
  }
 ],
 "metadata": {
  "kernelspec": {
   "display_name": "Python 3",
   "language": "python",
   "name": "python3"
  },
  "language_info": {
   "codemirror_mode": {
    "name": "ipython",
    "version": 3
   },
   "file_extension": ".py",
   "mimetype": "text/x-python",
   "name": "python",
   "nbconvert_exporter": "python",
   "pygments_lexer": "ipython3",
   "version": "3.7.4"
  }
 },
 "nbformat": 4,
 "nbformat_minor": 1
}
