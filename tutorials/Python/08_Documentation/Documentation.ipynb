{
 "cells": [
  {
   "cell_type": "markdown",
   "metadata": {},
   "source": [
    "# 8 Help and documenting"
   ]
  },
  {
   "cell_type": "markdown",
   "metadata": {},
   "source": [
    "Python can be overwhelming, especially when you are reading someone else's scripts.\n",
    "\n",
    "There are two ways to make this simpler:\n",
    "    \n",
    "1. Comments on scripts\n",
    "2. Use the help module"
   ]
  },
  {
   "cell_type": "markdown",
   "metadata": {},
   "source": [
    "## 8.1 Line Comments"
   ]
  },
  {
   "cell_type": "markdown",
   "metadata": {},
   "source": [
    "As previously mentioned, comments are simple to introduce within code. Using `#` in a line makes the rest of the line a comment. The interpreter will simply skip anything after the `#` when processing your code. This means you can annotate all the little details of your code to help others follow it better (and yourself, too!)."
   ]
  },
  {
   "cell_type": "code",
   "execution_count": null,
   "metadata": {},
   "outputs": [],
   "source": [
    "# Define list x\n",
    "x = [1, 2, 3]\n",
    "\n",
    "# Print list x\n",
    "print(x)"
   ]
  },
  {
   "cell_type": "markdown",
   "metadata": {},
   "source": [
    "Unfortunately, too many comments can also be confusing; a good way to avoid many comments is to give a sensible name to your variables and functions. The following code is not very clear and therefore it has to be commented:"
   ]
  },
  {
   "cell_type": "code",
   "execution_count": null,
   "metadata": {},
   "outputs": [],
   "source": [
    "m = 1 # Mass\n",
    "a = 3 # Acceleration\n",
    "\n",
    "# Compute force f\n",
    "f = m * a"
   ]
  },
  {
   "cell_type": "markdown",
   "metadata": {},
   "source": [
    "By choosing better names for our variables we can completely avoid comments without losing clarity:"
   ]
  },
  {
   "cell_type": "code",
   "execution_count": null,
   "metadata": {},
   "outputs": [],
   "source": [
    "mass = 1\n",
    "acceleration = 3\n",
    "\n",
    "force = mass * acceleration"
   ]
  },
  {
   "cell_type": "markdown",
   "metadata": {},
   "source": [
    "## 8.2 Multi-Line Comments"
   ]
  },
  {
   "cell_type": "markdown",
   "metadata": {},
   "source": [
    "A multi-line string can be used as a comment:"
   ]
  },
  {
   "cell_type": "code",
   "execution_count": null,
   "metadata": {},
   "outputs": [],
   "source": [
    "\"\"\"\n",
    "Very long\n",
    "and multi-line\n",
    "comment\n",
    "\"\"\"\n",
    "\n",
    "print(\"The previous comment is ignored.\")"
   ]
  },
  {
   "cell_type": "markdown",
   "metadata": {},
   "source": [
    "## 8.3 Docstrings"
   ]
  },
  {
   "cell_type": "markdown",
   "metadata": {},
   "source": [
    "A multi-line comment used to document a function is called *docstring*:"
   ]
  },
  {
   "cell_type": "code",
   "execution_count": null,
   "metadata": {},
   "outputs": [],
   "source": [
    "def force(mass, acceleration):\n",
    "    \"\"\"\n",
    "    This function computes the force using Newton's first law.\n",
    "    \"\"\"\n",
    "    return mass * acceleration"
   ]
  },
  {
   "cell_type": "markdown",
   "metadata": {},
   "source": [
    "Docstrings are extremely helpful to document functions, especially if other people need to use them. Luckily, all good Python packages use docstrings to document their functions!\n",
    "\n",
    "If you write any function, you are heavily encouraged to write docstrings for them.\n",
    "\n",
    "For a good example of how to write docstring, we refer you to the numpy docstring guide: https://numpydoc.readthedocs.io/en/latest/format.html"
   ]
  },
  {
   "cell_type": "markdown",
   "metadata": {},
   "source": [
    "## 8.4 Help"
   ]
  },
  {
   "cell_type": "markdown",
   "metadata": {},
   "source": [
    "The help module can give a lot of information on how to use certain functions. You can pass a function the `help` to get some information:"
   ]
  },
  {
   "cell_type": "code",
   "execution_count": null,
   "metadata": {},
   "outputs": [],
   "source": [
    "help(list)"
   ]
  },
  {
   "cell_type": "markdown",
   "metadata": {},
   "source": [
    "With the `help` function in hand, you can quickly look at the docstring for different functions. It's extremely clear why docstring are so important:"
   ]
  },
  {
   "cell_type": "code",
   "execution_count": null,
   "metadata": {},
   "outputs": [],
   "source": [
    "help(force)"
   ]
  },
  {
   "cell_type": "markdown",
   "metadata": {},
   "source": [
    "If our function was not documented with a docstring, this would be the result:"
   ]
  },
  {
   "cell_type": "code",
   "execution_count": null,
   "metadata": {},
   "outputs": [],
   "source": [
    "def f(m, a):\n",
    "    return m * a\n",
    "\n",
    "help(f)"
   ]
  },
  {
   "cell_type": "markdown",
   "metadata": {},
   "source": [
    "Not very informative, is it? In Jupyter Notebooks (or the [IPython](https://ipython.org/) console) you can also use `?` to obtain additional information interactively:"
   ]
  },
  {
   "cell_type": "code",
   "execution_count": null,
   "metadata": {},
   "outputs": [],
   "source": [
    "force?"
   ]
  }
 ],
 "metadata": {
  "kernelspec": {
   "display_name": "Python 3",
   "language": "python",
   "name": "python3"
  },
  "language_info": {
   "codemirror_mode": {
    "name": "ipython",
    "version": 3
   },
   "file_extension": ".py",
   "mimetype": "text/x-python",
   "name": "python",
   "nbconvert_exporter": "python",
   "pygments_lexer": "ipython3",
   "version": "3.7.3"
  }
 },
 "nbformat": 4,
 "nbformat_minor": 1
}
