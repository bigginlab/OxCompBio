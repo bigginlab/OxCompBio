{
 "cells": [
  {
   "cell_type": "markdown",
   "metadata": {},
   "source": [
    "# 7. Writing functions"
   ]
  },
  {
   "cell_type": "markdown",
   "metadata": {},
   "source": [
    "\"A function is a block of organised, reusable code that can be used to perform a single, related action.\"\n",
    "\n",
    "We have already seen examples of predefined python functions, most notably `print()`, but Python gives you the ability to define your own, custom functions.\n",
    "\n",
    "The way you define a custom function is as follows:"
   ]
  },
  {
   "cell_type": "code",
   "execution_count": null,
   "metadata": {},
   "outputs": [],
   "source": [
    "def function_nam(function_variables):\n",
    "\n",
    "    # Tasks for the function to perform\n",
    "    \n",
    "    return # Whatever we want our function to produce as a result"
   ]
  },
  {
   "cell_type": "markdown",
   "metadata": {},
   "source": [
    "A very simple example, divide any given number by 3."
   ]
  },
  {
   "cell_type": "code",
   "execution_count": null,
   "metadata": {},
   "outputs": [],
   "source": [
    "def divider(x):\n",
    "    return x / 3"
   ]
  },
  {
   "cell_type": "markdown",
   "metadata": {},
   "source": [
    "Now that we defined the function, it's time to use it, or call it!\n",
    "\n",
    "What would the following examples return?"
   ]
  },
  {
   "cell_type": "code",
   "execution_count": null,
   "metadata": {},
   "outputs": [],
   "source": [
    "divider(9)"
   ]
  },
  {
   "cell_type": "code",
   "execution_count": null,
   "metadata": {},
   "outputs": [],
   "source": [
    "divider(0)"
   ]
  },
  {
   "cell_type": "markdown",
   "metadata": {},
   "source": [
    "A variable defined inside a function will only be available for use inside that function. If you want to use it outside a function, you need to have it returned by your function. \n",
    "\n",
    "Confused? See the following examples:"
   ]
  },
  {
   "cell_type": "code",
   "execution_count": null,
   "metadata": {},
   "outputs": [],
   "source": [
    "def summ(a, b):\n",
    "    tot_all1 = a + b\n",
    "    print(\"The sum from inside the function is: \", tot_all1)"
   ]
  },
  {
   "cell_type": "code",
   "execution_count": null,
   "metadata": {},
   "outputs": [],
   "source": [
    "summ(2,2)"
   ]
  },
  {
   "cell_type": "markdown",
   "metadata": {},
   "source": [
    "If you try to ask for total outside the function you get the following:"
   ]
  },
  {
   "cell_type": "code",
   "execution_count": null,
   "metadata": {},
   "outputs": [],
   "source": [
    "print(\"The total outside the function is: \", tot_all1)"
   ]
  },
  {
   "cell_type": "markdown",
   "metadata": {},
   "source": [
    "But if you define your function like that:"
   ]
  },
  {
   "cell_type": "code",
   "execution_count": null,
   "metadata": {},
   "outputs": [],
   "source": [
    "def summ2(a,b):\n",
    "    tot_all2 = a + b\n",
    "    print(\"The sum from inside the function is: \", tot_all2)\n",
    "    return tot_all2"
   ]
  },
  {
   "cell_type": "code",
   "execution_count": null,
   "metadata": {},
   "outputs": [],
   "source": [
    "tot_all2 = summ2(2,2)\n",
    "\n",
    "print(\"The total outside the function is: \", tot_all2)"
   ]
  },
  {
   "cell_type": "markdown",
   "metadata": {},
   "source": [
    "A slightly more complicated example. Can anyone identify what these functions do?"
   ]
  },
  {
   "cell_type": "code",
   "execution_count": null,
   "metadata": {},
   "outputs": [],
   "source": [
    "def is_multiple(x,y):\n",
    "    return (x % y == 0)\n",
    "\n",
    "def is_prime(n):\n",
    "    isPrime = True  \n",
    "    for div in range(2,int(n**0.5)+1):\n",
    "        if is_multiple(n,div):\n",
    "            isPrime = False  \n",
    "    return isPrime\n",
    "\n"
   ]
  },
  {
   "cell_type": "code",
   "execution_count": null,
   "metadata": {},
   "outputs": [],
   "source": [
    "a = is_multiple(70, 2)\n",
    "b = is_multiple(5, 17)\n",
    "c = is_multiple(72, 6)\n",
    "\n",
    "d = is_prime(90)\n",
    "f = is_prime(53)\n",
    "\n",
    "print(a, b, c, d, f)"
   ]
  }
 ],
 "metadata": {
  "kernelspec": {
   "display_name": "Python 3",
   "language": "python",
   "name": "python3"
  },
  "language_info": {
   "codemirror_mode": {
    "name": "ipython",
    "version": 3
   },
   "file_extension": ".py",
   "mimetype": "text/x-python",
   "name": "python",
   "nbconvert_exporter": "python",
   "pygments_lexer": "ipython3",
   "version": "3.6.7"
  }
 },
 "nbformat": 4,
 "nbformat_minor": 1
}
