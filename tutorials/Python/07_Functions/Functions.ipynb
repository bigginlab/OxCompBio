{
 "cells": [
  {
   "cell_type": "markdown",
   "metadata": {},
   "source": [
    "# 7. Writing functions"
   ]
  },
  {
   "cell_type": "markdown",
   "metadata": {},
   "source": [
    "\"A function is a block of organised, reusable code that can be used to perform a single, related action.\"\n",
    "\n",
    "We have already seen examples of predefined python functions, most notably `print()`, but Python gives you the ability to define your own, custom functions."
   ]
  },
  {
   "cell_type": "markdown",
   "metadata": {},
   "source": [
    "## 7.1 Function basics\n",
    "\n",
    "The way you define a custom function is as follows:"
   ]
  },
  {
   "cell_type": "code",
   "execution_count": null,
   "metadata": {},
   "outputs": [],
   "source": [
    "def function_name(function_variables):\n",
    "\n",
    "    # Tasks for the function to perform\n",
    "    \n",
    "    return # Whatever we want our function to produce as a result"
   ]
  },
  {
   "cell_type": "markdown",
   "metadata": {},
   "source": [
    "A very simple example, divide any given number by 3."
   ]
  },
  {
   "cell_type": "code",
   "execution_count": null,
   "metadata": {},
   "outputs": [],
   "source": [
    "def divider(x):\n",
    "    return x / 3"
   ]
  },
  {
   "cell_type": "markdown",
   "metadata": {},
   "source": [
    "Now that we defined the function, it's time to use it, or call it!\n",
    "\n",
    "What would the following examples return?"
   ]
  },
  {
   "cell_type": "code",
   "execution_count": null,
   "metadata": {},
   "outputs": [],
   "source": [
    "divider(9)"
   ]
  },
  {
   "cell_type": "code",
   "execution_count": null,
   "metadata": {},
   "outputs": [],
   "source": [
    "divider(0)"
   ]
  },
  {
   "cell_type": "markdown",
   "metadata": {},
   "source": [
    "A variable defined inside a function will only be available for use inside that function. If you want to use it outside a function, you need to have it returned by your function. \n",
    "\n",
    "Let's look a few examples:"
   ]
  },
  {
   "cell_type": "code",
   "execution_count": null,
   "metadata": {},
   "outputs": [],
   "source": [
    "def summ(a, b):\n",
    "    tot_all1 = a + b\n",
    "    print(\"The sum from inside the function is: \", tot_all1)"
   ]
  },
  {
   "cell_type": "code",
   "execution_count": null,
   "metadata": {},
   "outputs": [],
   "source": [
    "summ(2,2)"
   ]
  },
  {
   "cell_type": "markdown",
   "metadata": {},
   "source": [
    "If you try to ask for total outside the function you get the following:"
   ]
  },
  {
   "cell_type": "code",
   "execution_count": null,
   "metadata": {},
   "outputs": [],
   "source": [
    "print(\"The total outside the function is: \", tot_all1)"
   ]
  },
  {
   "cell_type": "markdown",
   "metadata": {},
   "source": [
    "But if you define your function like that:"
   ]
  },
  {
   "cell_type": "code",
   "execution_count": null,
   "metadata": {},
   "outputs": [],
   "source": [
    "def summ2(a,b):\n",
    "    tot_all2 = a + b\n",
    "    print(\"The sum from inside the function is: \", tot_all2)\n",
    "    return tot_all2"
   ]
  },
  {
   "cell_type": "code",
   "execution_count": null,
   "metadata": {},
   "outputs": [],
   "source": [
    "tot_all2 = summ2(2,2)\n",
    "\n",
    "print(\"The total outside the function is: \", tot_all2)"
   ]
  },
  {
   "cell_type": "markdown",
   "metadata": {},
   "source": [
    "A slightly more complicated example. Can you identify what these functions do?"
   ]
  },
  {
   "cell_type": "code",
   "execution_count": null,
   "metadata": {},
   "outputs": [],
   "source": [
    "def is_multiple(x,y):\n",
    "    return (x % y == 0)\n",
    "\n",
    "def is_prime(n):\n",
    "    isPrime = True  \n",
    "    for div in range(2,int(n**0.5)+1):\n",
    "        if is_multiple(n,div):\n",
    "            isPrime = False  \n",
    "    return isPrime\n",
    "\n"
   ]
  },
  {
   "cell_type": "code",
   "execution_count": null,
   "metadata": {},
   "outputs": [],
   "source": [
    "a = is_multiple(70, 2)\n",
    "b = is_multiple(5, 17)\n",
    "c = is_multiple(72, 6)\n",
    "\n",
    "d = is_prime(90)\n",
    "f = is_prime(53)\n",
    "\n",
    "print(a, b, c, d, f)"
   ]
  },
  {
   "cell_type": "markdown",
   "metadata": {},
   "source": [
    "## 7.2 Using Arguments Names"
   ]
  },
  {
   "cell_type": "markdown",
   "metadata": {},
   "source": [
    "Sometimes the list of arguments of a function is really long and understanding which argument corresponds to which variable can be tricky. To palliate this problem we can use the arguments names expliclty. Using the above defined `is_multiple` function:"
   ]
  },
  {
   "cell_type": "code",
   "execution_count": null,
   "metadata": {},
   "outputs": [],
   "source": [
    "is_multiple(x=70, y=2)"
   ]
  },
  {
   "cell_type": "markdown",
   "metadata": {},
   "source": [
    "The nice thing about using keyword arguments is that we can completely forget about their order:"
   ]
  },
  {
   "cell_type": "code",
   "execution_count": null,
   "metadata": {},
   "outputs": [],
   "source": [
    "is_multiple(y=2, x=70)"
   ]
  },
  {
   "cell_type": "markdown",
   "metadata": {},
   "source": [
    "**NOTE**: The call `is_multiple(y=2, x=70)` corresponds to `is_multiple(70, 2)` *not* `is_multiple(2, 70)`."
   ]
  },
  {
   "cell_type": "markdown",
   "metadata": {},
   "source": [
    "## 7.3 Default Arguments"
   ]
  },
  {
   "cell_type": "markdown",
   "metadata": {},
   "source": [
    "When defining a function, you can specify default values for some arguments:"
   ]
  },
  {
   "cell_type": "code",
   "execution_count": null,
   "metadata": {},
   "outputs": [],
   "source": [
    "def person(name, age, university=\"Oxford\"):\n",
    "    print(f\"Name: {name}\")\n",
    "    print(f\"Age: {age}\")\n",
    "    print(f\"University: {university}\")"
   ]
  },
  {
   "cell_type": "markdown",
   "metadata": {},
   "source": [
    "When using a function which has \"default arguments\" declared, it is possible to omit passing any value for those \"default arguments\". When this happens, the pre-declared \"default\" values will be used:"
   ]
  },
  {
   "cell_type": "code",
   "execution_count": null,
   "metadata": {},
   "outputs": [],
   "source": [
    "person(\"Alice\", 99)"
   ]
  },
  {
   "cell_type": "markdown",
   "metadata": {},
   "source": [
    "However, you can explicitly specify that argument if it needs to be changed:"
   ]
  },
  {
   "cell_type": "code",
   "execution_count": null,
   "metadata": {},
   "outputs": [],
   "source": [
    "person(\"Alice\", 99, \"Unknown\")"
   ]
  },
  {
   "cell_type": "markdown",
   "metadata": {},
   "source": [
    "**Note** Default arguments should be declared at the end of the argument list. The following definition fails with a `SyntaxError`:"
   ]
  },
  {
   "cell_type": "code",
   "execution_count": null,
   "metadata": {},
   "outputs": [],
   "source": [
    "def test(x, y=1, z):\n",
    "    pass"
   ]
  },
  {
   "cell_type": "markdown",
   "metadata": {},
   "source": [
    "## 7.4 Anonymous Functions (Advanced)"
   ]
  },
  {
   "cell_type": "markdown",
   "metadata": {},
   "source": [
    "In some cases you need to define a function only once and pass it to another function. For example, if we want to apply a function `func` to a value `x` we could write the following helper function:"
   ]
  },
  {
   "cell_type": "code",
   "execution_count": null,
   "metadata": {},
   "outputs": [],
   "source": [
    "def apply(x, func):\n",
    "    return func(x)"
   ]
  },
  {
   "cell_type": "markdown",
   "metadata": {},
   "source": [
    "Therefore if we want to apply our `divider` function from above we can do the following:"
   ]
  },
  {
   "cell_type": "code",
   "execution_count": null,
   "metadata": {},
   "outputs": [],
   "source": [
    "def divider(x):\n",
    "    return x / 3\n",
    "\n",
    "result = apply(9, divider)\n",
    "\n",
    "print(result)"
   ]
  },
  {
   "cell_type": "markdown",
   "metadata": {},
   "source": [
    "However, defining a function if we are using it only once can be time consuming especially if it consists of only one line. To avoid a full function definition we can use anonymous functions (also called `lambda` functions):"
   ]
  },
  {
   "cell_type": "code",
   "execution_count": null,
   "metadata": {},
   "outputs": [],
   "source": [
    "result = apply(9, lambda x: x / 3)\n",
    "\n",
    "print(result)"
   ]
  },
  {
   "cell_type": "markdown",
   "metadata": {},
   "source": [
    "We see that the `lambda` function behaves exactly like the `divider` function but is much more concise: the keyword `lambda` substitutes `def divider`, the parenthesis around the argument `x` are dropped and there is no `return` keyword (which is implicit)."
   ]
  },
  {
   "cell_type": "markdown",
   "metadata": {},
   "source": [
    "## 7.5 Beyond functions: classes"
   ]
  },
  {
   "cell_type": "markdown",
   "metadata": {},
   "source": [
    "One of the things which we will not cover during this tutorial are the python `class`. \n",
    "\n",
    "These are actually quite important as objects are usually created from classes.\n",
    "The class defines how an object is built and the various `function` methods which are available to it.\n",
    "\n",
    "For more information on classes please see: https://docs.python.org/3/tutorial/classes.html"
   ]
  },
  {
   "cell_type": "markdown",
   "metadata": {},
   "source": [
    "## Review\n",
    "\n",
    "In this section we have learned the following:\n",
    "- How to write and execute our own custom functions.\n",
    "- Using defined argument names in functions.\n",
    "- Using default arguments in functions.\n",
    "- Some basics of `anonymous` functions.\n",
    "- Briefly discussed the idea of a `class`."
   ]
  }
 ],
 "metadata": {
  "kernelspec": {
   "display_name": "Python 3",
   "language": "python",
   "name": "python3"
  },
  "language_info": {
   "codemirror_mode": {
    "name": "ipython",
    "version": 3
   },
   "file_extension": ".py",
   "mimetype": "text/x-python",
   "name": "python",
   "nbconvert_exporter": "python",
   "pygments_lexer": "ipython3",
   "version": "3.7.3"
  }
 },
 "nbformat": 4,
 "nbformat_minor": 1
}
