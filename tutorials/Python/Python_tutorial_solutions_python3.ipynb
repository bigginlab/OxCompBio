{
 "cells": [
  {
   "cell_type": "markdown",
   "metadata": {},
   "source": [
    "# Python tutorial for absolute beginners"
   ]
  },
  {
   "cell_type": "markdown",
   "metadata": {},
   "source": [
    "###### This tutorial was created by:\n",
    "###### Marc Daemgen, Anna Duncan, Nicholas Michelarakis, Fiona Naughton, Naushad Velgy, William Glass and Irfan Alibay\n",
    "###### SBCB, Oxford, December 2018"
   ]
  },
  {
   "cell_type": "markdown",
   "metadata": {},
   "source": [
    "# 0. Python Basics"
   ]
  },
  {
   "cell_type": "markdown",
   "metadata": {},
   "source": [
    "Launching python:\n",
    "1. Open a terminal window (find the program 'Terminal' on your ubuntu machine and open it).\n",
    "2. Type 'python' to open a python session.\n",
    "3. Close the session by typing Ctl+D or 'quit()' or 'exit()'\n",
    "\n",
    "Launching an ipython notebook:\n",
    "1. Open a terminal window\n",
    "2. Type 'jupyter notebook'.  This will open an interactive ipython notebook in your web browser (like this one).\n",
    "3. Close by typing 'Ctl+C' in your terminal window, or via the dropdown menu within the notebook: 'File > Close and halt'."
   ]
  },
  {
   "cell_type": "markdown",
   "metadata": {},
   "source": [
    "Useful resources for python:\n",
    "- Documentation home page: https://docs.python.org/3.6/\n",
    "- Useful once at this page: Tutorial; Library Reference\n",
    "\n",
    "- Good python tutorial: https://www.codecademy.com/learn/learn-python"
   ]
  },
  {
   "cell_type": "markdown",
   "metadata": {},
   "source": [
    "A first command in python:"
   ]
  },
  {
   "cell_type": "code",
   "execution_count": null,
   "metadata": {},
   "outputs": [],
   "source": [
    "print('Hello world')"
   ]
  },
  {
   "cell_type": "markdown",
   "metadata": {},
   "source": [
    "The 'print' function takes an input value (some text, in quotation marks) and prints the text as output (without the quotation marks). One should note that Python is case-sensitive - ie. we can't use Print or PRINT.\n",
    "\n",
    "Note: As of python 3, the inputs to the 'print' function must be placed within parantheses. If you use code developed for python 2.7 or lower, you may notice that this requirement is not followed and therefore will cause issues if run using python 3+. There are other key differences between python 3 and previous versions, some of which will be covered in this tutorial. For a more detailed look into them, the following resource may be of use: https://docs.python.org/3.6/howto/pyporting.html"
   ]
  },
  {
   "cell_type": "markdown",
   "metadata": {},
   "source": [
    "###### Exercise 0.1:"
   ]
  },
  {
   "cell_type": "markdown",
   "metadata": {},
   "source": [
    "A first python script:\n",
    "1. Open a text editor (eg. gedit) (type 'gedit' into a terminal and press enter; the text editor will open in a new window)\n",
    "2. type the above command into the editor and save the file as 'hello.py' in the home directory\n",
    "3. Close gedit\n",
    "4. Open a terminal window\n",
    "5. Type 'python hello.py' to run the script"
   ]
  },
  {
   "cell_type": "markdown",
   "metadata": {},
   "source": [
    "###### Exercise 0.2:"
   ]
  },
  {
   "cell_type": "markdown",
   "metadata": {},
   "source": [
    "In this notebook, print the phrase \"This is the second command\" to output"
   ]
  },
  {
   "cell_type": "code",
   "execution_count": null,
   "metadata": {},
   "outputs": [],
   "source": [
    "# Exercise 0.2\n",
    "print('This is the second command')\n",
    "# all these versions below work, too.\n",
    "#print(\"This is the second command\")\n",
    "#print(\"\"\"This is the second command\"\"\")"
   ]
  },
  {
   "cell_type": "markdown",
   "metadata": {},
   "source": [
    "###### A note on python comments\n",
    "\n",
    "You will have noticed that the \"# Exercise 0.2\" in the above box does not affect the notebook output. In python in-line code comments are indicated using the # symbol. Any text that comes after this is considered to be a comment and is ignored by the python interpreter. Other means of commenting python code, such as docstrings, also exist, however their use is beyond the scope of this tutorial and will not be covered.\n",
    "\n",
    "It is considered good practice to comment your code in order to make it more readable for yourself and any future users.\n",
    "\n",
    "#### Review"
   ]
  },
  {
   "cell_type": "markdown",
   "metadata": {},
   "source": [
    "We have:\n",
    "- used a function, print\n",
    "- written our first script\n",
    "- run the script using python"
   ]
  },
  {
   "cell_type": "markdown",
   "metadata": {},
   "source": [
    "# 1. Object types in Python"
   ]
  },
  {
   "cell_type": "markdown",
   "metadata": {},
   "source": [
    "Every object in python has a type.\n",
    "For example,  the object 'Hello world' is text, also known as a string.\n",
    "\n",
    "Object types include: \n",
    "- strings (ie. text)\n",
    "- integers (ie. whole numbers, both positive and negative)\n",
    "- floating point values (ie. decimal numbers)\n",
    "- booleans values (i.e. True or False)\n",
    "\n",
    "Objects can have things done to them, ie. operations can be performed on them, such as addition.\n"
   ]
  },
  {
   "cell_type": "markdown",
   "metadata": {},
   "source": [
    "## 1.1 Strings"
   ]
  },
  {
   "cell_type": "markdown",
   "metadata": {},
   "source": [
    "For example, we can add two strings together:"
   ]
  },
  {
   "cell_type": "code",
   "execution_count": null,
   "metadata": {},
   "outputs": [],
   "source": [
    "# The first string:\n",
    "'Hello'"
   ]
  },
  {
   "cell_type": "code",
   "execution_count": null,
   "metadata": {},
   "outputs": [],
   "source": [
    "# The second string:\n",
    "'world'"
   ]
  },
  {
   "cell_type": "code",
   "execution_count": null,
   "metadata": {},
   "outputs": [],
   "source": [
    "# Add them together\n",
    "'Hello'+'world'"
   ]
  },
  {
   "cell_type": "code",
   "execution_count": null,
   "metadata": {},
   "outputs": [],
   "source": [
    "# print the string (and add a space between words)\n",
    "print('Hello '+'world')"
   ]
  },
  {
   "cell_type": "markdown",
   "metadata": {},
   "source": [
    "Apart from the space between words, what is the difference between the outputs from the last two cells?"
   ]
  },
  {
   "cell_type": "markdown",
   "metadata": {},
   "source": [
    "### Strings and quotation marks:"
   ]
  },
  {
   "cell_type": "markdown",
   "metadata": {},
   "source": [
    "FAQ:\n",
    "\n",
    "Do we have to use single quotes to indicate a string?  Will double quotes (\"\") work as well?\n",
    "\n",
    "Answer: Yes. Single quotes, double quotes, and even triple quotes ('''something''') tell Python that you want a string. When to use one or the other depends on what you are trying to do; check the exercises below for more on this.\n",
    "\n",
    "A word of caution: don't get in the habit of using triple quotes for strings, as these should be reserved for docstrings. As previously mentioned, it is not necessary to know exactly what these are, just know that these are important in other aspect of Python, and it wouldn't be a good idea to mix them with single and double quotation marks."
   ]
  },
  {
   "cell_type": "markdown",
   "metadata": {},
   "source": [
    "###### Exercise 1.1.1: "
   ]
  },
  {
   "cell_type": "markdown",
   "metadata": {},
   "source": [
    "Try printing strings surrounded by either single quotes or double quotes."
   ]
  },
  {
   "cell_type": "code",
   "execution_count": null,
   "metadata": {},
   "outputs": [],
   "source": [
    "# Exercise 1.1.1\n",
    "print('Example')\n",
    "print(\"Example\")"
   ]
  },
  {
   "cell_type": "markdown",
   "metadata": {},
   "source": [
    "As explained above, you can use the two types of quotation marks to print quotation marks within a string\n",
    "\n",
    "For example, to print: Just say \"No!\""
   ]
  },
  {
   "cell_type": "code",
   "execution_count": null,
   "metadata": {},
   "outputs": [],
   "source": [
    "print('Just say \"No!\"')\n",
    "print('Just say \"No\"!')"
   ]
  },
  {
   "cell_type": "markdown",
   "metadata": {},
   "source": [
    "You can also achieve the same effect with single quotes by using a backslash '\\' before the quotation mark you wish to be printed.  This 'escapes' the single quote mark from being interpreted as a quotation mark at the end of the string.\n",
    "\n",
    "For example:"
   ]
  },
  {
   "cell_type": "code",
   "execution_count": null,
   "metadata": {},
   "outputs": [],
   "source": [
    "print('Just say \\'No!\\'')"
   ]
  },
  {
   "cell_type": "markdown",
   "metadata": {},
   "source": [
    "###### Exercise 1.1.2: "
   ]
  },
  {
   "cell_type": "markdown",
   "metadata": {},
   "source": [
    "Print the following string twice, first using single quotes at the start and end of the string, then double quotes:\n",
    "\n",
    "_`I can't be bothered with this \"exercise\"`_"
   ]
  },
  {
   "cell_type": "code",
   "execution_count": null,
   "metadata": {},
   "outputs": [],
   "source": [
    "# Exercise 1.1.2\n",
    "print('I can\\'t be bothered with this \"exercise\"')\n",
    "# the following two solutions won't work\n",
    "# since the ' in can't will be recognised as a single quotation mark\n",
    "#print('I can't be bothered with this \"exercise\"')\n",
    "#print(\"I can't be bothered with this \"exercise\"\")"
   ]
  },
  {
   "cell_type": "markdown",
   "metadata": {},
   "source": [
    "More types of quotation marks...\n",
    "If you want to include more than one line in your string, you can:\n",
    "- use a 'new line character' in your string - this character looks like: '\\n'\n",
    "- use triple quotes (''') at either end of your string"
   ]
  },
  {
   "cell_type": "code",
   "execution_count": null,
   "metadata": {},
   "outputs": [],
   "source": [
    "print('Here is an example of using a new line character\\nto print a second line.')"
   ]
  },
  {
   "cell_type": "code",
   "execution_count": null,
   "metadata": {},
   "outputs": [],
   "source": [
    "print('''Or you can just use triple quotes at either end of the string\n",
    "and start a new line as you type.''')"
   ]
  },
  {
   "cell_type": "markdown",
   "metadata": {},
   "source": [
    "#### Review:"
   ]
  },
  {
   "cell_type": "markdown",
   "metadata": {},
   "source": [
    "We have covered:\n",
    "- strings, surrounded by either 'single quotes' or \"double quotes\"\n",
    "- printing strings\n",
    "- adding strings together\n",
    "- quotes within a string, either using double or single quotes, or using \\'\n",
    "- inserting a new line into your string, with a new line character, \\n , or '''triple quotes'''"
   ]
  },
  {
   "cell_type": "markdown",
   "metadata": {},
   "source": [
    "## 1.2 Integers"
   ]
  },
  {
   "cell_type": "markdown",
   "metadata": {},
   "source": [
    "What about the other types mentioned, ie. integers (whole numbers) and floating point values (decimals)?\n",
    "\n",
    "We can also perform operations on integers and floating point values, in all the ways you might expect.\n",
    "\n",
    "Adding and subtracting integers:"
   ]
  },
  {
   "cell_type": "code",
   "execution_count": null,
   "metadata": {},
   "outputs": [],
   "source": [
    "2 + 4"
   ]
  },
  {
   "cell_type": "code",
   "execution_count": null,
   "metadata": {},
   "outputs": [],
   "source": [
    "5-3"
   ]
  },
  {
   "cell_type": "code",
   "execution_count": null,
   "metadata": {},
   "outputs": [],
   "source": [
    "7- 10"
   ]
  },
  {
   "cell_type": "markdown",
   "metadata": {},
   "source": [
    "(Note that it doesn't matter if you use spaces between numbers and symbols)"
   ]
  },
  {
   "cell_type": "markdown",
   "metadata": {},
   "source": [
    "Multiplying (we use the '*' sign to multiply)"
   ]
  },
  {
   "cell_type": "code",
   "execution_count": null,
   "metadata": {},
   "outputs": [],
   "source": [
    "2 * 5"
   ]
  },
  {
   "cell_type": "markdown",
   "metadata": {},
   "source": [
    "Dividing (use the '/' sign):"
   ]
  },
  {
   "cell_type": "code",
   "execution_count": null,
   "metadata": {},
   "outputs": [],
   "source": [
    "4 / 2"
   ]
  },
  {
   "cell_type": "markdown",
   "metadata": {},
   "source": [
    "Note that when dividing integers, a floating point type value (i.e. a decimal) will be returned. It is important to note\n",
    "that in previous versions of python (v2.7 and lower) only integer types (i.e. whole numbers) would be returned, resulting\n",
    "in a rounding down of values. This very specific difference between versions is a frequent source of errors when porting python code. If integer division (i.e. a division that returns only whole numbers) is required, the '//' operation can be used instead.\n",
    "\n",
    "for example:"
   ]
  },
  {
   "cell_type": "code",
   "execution_count": null,
   "metadata": {},
   "outputs": [],
   "source": [
    "# This division will return a non-whole number result (float type)\n",
    "7 / 4"
   ]
  },
  {
   "cell_type": "code",
   "execution_count": null,
   "metadata": {},
   "outputs": [],
   "source": [
    "# With integer division a whole number is returned (same as using '/' in python 2.7 and lower)\n",
    "7 // 4"
   ]
  },
  {
   "cell_type": "markdown",
   "metadata": {},
   "source": [
    "Powers, eg. $4^2$ , (using 2 consecutive * symbols):"
   ]
  },
  {
   "cell_type": "code",
   "execution_count": null,
   "metadata": {},
   "outputs": [],
   "source": [
    "4 ** 2"
   ]
  },
  {
   "cell_type": "markdown",
   "metadata": {},
   "source": [
    "Modular arithmetic (or integer remainders), is done using the % symbol:"
   ]
  },
  {
   "cell_type": "code",
   "execution_count": null,
   "metadata": {},
   "outputs": [],
   "source": [
    "12 % 4"
   ]
  },
  {
   "cell_type": "code",
   "execution_count": null,
   "metadata": {},
   "outputs": [],
   "source": [
    "13 % 4"
   ]
  },
  {
   "cell_type": "code",
   "execution_count": null,
   "metadata": {},
   "outputs": [],
   "source": [
    "17 % 4"
   ]
  },
  {
   "cell_type": "markdown",
   "metadata": {},
   "source": [
    "#### Review:\n",
    "\n",
    "We have covered:\n",
    "- addition '+'\n",
    "- substraction '-'\n",
    "- multiplication '*'\n",
    "- division and differences from older versions of python '/' '//'\n",
    "- power operations '**'\n",
    "- modular arthmetic '%'\n"
   ]
  },
  {
   "cell_type": "code",
   "execution_count": null,
   "metadata": {},
   "outputs": [],
   "source": [
    "# Possible exercise: how big can a python integer be?\n",
    "# hint: this is a trick question\n",
    "# Answer: technically there is no maximum integer size.\n",
    "# In python 3: the integer types have unlimited sizes.\n",
    "# It should be noted that this is only true for the basic python integers. Numerical libraries such as numpy\n",
    "# will have defined integer size limits.\n",
    "# In python 2.7: the integer types have an upper limit defined by sys.maxsize, however exceeding this value\n",
    "# will automatically switch to a long type which can be asigned a number of any size."
   ]
  },
  {
   "cell_type": "markdown",
   "metadata": {},
   "source": [
    "## 1.3 Floating point values"
   ]
  },
  {
   "cell_type": "markdown",
   "metadata": {},
   "source": [
    "As introduced in section 1.2, a floating point value is a decimal, and python can tell we are using floating points when we use a decimal point in the number.\n",
    "\n",
    "For example:"
   ]
  },
  {
   "cell_type": "code",
   "execution_count": null,
   "metadata": {},
   "outputs": [],
   "source": [
    "8.23"
   ]
  },
  {
   "cell_type": "code",
   "execution_count": null,
   "metadata": {},
   "outputs": [],
   "source": [
    "5.0"
   ]
  },
  {
   "cell_type": "markdown",
   "metadata": {},
   "source": [
    "We don't necessarily need to put any numbers after the floating point, eg, 5. is the same as 5.0:"
   ]
  },
  {
   "cell_type": "code",
   "execution_count": null,
   "metadata": {},
   "outputs": [],
   "source": [
    "5."
   ]
  },
  {
   "cell_type": "markdown",
   "metadata": {},
   "source": [
    "We can also perform operations on floating point values, like before.\n",
    "    "
   ]
  },
  {
   "cell_type": "markdown",
   "metadata": {},
   "source": [
    "###### Exercise 1.3.1"
   ]
  },
  {
   "cell_type": "markdown",
   "metadata": {},
   "source": [
    "Find:\n",
    "    \n",
    "a) 8.3 + 4\n",
    "b) 5.1 x 2.5\n",
    "c) 10 / 3 (the answer should be a floating point value)\n",
    "d) $8.1^3$ "
   ]
  },
  {
   "cell_type": "code",
   "execution_count": null,
   "metadata": {},
   "outputs": [],
   "source": [
    "# Exercise 1.3.1 a)\n",
    "8.3+4"
   ]
  },
  {
   "cell_type": "code",
   "execution_count": null,
   "metadata": {},
   "outputs": [],
   "source": [
    "# Exercise 1.3.1 b)\n",
    "5.1*2.5"
   ]
  },
  {
   "cell_type": "code",
   "execution_count": null,
   "metadata": {},
   "outputs": [],
   "source": [
    "# Exercise 1.3.1 c)\n",
    "10.0/3.0\n",
    "#10.0/3 works, too\n",
    "#10/3.0 works, too\n",
    "#10/3 works too\n",
    "#10//3 does not work"
   ]
  },
  {
   "cell_type": "code",
   "execution_count": null,
   "metadata": {},
   "outputs": [],
   "source": [
    "# Exercise 1.3.1 d)\n",
    "8.1**3 #(or 8.1*8.1*8.1)"
   ]
  },
  {
   "cell_type": "markdown",
   "metadata": {},
   "source": [
    "### Floating point precision"
   ]
  },
  {
   "cell_type": "markdown",
   "metadata": {},
   "source": [
    "Floating point arithmetic is not exact, because computers work in base 2, which means that numbers like 1/10 are not stored exactly.\n",
    "\n",
    "Usually this is not a problem - floating point values are correct to ~17 significant figures on modern computers - however, it can mean that small errors creep in:"
   ]
  },
  {
   "cell_type": "code",
   "execution_count": null,
   "metadata": {},
   "outputs": [],
   "source": [
    "0.1 + 0.1 + 0.1"
   ]
  },
  {
   "cell_type": "markdown",
   "metadata": {},
   "source": [
    "###### Exercise 1.3.2"
   ]
  },
  {
   "cell_type": "markdown",
   "metadata": {},
   "source": [
    "Find $(1/10)^5$\n",
    "\n",
    "How accurate is the answer?"
   ]
  },
  {
   "cell_type": "code",
   "execution_count": null,
   "metadata": {},
   "outputs": [],
   "source": [
    "# Exercise 1.3.2\n",
    "0.1**5"
   ]
  },
  {
   "cell_type": "markdown",
   "metadata": {},
   "source": [
    "#### Review"
   ]
  },
  {
   "cell_type": "markdown",
   "metadata": {},
   "source": [
    "- Numbers in python are integers or floating points (specified by using a decimal point, '.', in the number)\n",
    "- Floating point values are specified by using a decimal point (.) in the number\n",
    "- Can also perform addition, subtraction, multiplication, division and powers with floating points\n",
    "- Precision can be an issue with floating point values"
   ]
  },
  {
   "cell_type": "markdown",
   "metadata": {},
   "source": [
    "## 1.4 Other types of objects"
   ]
  },
  {
   "cell_type": "markdown",
   "metadata": {},
   "source": [
    "We can also group strings, integers and floating point values into new objects:\n",
    "- list, surrounded by square brackets, [ ], succesive entries are separated by ','.  These are used a lot.\n",
    "- tuple, surrounded by round brackets, ( ), succesive entries are separated by ','. Like a list except that, once specified, its elements can't be changed.\n",
    "- dictionary, surrounded by curly brackets, { }, succesive entries are separated by ','. These are lists of pairs."
   ]
  },
  {
   "cell_type": "markdown",
   "metadata": {},
   "source": [
    "A list of integers:"
   ]
  },
  {
   "cell_type": "code",
   "execution_count": null,
   "metadata": {},
   "outputs": [],
   "source": [
    "[1, 6, 3, 0]"
   ]
  },
  {
   "cell_type": "markdown",
   "metadata": {},
   "source": [
    "A tuple of integers:"
   ]
  },
  {
   "cell_type": "code",
   "execution_count": null,
   "metadata": {},
   "outputs": [],
   "source": [
    "(6,1,3)"
   ]
  },
  {
   "cell_type": "markdown",
   "metadata": {},
   "source": [
    "A dictionary, eg. of exam scores for each person in a class (as string-float pairs):"
   ]
  },
  {
   "cell_type": "code",
   "execution_count": null,
   "metadata": {},
   "outputs": [],
   "source": [
    "{'Andy':2.0, 'Vivek':6.1, 'Sian':9.5, 'Chen':3.6}"
   ]
  },
  {
   "cell_type": "markdown",
   "metadata": {},
   "source": [
    "There are also many operations we can perform on these object types, eg. adding two lists.\n",
    "\n",
    "The types of operation you can perform will depend on the type of object (eg. try adding two dictionaries).\n",
    "\n",
    "We will come back to lists, tuples and dictionaries later on."
   ]
  },
  {
   "cell_type": "markdown",
   "metadata": {},
   "source": [
    "## 1.5 Checking what type of object we have"
   ]
  },
  {
   "cell_type": "markdown",
   "metadata": {},
   "source": [
    "We can check what type of object we are dealing with using the 'type()' function.\n",
    "\n",
    "For example:\n"
   ]
  },
  {
   "cell_type": "code",
   "execution_count": null,
   "metadata": {},
   "outputs": [],
   "source": [
    "type('what type of object is this?')"
   ]
  },
  {
   "cell_type": "code",
   "execution_count": null,
   "metadata": {},
   "outputs": [],
   "source": [
    "type(4.)"
   ]
  },
  {
   "cell_type": "code",
   "execution_count": null,
   "metadata": {},
   "outputs": [],
   "source": [
    "type(3/4)"
   ]
  },
  {
   "cell_type": "code",
   "execution_count": null,
   "metadata": {},
   "outputs": [],
   "source": [
    "type([8,1])"
   ]
  },
  {
   "cell_type": "markdown",
   "metadata": {},
   "source": [
    "# 2 Assigning values and making comparisons"
   ]
  },
  {
   "cell_type": "markdown",
   "metadata": {},
   "source": [
    "## 2.1 Assigning values"
   ]
  },
  {
   "cell_type": "markdown",
   "metadata": {},
   "source": [
    "All the objects you learned about in the first part of this tutorial, such as integers, floating point numbers, strings, lists etc. can be declared as a variable and assigned a value.\n",
    "\n",
    "For example you can assign the value 2 to the variable n:"
   ]
  },
  {
   "cell_type": "code",
   "execution_count": null,
   "metadata": {},
   "outputs": [],
   "source": [
    "n=2"
   ]
  },
  {
   "cell_type": "markdown",
   "metadata": {},
   "source": [
    "Nothing is displayed by the interpreter after this entry, so it is not clear anything happened. But in fact Python has stored the value 2 into a variable named n. You can easily check this via just typing in n and pressing enter:"
   ]
  },
  {
   "cell_type": "code",
   "execution_count": null,
   "metadata": {},
   "outputs": [],
   "source": [
    "n"
   ]
  },
  {
   "cell_type": "markdown",
   "metadata": {},
   "source": [
    "Now check for the type of n."
   ]
  },
  {
   "cell_type": "code",
   "execution_count": null,
   "metadata": {},
   "outputs": [],
   "source": [
    "type(n)"
   ]
  },
  {
   "cell_type": "markdown",
   "metadata": {},
   "source": [
    "Python has automatically realized that the value of 2 is an integer and therefore declared the variable n to be of type int. Python is relatively smart in figuring out what you mean, so it automatically declares your variables with the correct type:"
   ]
  },
  {
   "cell_type": "code",
   "execution_count": null,
   "metadata": {},
   "outputs": [],
   "source": [
    "pi=3.141"
   ]
  },
  {
   "cell_type": "code",
   "execution_count": null,
   "metadata": {},
   "outputs": [],
   "source": [
    "type(pi)"
   ]
  },
  {
   "cell_type": "code",
   "execution_count": null,
   "metadata": {},
   "outputs": [],
   "source": [
    "word='Hello'"
   ]
  },
  {
   "cell_type": "code",
   "execution_count": null,
   "metadata": {},
   "outputs": [],
   "source": [
    "type(word)"
   ]
  },
  {
   "cell_type": "code",
   "execution_count": null,
   "metadata": {},
   "outputs": [],
   "source": [
    "many_numbers=[1, 6, 3, 0]"
   ]
  },
  {
   "cell_type": "code",
   "execution_count": null,
   "metadata": {},
   "outputs": [],
   "source": [
    "type(many_numbers)"
   ]
  },
  {
   "cell_type": "markdown",
   "metadata": {},
   "source": [
    "All the above are examples for assignment statements. An assignment statement associates a variable name on the left of the equal sign with the value of an expression on the right of the equal sign. You can be as creative as you like when it comes to giving names to variables. You only need to keep in mind that you cannot separate by an empty space (\"many numbers\" would not work) and that variables are case-sensitive (so Pi is a different variable than pi)."
   ]
  },
  {
   "cell_type": "markdown",
   "metadata": {},
   "source": [
    "###### Exercise 2.1.1\n",
    "\n",
    "Try to assign the same list above to the same variable name but separated by an empty space. Also try out what you get asking for the variable pi and for Pi (with the capital letter)."
   ]
  },
  {
   "cell_type": "code",
   "execution_count": null,
   "metadata": {},
   "outputs": [],
   "source": [
    "# Exercise 2.1.1\n",
    "many numbers = [1, 6. 3. 0]\n",
    "#pi\n",
    "#Pi"
   ]
  },
  {
   "cell_type": "markdown",
   "metadata": {},
   "source": [
    "Once a variable is assigned a value, the variable can be used in place of that value:"
   ]
  },
  {
   "cell_type": "code",
   "execution_count": null,
   "metadata": {},
   "outputs": [],
   "source": [
    "width = 10\n",
    "height = 5"
   ]
  },
  {
   "cell_type": "code",
   "execution_count": null,
   "metadata": {},
   "outputs": [],
   "source": [
    "area = width * height"
   ]
  },
  {
   "cell_type": "code",
   "execution_count": null,
   "metadata": {},
   "outputs": [],
   "source": [
    "area"
   ]
  },
  {
   "cell_type": "markdown",
   "metadata": {},
   "source": [
    "A word of caution: The = sign that is used for assigning values is actually a bit misleading. It is not to be confused with a mathematical = sign. The = sign that is used for assigning values would much better be represented by an arrow like this $\\leftarrow$. It is not a symmetric operation."
   ]
  },
  {
   "cell_type": "markdown",
   "metadata": {},
   "source": [
    "###### Exercise 2.1.2\n",
    "\n",
    "Try what happens if you wanted to assign the value of 10 to the variable width the other way around, i.e. 10 = width."
   ]
  },
  {
   "cell_type": "code",
   "execution_count": null,
   "metadata": {},
   "outputs": [],
   "source": [
    "# Exercise 2.1.2\n",
    "10 = width"
   ]
  },
  {
   "cell_type": "markdown",
   "metadata": {},
   "source": [
    "Also, once you already have assigned a value to a variable, you can assign a new value to it using the same variable:"
   ]
  },
  {
   "cell_type": "code",
   "execution_count": null,
   "metadata": {},
   "outputs": [],
   "source": [
    "width = width + 10"
   ]
  },
  {
   "cell_type": "code",
   "execution_count": null,
   "metadata": {},
   "outputs": [],
   "source": [
    "width"
   ]
  },
  {
   "cell_type": "markdown",
   "metadata": {},
   "source": [
    "Clearly, you can see from this example that the = sign for value assignment does not at all have the properties of a mathematical equal sign."
   ]
  },
  {
   "cell_type": "markdown",
   "metadata": {},
   "source": [
    "Note that there is a shorter version of writing the above that often comes in handy, e.g when you want to increase integer values in loops (section 4)."
   ]
  },
  {
   "cell_type": "code",
   "execution_count": null,
   "metadata": {},
   "outputs": [],
   "source": [
    "width += 10"
   ]
  },
  {
   "cell_type": "code",
   "execution_count": null,
   "metadata": {},
   "outputs": [],
   "source": [
    "width"
   ]
  },
  {
   "cell_type": "markdown",
   "metadata": {},
   "source": [
    "###### Exercise 2.1.3\n",
    "\n",
    "Does this shortcut also work with minus?"
   ]
  },
  {
   "cell_type": "code",
   "execution_count": null,
   "metadata": {},
   "outputs": [],
   "source": [
    "# Exercise 2.1.3\n",
    "width -= 10"
   ]
  },
  {
   "cell_type": "code",
   "execution_count": null,
   "metadata": {},
   "outputs": [],
   "source": [
    "width"
   ]
  },
  {
   "cell_type": "markdown",
   "metadata": {},
   "source": [
    "## 2.2 Comparisons"
   ]
  },
  {
   "cell_type": "markdown",
   "metadata": {},
   "source": [
    "In computer programs it is often necessary to compare numbers. Let's check the following statements:"
   ]
  },
  {
   "cell_type": "code",
   "execution_count": null,
   "metadata": {},
   "outputs": [],
   "source": [
    "1 < 2"
   ]
  },
  {
   "cell_type": "code",
   "execution_count": null,
   "metadata": {},
   "outputs": [],
   "source": [
    "1 > 2"
   ]
  },
  {
   "cell_type": "markdown",
   "metadata": {},
   "source": [
    "Apparently Python understands the \"<\" and \">\" signs to compare numbers. It correctly identifies the statement 1 < 2 to be \"True\" and the statement 1 > 2 to be \"False\".\n",
    "\n",
    "So Python assigns a value to each of these statements, namely \"True\" or \"False\". These values are a special Python type called a \"Boolean\". Booleans are named after George Boole, who wrote a book about logic in the 19th century. \"True\" and \"False\" are the only two values a Boolean can have. Booleans are used to keep track of whether something is true or not.\n",
    "\n",
    "In the first example above the \"<\" operator takes two integers and returns a Boolean value. In general, there are 6 relational operators for comparisons:\n",
    "\n",
    "-  \\>   (greater than)\n",
    "-  <    (less than)\n",
    "-  \\>=  (greater than or equal to)\n",
    "-  <=   (less than or equal to)\n",
    "-  !=   (not equal to)\n",
    "-  ==   (equal to)\n",
    "\n",
    "Note that a common mistake is to use the simple \"=\" sign when you want to check whether two numbers are equal to each other. But remember that the \"=\" in programming is used to assign a value to a variable. So if you just write x=y, it means x is assigned the value of y. If you want to check if x is equal to y, you need to write x==y."
   ]
  },
  {
   "cell_type": "markdown",
   "metadata": {},
   "source": [
    "###### Exercise 2.2\n",
    "\n",
    "Let x=2 and y=3. Try to predict the Boolean value of the following statements (and check what Python says):\n",
    "\n",
    "1. x*y == 6\n",
    "2. x+y < 5\n",
    "3. x+y != 5\n",
    "4. x == y\n",
    "5. x = y"
   ]
  },
  {
   "cell_type": "code",
   "execution_count": null,
   "metadata": {},
   "outputs": [],
   "source": [
    "# Exercise 2.2\n",
    "x = 2\n",
    "y = 3\n",
    "print(x*y == 6)\n",
    "print(x+y <  5)\n",
    "print(x+y != 5)\n",
    "print(x == y)\n",
    "x = y"
   ]
  },
  {
   "cell_type": "markdown",
   "metadata": {},
   "source": [
    "## 2.3 Boolean operations"
   ]
  },
  {
   "cell_type": "markdown",
   "metadata": {},
   "source": [
    "For numbers you can do arithmetics with the operators +, -, $\\cdot$ etc. Similarly, you can do arithmetics with Booleans, too! So what operators do Booleans have? (That was what George Boole's book was about...)"
   ]
  },
  {
   "cell_type": "markdown",
   "metadata": {},
   "source": [
    "#### The \"and\" operator"
   ]
  },
  {
   "cell_type": "markdown",
   "metadata": {},
   "source": [
    "- True and True $\\rightarrow$ True\n",
    "- True and False $\\rightarrow$ False\n",
    "- False and True $\\rightarrow$ False\n",
    "- False and False $\\rightarrow$ False"
   ]
  },
  {
   "cell_type": "markdown",
   "metadata": {},
   "source": [
    "###### Exercise 2.3.1\n",
    "\n",
    "Predict the Boolean value of the following statements (and check what Python says) :\n",
    "\n",
    "1. 1 < 2 and 2 < 3\n",
    "2. 1 < 2 and 2 > 3"
   ]
  },
  {
   "cell_type": "code",
   "execution_count": null,
   "metadata": {},
   "outputs": [],
   "source": [
    "# Exercise 2.3.1\n",
    "print(1 < 2 and 2 < 3)\n",
    "print(1 < 2 and 2 > 3)"
   ]
  },
  {
   "cell_type": "markdown",
   "metadata": {},
   "source": [
    "#### The \"or\" operator"
   ]
  },
  {
   "cell_type": "markdown",
   "metadata": {},
   "source": [
    "- True or True $\\rightarrow$ True\n",
    "- True or False $\\rightarrow$ True\n",
    "- False or True $\\rightarrow$ True\n",
    "- False or False $\\rightarrow$ False"
   ]
  },
  {
   "cell_type": "markdown",
   "metadata": {},
   "source": [
    "###### Exercise 2.3.2\n",
    "\n",
    "Predict the Boolean value of the following statements (and check what Python says) :\n",
    "\n",
    "1. 1 < 2 or 2 < 3\n",
    "2. 1 < 2 or 2 > 3"
   ]
  },
  {
   "cell_type": "code",
   "execution_count": null,
   "metadata": {},
   "outputs": [],
   "source": [
    "# Exercise 2.3.2\n",
    "print(1 < 2 or 2 < 3)\n",
    "print(1 < 2 or 2 > 3)"
   ]
  },
  {
   "cell_type": "markdown",
   "metadata": {},
   "source": [
    "#### The \"not\" operator"
   ]
  },
  {
   "cell_type": "markdown",
   "metadata": {},
   "source": [
    "- not True $\\rightarrow$ False\n",
    "- not False $\\rightarrow$ True"
   ]
  },
  {
   "cell_type": "markdown",
   "metadata": {},
   "source": [
    "###### Exercise 2.3.3\n",
    "\n",
    "Predict the Boolean value of the following statements (and check what Python says) :\n",
    "\n",
    "1. not 2 < 3\n",
    "2. not 2 > 3"
   ]
  },
  {
   "cell_type": "code",
   "execution_count": null,
   "metadata": {},
   "outputs": [],
   "source": [
    "# Exercise 2.3.3\n",
    "print(not 2 < 3)\n",
    "print(not 2 > 3)"
   ]
  },
  {
   "cell_type": "markdown",
   "metadata": {},
   "source": [
    "Just as you can combine numbers with +, -, $\\cdot$ etc. to form complex expressions, you can do the same with Booleans and the above \"and\", \"or\" and \"not\" operators. To mark precedence, just as for numbers, you can use parantheses."
   ]
  },
  {
   "cell_type": "markdown",
   "metadata": {},
   "source": [
    "#### Review:\n",
    "\n",
    "In this section, we have covered:\n",
    "- How to assign values to variables\n",
    "- The += shortcut for incrementing variables\n",
    "- Booleans to keep track if something is true or false\n",
    "- The 6 relational operators: >, <, >=, <=, == and !=\n",
    "- The Boolean operators: \"and\", \"or\" and \"not\""
   ]
  },
  {
   "cell_type": "markdown",
   "metadata": {},
   "source": [
    "# 3 Loops"
   ]
  },
  {
   "cell_type": "markdown",
   "metadata": {},
   "source": [
    "Sometimes you need to do repetitive tasks. Loops are the way to make your life easier."
   ]
  },
  {
   "cell_type": "markdown",
   "metadata": {},
   "source": [
    "## 3.1 While loops"
   ]
  },
  {
   "cell_type": "markdown",
   "metadata": {},
   "source": [
    "Let number = 1 and you would like to add 1 until you reach 10 and each time print the value of the variable number to the screen. You could do it explicitly:"
   ]
  },
  {
   "cell_type": "code",
   "execution_count": null,
   "metadata": {},
   "outputs": [],
   "source": [
    "number = 1\n",
    "print(\"number is equal to %d now.\" % number)\n",
    "number +=1\n",
    "print(\"number is equal to %d now.\" % number)\n",
    "number +=1\n",
    "print(\"number is equal to %d now.\" % number)\n",
    "number +=1\n",
    "print(\"number is equal to %d now.\" % number)\n",
    "number +=1\n",
    "print(\"number is equal to %d now.\" % number)\n",
    "number +=1\n",
    "print(\"number is equal to %d now.\" % number)\n",
    "number +=1\n",
    "print(\"number is equal to %d now.\" % number)\n",
    "number +=1\n",
    "print(\"number is equal to %d now.\" % number)\n",
    "number +=1\n",
    "print(\"number is equal to %d now.\" % number)\n",
    "number +=1\n",
    "print(\"number is equal to %d now.\" % number)\n",
    "number +=1"
   ]
  },
  {
   "cell_type": "markdown",
   "metadata": {},
   "source": [
    "Or you can save yourself some time and just program this as a loop:"
   ]
  },
  {
   "cell_type": "code",
   "execution_count": null,
   "metadata": {},
   "outputs": [],
   "source": [
    "number = 1\n",
    "while number <= 10:\n",
    "    print(\"number is equal to %d now.\" % number)\n",
    "    number += 1"
   ]
  },
  {
   "cell_type": "markdown",
   "metadata": {},
   "source": [
    "The while loop is useful if you want to repeat a task while a certain statement is true. Here, this statement is \"number <= 10\". The colon after the statement marks the beginning of the task(s) that are to be performed in the loop. Note also that in Python the task(s) to be done in the loop need to be indented."
   ]
  },
  {
   "cell_type": "markdown",
   "metadata": {},
   "source": [
    "**Aside**: `'%d' % number` is an example of string formatting, in this case we're 'inserting' the value of variables into a string (use `%d` for a number and `%s` for a string). If you want to insert multiple variables, you can use e.g.: `'%d %s' % (num, str)`. This is 'old-style' formatting; you can also use the 'new-style' formatting: `'{} {}'.format(var1, var2)`. The new-style formatting lets us index our entries, which can be convineint."
   ]
  },
  {
   "cell_type": "code",
   "execution_count": null,
   "metadata": {},
   "outputs": [],
   "source": [
    "print('This is %d example of a formatted %s' % (1, 'string'))\n",
    "print ('This is the {}nd example of a formatted {}.'.format(2, 'string'))\n",
    "\n",
    "# indexing with new-style\n",
    "print('This is the {A} thing, here is the {B}, the {C}, and now the {A} again'.format(A='first', C='third', B='second'))"
   ]
  },
  {
   "cell_type": "markdown",
   "metadata": {
    "collapsed": true
   },
   "source": [
    "###### Exercise 3.1\n",
    "\n",
    "Try what happens in the above example if you remove the colon or don't use indentation."
   ]
  },
  {
   "cell_type": "code",
   "execution_count": null,
   "metadata": {},
   "outputs": [],
   "source": [
    "# Exercise 3.1\n",
    "number = 1\n",
    "while number <= 10:\n",
    "print \"number is equal to %d now.\" % number\n",
    "number += 1"
   ]
  },
  {
   "cell_type": "markdown",
   "metadata": {
    "collapsed": true
   },
   "source": [
    "A problem with while loops can be that eventually the condition under which they run is always true and then they run forever. Without the line \"number += 1\" in the above example, the loop would run forever and always print \"number is equal to 1 now.\" to the screen. Therefore, it is important to make sure that while loops terminate at some stage."
   ]
  },
  {
   "cell_type": "markdown",
   "metadata": {
    "collapsed": true
   },
   "source": [
    "If you already know how many times you want to execute a set of tasks, for loops are better suited."
   ]
  },
  {
   "cell_type": "markdown",
   "metadata": {
    "collapsed": true
   },
   "source": [
    "## 3.2 For loops"
   ]
  },
  {
   "cell_type": "markdown",
   "metadata": {},
   "source": [
    "You can equally write the above example as a for loop:"
   ]
  },
  {
   "cell_type": "code",
   "execution_count": null,
   "metadata": {},
   "outputs": [],
   "source": [
    "for number in range (1,11):\n",
    "    print(\"number is equal to %d now.\" % number)"
   ]
  },
  {
   "cell_type": "markdown",
   "metadata": {},
   "source": [
    "Note that the range goes till 11, but the loop stops at 10. This is something where Python is not very intuitive. If you define ranges, Python will not include the last value of your range. Since number is an integer here, the last integer before 11 is 10."
   ]
  },
  {
   "cell_type": "markdown",
   "metadata": {},
   "source": [
    "###### Exercise 3.2.1\n",
    "\n",
    "Use both a while loop and a for loop to print out the first 10 entries in the 6 times table, i.e.:\n",
    "- 1x6=6\n",
    "- 2x6=12\n",
    "- ...\n",
    "- 10x6=60"
   ]
  },
  {
   "cell_type": "code",
   "execution_count": null,
   "metadata": {},
   "outputs": [],
   "source": [
    "# Exercise 3.2.1\n",
    "number = 1\n",
    "while number <= 10:\n",
    "    print(6*number)\n",
    "    number += 1\n",
    "    \n",
    "for number in range(1,11):\n",
    "    print(6*number)"
   ]
  },
  {
   "cell_type": "markdown",
   "metadata": {},
   "source": [
    "You can also use loops within loops - as many as you like. Just keep good track using indentations!"
   ]
  },
  {
   "cell_type": "markdown",
   "metadata": {},
   "source": [
    "###### Exercise 3.2.2\n",
    "\n",
    "Use nested loops to calculate the matrix product of the two matrices:\n",
    "\n",
    "  \\begin{bmatrix}\n",
    "    1 & 2  \\\\\n",
    "    3 & 4\n",
    "  \\end{bmatrix}\n",
    "  \n",
    "  and\n",
    "  \n",
    "  \\begin{bmatrix}\n",
    "    -3 & 1  \\\\\n",
    "    4 & -2\n",
    "  \\end{bmatrix}\n",
    "\n",
    "Note: You can define each matrix as a numpy array (see section 10). You might want to work through section 10 first and then come back and try this exercise."
   ]
  },
  {
   "cell_type": "code",
   "execution_count": null,
   "metadata": {},
   "outputs": [],
   "source": [
    "# Exercise 3.2.2\n",
    "# first we import the numpy module (see below)\n",
    "import numpy\n",
    "# set the two matricies:\n",
    "A = numpy.array([[1,2], [3,4]])\n",
    "print(A)\n",
    "B = numpy.array([[-3,1],[4,-2]])\n",
    "print(B)\n",
    "# make an array of the same size (i.e. 2 x 2), currently filled with zeroes, to store the product:\n",
    "product = numpy.zeros((2,2))\n",
    "\n",
    "# loop through the row numbers of the product:\n",
    "for i in range(2): \n",
    "    # loop through the column numbers of the product:\n",
    "    for j in range(2):\n",
    "        # we get the (i, j) position in the product from the ith row of A and the jth row of B:\n",
    "        product[i, j] = sum(A[i,:] * B[:,j])\n",
    "    \n",
    "print('The product is:\\n', product)"
   ]
  },
  {
   "cell_type": "code",
   "execution_count": null,
   "metadata": {},
   "outputs": [],
   "source": [
    "# There are other (easier) ways of going about this, e.g. numpy provides a function for this:\n",
    "numpy.dot(A, B)\n",
    "# But this exercise demonstrates how we can use nested loops!"
   ]
  },
  {
   "cell_type": "markdown",
   "metadata": {},
   "source": [
    "#### Review:\n",
    "\n",
    "In this section, we have covered:\n",
    "- Loops to do repetitive tasks\n",
    "- The while loop\n",
    "- The for loop"
   ]
  },
  {
   "cell_type": "markdown",
   "metadata": {},
   "source": [
    "# 4 Decisions: if and if ... else"
   ]
  },
  {
   "cell_type": "markdown",
   "metadata": {
    "collapsed": true
   },
   "source": [
    "Decision making plays a key role in programming. Python provides several ways to do that."
   ]
  },
  {
   "cell_type": "markdown",
   "metadata": {},
   "source": [
    "## 4.1 The If statement"
   ]
  },
  {
   "cell_type": "markdown",
   "metadata": {},
   "source": [
    "The If statement is used to check if a condition is fulfilled and then a task (or set of tasks) is executed. The following example shows how it is used to check if a number is even."
   ]
  },
  {
   "cell_type": "code",
   "execution_count": null,
   "metadata": {},
   "outputs": [],
   "source": [
    "number = 2\n",
    "if number % 2 == 0:\n",
    "    print(\"number is even.\")"
   ]
  },
  {
   "cell_type": "markdown",
   "metadata": {},
   "source": [
    "The operator % is called modulus and gives the remainder of an integer division (see section 1.2). The conditional expression follows directly after the word \"if\" and ends with a colon (just as in the syntax for loops). The task(s) to be executed in case the condition is true need to be indented (again as in the syntax for loops). Note that if the condition is not true, the task in the following if statement is simply not executed."
   ]
  },
  {
   "cell_type": "code",
   "execution_count": null,
   "metadata": {},
   "outputs": [],
   "source": [
    "number = 3\n",
    "if number % 2 == 0:\n",
    "    print(\"number is even.\")"
   ]
  },
  {
   "cell_type": "markdown",
   "metadata": {},
   "source": [
    "## 4.2 The if ... else statement"
   ]
  },
  {
   "cell_type": "markdown",
   "metadata": {},
   "source": [
    "An else statement can be combined with an if statement. An else statement contains the block of code that executes if the conditional expression in the if statement resolves a false value."
   ]
  },
  {
   "cell_type": "code",
   "execution_count": null,
   "metadata": {},
   "outputs": [],
   "source": [
    "number = 3\n",
    "if number % 2 == 0:\n",
    "    print(\"number is even.\")\n",
    "else:\n",
    "    print(\"number is odd.\")"
   ]
  },
  {
   "cell_type": "markdown",
   "metadata": {},
   "source": [
    "Just as loops can be nested within loops, if statements can be nested within if statements."
   ]
  },
  {
   "cell_type": "markdown",
   "metadata": {},
   "source": [
    "Now that you know the concept of loops and decision making, by combining them you can now already do a range of tasks!"
   ]
  },
  {
   "cell_type": "markdown",
   "metadata": {},
   "source": [
    "###### Exercise 4.2.1\n",
    "\n",
    "While n < 10, print whether each number is odd or even."
   ]
  },
  {
   "cell_type": "code",
   "execution_count": null,
   "metadata": {},
   "outputs": [],
   "source": [
    "# Exercise 4.2.1\n",
    "for n in range(1,11):\n",
    "    if n % 2 == 0:\n",
    "        print('%d is even' % n)\n",
    "    else:\n",
    "        print('%d is odd' % n)"
   ]
  },
  {
   "cell_type": "markdown",
   "metadata": {},
   "source": [
    "###### Exercise 4.2.2\n",
    "\n",
    "While n < 10, find the number of values that are even."
   ]
  },
  {
   "cell_type": "code",
   "execution_count": null,
   "metadata": {},
   "outputs": [],
   "source": [
    "# Exercise 4.2.2\n",
    "counter = 0\n",
    "for n in range(1,11):\n",
    "    if n % 2 == 0:\n",
    "        counter += 1\n",
    "print(counter)"
   ]
  },
  {
   "cell_type": "markdown",
   "metadata": {},
   "source": [
    "If there is more than one condition you want to check, you can add an `elif`. You can have as many `elif`s between an `if` and `else` as you want."
   ]
  },
  {
   "cell_type": "code",
   "execution_count": null,
   "metadata": {},
   "outputs": [],
   "source": [
    "for n in range(-2, 2):\n",
    "    if n < 0:\n",
    "        print('{} is negative'.format(n))\n",
    "    elif n > 0:\n",
    "        print('{} is positive'.format(n))\n",
    "    else:\n",
    "        print('{} is zero'.format(n))"
   ]
  },
  {
   "cell_type": "markdown",
   "metadata": {},
   "source": [
    "#### Review:\n",
    "\n",
    "In this section, we have covered:\n",
    "- How to do decision making\n",
    "- The if statement\n",
    "- The if ... else statment"
   ]
  },
  {
   "cell_type": "markdown",
   "metadata": {},
   "source": [
    "# 5. Working with lists"
   ]
  },
  {
   "cell_type": "markdown",
   "metadata": {},
   "source": [
    "Recall: a list is a collection of objects, arranged in a specific order.  A comma separates each entry and the whole thing is surrounded by square brackets.\n",
    "    \n",
    "For example:"
   ]
  },
  {
   "cell_type": "code",
   "execution_count": null,
   "metadata": {},
   "outputs": [],
   "source": [
    "exampleList = [1,5,3,2]"
   ]
  },
  {
   "cell_type": "code",
   "execution_count": null,
   "metadata": {},
   "outputs": [],
   "source": [
    "type(exampleList)"
   ]
  },
  {
   "cell_type": "markdown",
   "metadata": {},
   "source": [
    "### List indexing"
   ]
  },
  {
   "cell_type": "markdown",
   "metadata": {},
   "source": [
    "You can retrieve entries in a list by specifying the index of the entry in the list.  This is done by putting the index in square brackets after the name of the list.  \n",
    "\n",
    "Counting of indices in python lists starts at zero, so to pick the first entry in a list, specify index 0.\n",
    "\n",
    "eg. to specify the first value of the list, exampleList, defined above:"
   ]
  },
  {
   "cell_type": "code",
   "execution_count": null,
   "metadata": {},
   "outputs": [],
   "source": [
    "exampleList[0]"
   ]
  },
  {
   "cell_type": "markdown",
   "metadata": {},
   "source": [
    "###### Exercise 5.1"
   ]
  },
  {
   "cell_type": "markdown",
   "metadata": {},
   "source": [
    "Pick out the third entry of the list exampleList"
   ]
  },
  {
   "cell_type": "code",
   "execution_count": null,
   "metadata": {},
   "outputs": [],
   "source": [
    "# Exercise 5.1 a)\n",
    "# exampleList[3]? This would print the 4th entry\n",
    "# Remember Python is 0-indexed\n",
    "exampleList[2]"
   ]
  },
  {
   "cell_type": "markdown",
   "metadata": {},
   "source": [
    "What happens if you try to pick an entry that doesn't exist, for example the tenth entry?"
   ]
  },
  {
   "cell_type": "code",
   "execution_count": null,
   "metadata": {},
   "outputs": [],
   "source": [
    "# Exercise 5.1 b)\n",
    "exampleList[9]"
   ]
  },
  {
   "cell_type": "markdown",
   "metadata": {},
   "source": [
    "You can also use negative numbers as indices, which start backwards from the end of the list.\n",
    "This is useful if you don't know how long your list is, but want to pick, for example, the last entry:\n"
   ]
  },
  {
   "cell_type": "code",
   "execution_count": null,
   "metadata": {},
   "outputs": [],
   "source": [
    "exampleList[-1]"
   ]
  },
  {
   "cell_type": "markdown",
   "metadata": {},
   "source": [
    "##### Exercise 5.2"
   ]
  },
  {
   "cell_type": "markdown",
   "metadata": {},
   "source": [
    "Pick out the last but one entry in the list, exampleList, using negative indices"
   ]
  },
  {
   "cell_type": "code",
   "execution_count": null,
   "metadata": {},
   "outputs": [],
   "source": [
    "# Exercise 5.2\n",
    "# If -1 returns the last entry, -2 should return \n",
    "# the penultimate entry\n",
    "exampleList[-2]"
   ]
  },
  {
   "cell_type": "markdown",
   "metadata": {},
   "source": [
    "### Changing entries in a list"
   ]
  },
  {
   "cell_type": "markdown",
   "metadata": {},
   "source": [
    "We can use list indexing to change the value of a particular entry in a list.\n",
    "\n",
    "For example, to change the value of the second entry in exampleList from 5 to 32 we do:"
   ]
  },
  {
   "cell_type": "code",
   "execution_count": null,
   "metadata": {},
   "outputs": [],
   "source": [
    "exampleList[1] = 32"
   ]
  },
  {
   "cell_type": "markdown",
   "metadata": {},
   "source": [
    "Now exampleList looks like:"
   ]
  },
  {
   "cell_type": "code",
   "execution_count": null,
   "metadata": {},
   "outputs": [],
   "source": [
    "exampleList"
   ]
  },
  {
   "cell_type": "markdown",
   "metadata": {},
   "source": [
    "##### Exercise 5.3\n",
    "\n",
    "Add 37 to the fourth entry in exampleList"
   ]
  },
  {
   "cell_type": "code",
   "execution_count": null,
   "metadata": {},
   "outputs": [],
   "source": [
    "# Exercise 5.3 a)\n",
    "exampleList[3] = exampleList[3] + 37"
   ]
  },
  {
   "cell_type": "markdown",
   "metadata": {},
   "source": [
    "Check that you have done what you expected by looking at exampleList:"
   ]
  },
  {
   "cell_type": "code",
   "execution_count": null,
   "metadata": {},
   "outputs": [],
   "source": [
    "# Exercise 5.3 b)\n",
    "exampleList"
   ]
  },
  {
   "cell_type": "markdown",
   "metadata": {},
   "source": [
    "### List slicing"
   ]
  },
  {
   "cell_type": "markdown",
   "metadata": {},
   "source": [
    "We can also select a section (or slice) of the original list using slicing.\n",
    "\n",
    "Here, we specify the first index we want to select, then a semicolon, then one more than the last index we want to select.\n",
    "\n",
    "For example, to select the second to the third entries in exampleList:"
   ]
  },
  {
   "cell_type": "code",
   "execution_count": null,
   "metadata": {},
   "outputs": [],
   "source": [
    "exampleList[1:3]"
   ]
  },
  {
   "cell_type": "markdown",
   "metadata": {},
   "source": [
    "##### Exercise 5.4\n",
    "Pick out the first to third entries (inclusive) from exampleList"
   ]
  },
  {
   "cell_type": "code",
   "execution_count": null,
   "metadata": {},
   "outputs": [],
   "source": [
    "# Exercise 5.3\n",
    "exampleList[0:3]"
   ]
  },
  {
   "cell_type": "markdown",
   "metadata": {},
   "source": [
    "### Finding the length of a list\n",
    "\n",
    "To find the length of a list, use the function len(list):"
   ]
  },
  {
   "cell_type": "code",
   "execution_count": null,
   "metadata": {},
   "outputs": [],
   "source": [
    "len(exampleList)"
   ]
  },
  {
   "cell_type": "markdown",
   "metadata": {},
   "source": [
    "### Adding an entry to the end of a list\n",
    "\n",
    "What if you want to update your list and add a further entry?\n",
    "\n",
    "If you want to add a single entry to the list, use the append function:"
   ]
  },
  {
   "cell_type": "code",
   "execution_count": null,
   "metadata": {},
   "outputs": [],
   "source": [
    "exampleList.append(9)"
   ]
  },
  {
   "cell_type": "code",
   "execution_count": null,
   "metadata": {},
   "outputs": [],
   "source": [
    "exampleList"
   ]
  },
  {
   "cell_type": "markdown",
   "metadata": {},
   "source": [
    "If you have a whole other list of entries that you want to add the end of your list, you can add the two lists together to make a third list:\n"
   ]
  },
  {
   "cell_type": "code",
   "execution_count": null,
   "metadata": {},
   "outputs": [],
   "source": [
    "exampleList + [5,2,721]"
   ]
  },
  {
   "cell_type": "markdown",
   "metadata": {},
   "source": [
    "### Other functions of lists\n",
    "\n",
    "Other useful functions you can perform on lists:\n",
    "\n",
    "sorted(*listname*)  \n",
    "sorts a list in ascending order:"
   ]
  },
  {
   "cell_type": "code",
   "execution_count": null,
   "metadata": {},
   "outputs": [],
   "source": [
    "unsortedlist = [9,2,7,4,1,8,12,6,4,1]\n",
    "sorted(unsortedlist)"
   ]
  },
  {
   "cell_type": "markdown",
   "metadata": {},
   "source": [
    "\n",
    "sum(*listname*)\n",
    "sums the values in a list:"
   ]
  },
  {
   "cell_type": "code",
   "execution_count": null,
   "metadata": {},
   "outputs": [],
   "source": [
    "sum(unsortedlist)"
   ]
  },
  {
   "cell_type": "markdown",
   "metadata": {},
   "source": [
    "##### Exercise 5.5\n",
    "\n",
    "a) Find average value of the data in the list below:"
   ]
  },
  {
   "cell_type": "code",
   "execution_count": null,
   "metadata": {},
   "outputs": [],
   "source": [
    "data = [1,4,6,3,9,12,5,4,20,2,6,4,8,1,1,2,5,4,6,7,3]\n",
    "\n",
    "# Exercise 5.5 a)\n",
    "# Average = sum/length\n",
    "summ = sum(data)\n",
    "length = len(data)\n",
    "average = summ/length\n",
    "print(average)"
   ]
  },
  {
   "cell_type": "markdown",
   "metadata": {},
   "source": [
    "b) Add a new data point '17' to the list"
   ]
  },
  {
   "cell_type": "code",
   "execution_count": null,
   "metadata": {},
   "outputs": [],
   "source": [
    "# Exercise 5.5 b)\n",
    "data.append(17)\n",
    "data"
   ]
  },
  {
   "cell_type": "markdown",
   "metadata": {},
   "source": [
    "c) Find the median value of the data"
   ]
  },
  {
   "cell_type": "code",
   "execution_count": null,
   "metadata": {},
   "outputs": [],
   "source": [
    "# Exercise 5.5 c)\n",
    "sorted_data = sorted(data)\n",
    "median_index = len(data)//2 + 1 # remeber to add 1, since Pytohn is 0-indexed!\n",
    "sorted_data[median_index] # not doing an integer division about will make this index fail "
   ]
  },
  {
   "cell_type": "markdown",
   "metadata": {},
   "source": [
    "### Converting strings to lists"
   ]
  },
  {
   "cell_type": "markdown",
   "metadata": {},
   "source": [
    "So far we have been working with lists of integers or floating point values.\n",
    "\n",
    "What if we have a string that we want to convert to a list? eg. a DNA or protein sequence.  To convert a string to a list, we use *list*(*string*).\n",
    "\n",
    "eg:"
   ]
  },
  {
   "cell_type": "code",
   "execution_count": null,
   "metadata": {},
   "outputs": [],
   "source": [
    "DNA = 'ACAATGCGATACGTATTTGCG'\n",
    "DNA = list(DNA)\n",
    "print(DNA)"
   ]
  },
  {
   "cell_type": "markdown",
   "metadata": {},
   "source": [
    "Then we can use list functions on the DNA list.\n",
    "\n",
    "##### Exercise 5.6\n",
    "\n",
    "Find the length of the DNA sequence and change the second-last base to a 'T'"
   ]
  },
  {
   "cell_type": "code",
   "execution_count": null,
   "metadata": {},
   "outputs": [],
   "source": [
    "# Exercise 5.6\n",
    "print(len(DNA))\n",
    "DNA[-2] = 'T'\n",
    "print(DNA)"
   ]
  },
  {
   "cell_type": "markdown",
   "metadata": {},
   "source": [
    "##### Review\n",
    "\n",
    "In this section we have learnt:\n",
    "- index numbers in python lists start at zero\n",
    "- to pick out values in a list by their index, using *listname*[*index*]\n",
    "- to pick out a slice of a list by index, using *listname*[ *index1*: *index2* ] (*index2* is one larger than the index of the last entry you want to select)\n",
    "- to find the length of a list, using len(*listname*)\n",
    "- to add a single entry to the end of a list, use *listname*.append(*entry*)\n",
    "- we can concatenate two lists to make a third list\n",
    "- to sort the entries in a list using sort(*listname*)\n",
    "- to sum the entries in a list using sum(*listname*)\n",
    "- convert letters in a string to a list using list(*string*)"
   ]
  },
  {
   "cell_type": "markdown",
   "metadata": {},
   "source": [
    "# 6.  Using lists in for loops"
   ]
  },
  {
   "cell_type": "markdown",
   "metadata": {},
   "source": [
    "To iterate through values in a list, we use a 'for' loop.\n",
    "\n",
    "So to print every value of a list of names, for example:"
   ]
  },
  {
   "cell_type": "code",
   "execution_count": null,
   "metadata": {},
   "outputs": [],
   "source": [
    "for name in ['Jack','Elisa','Rahim','Sterling','Lucas','Anya']:\n",
    "    print(name)"
   ]
  },
  {
   "cell_type": "markdown",
   "metadata": {},
   "source": [
    "We can also set up the list in advance and refer back to the list name:"
   ]
  },
  {
   "cell_type": "code",
   "execution_count": null,
   "metadata": {},
   "outputs": [],
   "source": [
    "names = ['Jack','Elisa','Rahim','Sterling','Lucas','Anya']\n",
    "for name in names:\n",
    "    print(name)"
   ]
  },
  {
   "cell_type": "markdown",
   "metadata": {},
   "source": [
    "###### Exercise 6.1\n",
    "From the list of distances given below, obtain a list of distances squared"
   ]
  },
  {
   "cell_type": "code",
   "execution_count": null,
   "metadata": {},
   "outputs": [],
   "source": [
    "# Exercise 6.1\n",
    "dists = [3.1, 8.4, 9.0, 4.2, 3.0]\n",
    "dist_squared = []\n",
    "for dist in dists:\n",
    "    dist_squared.append(dist*dist)\n",
    "print(dist_squared)"
   ]
  },
  {
   "cell_type": "markdown",
   "metadata": {},
   "source": [
    "** List comprehension** is a handy shortcut when looping over lists:"
   ]
  },
  {
   "cell_type": "code",
   "execution_count": null,
   "metadata": {},
   "outputs": [],
   "source": [
    "dist_squared2 = [dist*dist for dist in dists]\n",
    "print(dist_squared2)"
   ]
  },
  {
   "cell_type": "markdown",
   "metadata": {},
   "source": [
    "This does the same thing as above (loops over `dists` and for each entry `dist` adds `dist` x `dist` at the corresponding index of a new list, `dist_squared2`), only in one line instead of three. You can do a similar thing with dictionaries and tuples."
   ]
  },
  {
   "cell_type": "markdown",
   "metadata": {},
   "source": [
    "### The *range* function\n",
    "\n",
    "When using a for loop it can sometimes be useful to create a list of consecutive numbers.\n",
    "To do this, you can use the *range* function in combination with list comprehension, which returns a list from 0 to one less than the argument given.\n",
    "eg:"
   ]
  },
  {
   "cell_type": "code",
   "execution_count": null,
   "metadata": {},
   "outputs": [],
   "source": [
    "[ i for i in range(12) ]"
   ]
  },
  {
   "cell_type": "markdown",
   "metadata": {},
   "source": [
    "##### Exercise 6.2\n",
    "\n",
    "Below are two lists, the first gives the amount of growth (in cm) of four pieces of grass in the first twelve hours of the day, the second for the same pieces of grass in the last twelve hours of the day. Find the total amount of growth for each piece of grass."
   ]
  },
  {
   "cell_type": "code",
   "execution_count": null,
   "metadata": {},
   "outputs": [],
   "source": [
    "# Exercise 6.2\n",
    "am = [4.3, 7.1, 9.5, 8.5]\n",
    "pm = [1.2, 3.2, 4.2, 3.9]\n",
    "\n",
    "total = []\n",
    "for i in range(len(am)):\n",
    "    total.append(am[i] + pm[i])\n",
    "total"
   ]
  },
  {
   "cell_type": "markdown",
   "metadata": {},
   "source": [
    "#### Exercise 6.3\n",
    "\n",
    "Below is a DNA sequence. During transcription, when mRNA is formed, base pairing occurs, so that the resultant mRNA sequence relates to the original DNA sequence in the following way:\n",
    "DNA -> mRNA\n",
    "- A -> U\n",
    "- C -> G\n",
    "- G -> C\n",
    "- T -> A\n",
    "\n",
    "The mRNA sequence is translated to protein with the mRNA sequence being read three letters at a time - the three letter codes give the protein amino acid, eg.:\n",
    "- AUG = methionine\n",
    "- AAA or AAG = lysine\n",
    "\n",
    "etc.\n",
    "\n",
    "a) Check that the DNA sequence length is divisible by 3.\n",
    "\n",
    "b) How many methionines would be in the resultant protein sequence?\n",
    "\n",
    "c) [if you have time] what would the resultant protein sequence be? [you will need to look online for mRNA -> amino acid transcription codes]"
   ]
  },
  {
   "cell_type": "code",
   "execution_count": null,
   "metadata": {},
   "outputs": [],
   "source": [
    "DNA = 'GGCGGCCCCCTAGCGTCGCGCAGGGTCGGGGACTGCGCGGCGGTGCCAGGCCGGGCGTGGGCGAGAGCACGAACGGGCTGCCTGCGGGCTGAGAGCGTCGAGCTGTCACCATGGGTGATCACGCTTGGAGCTTCCTAAAGGACTTCCTGGCCGGGGGCGTCGCCGCTGCCGTCTCCAAGACCGCGGTCGCCCCCATCGAGAGGGTCAAACTGCTGCTGCAGGTGAGGACCGCGCGGTGCAAGAGGCGGGCGCGGGCGCGGCGGGCCGGGCGGGGCGCGCGATGCGGCGCGAGCTGCAGGGCGCGGGGCGCCGCGGAAAATCTGCGCCAGGCCACAGGCCCGGGCGCCCGCCCGCCCGCCCGCCCGCCCGCGGGGGAAGAAGGTGCCCTCTGCGTAGAGACAGGTCCAGCGTCAGTCGCAG'"
   ]
  },
  {
   "cell_type": "code",
   "execution_count": null,
   "metadata": {},
   "outputs": [],
   "source": [
    "# Exercise 6.3 a)\n",
    "len(DNA) % 3 == 0 "
   ]
  },
  {
   "cell_type": "code",
   "execution_count": null,
   "metadata": {},
   "outputs": [],
   "source": [
    "# Exercise 6.3 b)\n",
    "count = 0\n",
    "num_codons = len(DNA)//3\n",
    "\n",
    "# loop through the number of codons:\n",
    "for i in range(num_codons):\n",
    "    # each three-letter codon will be located starting at position i*3 in the full string\n",
    "    codon = DNA[i*3:i*3+3]\n",
    "    # it turns out there are no methionines ('ATG') so lets look for lysines (AAA, AAG) instead\n",
    "    if codon == 'AAA' or codon == 'AAG':\n",
    "        count = count + 1\n",
    "print('There are {} lysines'.format(count))"
   ]
  },
  {
   "cell_type": "code",
   "execution_count": null,
   "metadata": {},
   "outputs": [],
   "source": [
    "# Exercise 6.3 c)\n",
    "# dictionary with codon-amino acid pairs (copied followign a quick google)\n",
    "codontable = {\n",
    "    'ATA':'I', 'ATC':'I', 'ATT':'I', 'ATG':'M',\n",
    "    'ACA':'T', 'ACC':'T', 'ACG':'T', 'ACT':'T',\n",
    "    'AAC':'N', 'AAT':'N', 'AAA':'K', 'AAG':'K',\n",
    "    'AGC':'S', 'AGT':'S', 'AGA':'R', 'AGG':'R',\n",
    "    'CTA':'L', 'CTC':'L', 'CTG':'L', 'CTT':'L',\n",
    "    'CCA':'P', 'CCC':'P', 'CCG':'P', 'CCT':'P',\n",
    "    'CAC':'H', 'CAT':'H', 'CAA':'Q', 'CAG':'Q',\n",
    "    'CGA':'R', 'CGC':'R', 'CGG':'R', 'CGT':'R',\n",
    "    'GTA':'V', 'GTC':'V', 'GTG':'V', 'GTT':'V',\n",
    "    'GCA':'A', 'GCC':'A', 'GCG':'A', 'GCT':'A',\n",
    "    'GAC':'D', 'GAT':'D', 'GAA':'E', 'GAG':'E',\n",
    "    'GGA':'G', 'GGC':'G', 'GGG':'G', 'GGT':'G',\n",
    "    'TCA':'S', 'TCC':'S', 'TCG':'S', 'TCT':'S',\n",
    "    'TTC':'F', 'TTT':'F', 'TTA':'L', 'TTG':'L',\n",
    "    'TAC':'Y', 'TAT':'Y', 'TAA':'_', 'TAG':'_',\n",
    "    'TGC':'C', 'TGT':'C', 'TGA':'_', 'TGG':'W',\n",
    "    }\n",
    "\n",
    "\n",
    "# Using list comprehension, we'll loop through the \n",
    "# number of codons, get the appropriate three letter code using\n",
    "# list slicing (DNA[3*i:3*i+3]), and then find the \n",
    "# appropriate amino acid corresponding to this codon \n",
    "# using the above dictionary\n",
    "prot = [codontable[DNA[3*i:3*i+3]] for i in range(num_codons)]\n",
    "print(prot)\n",
    "    \n",
    "# this is equivalent to:\n",
    "prot2 = []\n",
    "for i in range(num_codons):\n",
    "    codon = DNA[3*i:3*i+3]\n",
    "    aa = codontable[codon]\n",
    "    prot2.append(aa)\n",
    "print(prot2)\n",
    "    \n",
    "# Currently our amino acid sequence is a list. If we \n",
    "# want a string instead, we can use the 'join' function, \n",
    "# which is used as:   string.join(list)\n",
    "# Given a list e.g. [1,2,3,4], the result is:\n",
    "#     1string2string3string4 \n",
    "# Here we don't want anything separating the entries in\n",
    "# the list so we use '' (and empty string)\n",
    "print(''.join(prot))"
   ]
  },
  {
   "cell_type": "markdown",
   "metadata": {},
   "source": [
    "**This might help you with c): An aside on dictionaries**\n",
    "\n",
    "When defining a dictionary, it has the form:\n",
    " `dict_name = {key1: value1, key2: value2, ...}`\n",
    "\n",
    "Keys can be strings, integers, tuples; values can be strings, integers, tuples, lists, other dictionaries..."
   ]
  },
  {
   "cell_type": "code",
   "execution_count": null,
   "metadata": {},
   "outputs": [],
   "source": [
    "key3 = 3\n",
    "dict_name = {'key1': 1, (2,2): 'value2', key3: [3,3]}\n",
    "dict_name"
   ]
  },
  {
   "cell_type": "markdown",
   "metadata": {},
   "source": [
    "Each key and value form a pair. We can use our dictionary to get the 'value' corresponding to a particular key:"
   ]
  },
  {
   "cell_type": "code",
   "execution_count": null,
   "metadata": {},
   "outputs": [],
   "source": [
    "print(dict_name['key1'])\n",
    "print(dict_name[(2,2)])\n",
    "print(dict_name[3])\n",
    "print(dict_name[key3])"
   ]
  },
  {
   "cell_type": "markdown",
   "metadata": {},
   "source": [
    "After first setting up our dictionary, we can then add or change entries:"
   ]
  },
  {
   "cell_type": "code",
   "execution_count": null,
   "metadata": {},
   "outputs": [],
   "source": [
    "dict_name['key1'] = 'newvalue'\n",
    "dict_name['key1']"
   ]
  },
  {
   "cell_type": "code",
   "execution_count": null,
   "metadata": {},
   "outputs": [],
   "source": [
    "dict_name['newkey'] = 4\n",
    "dict_name['newkey']"
   ]
  },
  {
   "cell_type": "markdown",
   "metadata": {},
   "source": [
    "###### Review\n",
    "We have learnt:\n",
    "- to iterate through list using 'for'\n",
    "- using the *range* function to create a list of consecutive numbers"
   ]
  },
  {
   "cell_type": "markdown",
   "metadata": {},
   "source": [
    "# 7. Help and documenting"
   ]
  },
  {
   "cell_type": "markdown",
   "metadata": {},
   "source": [
    "Python can be overwhelming, especially when you are reading someone else's scripts.\n",
    "\n",
    "There are two ways to make this simpler:\n",
    "    \n",
    "Comments on scripts\n",
    "\n",
    "Use the help module\n",
    "\n",
    "Comments are simple: using '#' before a line makes it a comment. The compiler will simply\n",
    "skip that line when processing your code. This means you can annotate all the little details \n",
    "of your code to help others following it better (and yourself, too!)."
   ]
  },
  {
   "cell_type": "markdown",
   "metadata": {},
   "source": [
    "The second part is also incredibly useful.\n",
    "\n",
    "The help module can give a lot of information on how to use certain functions.\n",
    "\n",
    "Try 'help(list)'"
   ]
  },
  {
   "cell_type": "code",
   "execution_count": null,
   "metadata": {},
   "outputs": [],
   "source": [
    "help(list)"
   ]
  },
  {
   "cell_type": "markdown",
   "metadata": {},
   "source": [
    "You can also use ? and ?? for even more detail (only works for some modules).\n",
    "\n",
    "? can give you information on how to use the functions (provided they have docstrigs, i.e. '''These''')\n",
    "?? will show you the code being run when you use the function.\n",
    "\n",
    "? and ?? works in IPython, and it opens a pop-up.\n",
    "\n",
    "You will have the chance to try it later on."
   ]
  },
  {
   "cell_type": "markdown",
   "metadata": {},
   "source": [
    "# 8. Reading and writing files"
   ]
  },
  {
   "cell_type": "markdown",
   "metadata": {},
   "source": [
    "One important aspect of using Python is being able to read and write files. To do this you use the *open* command:\n",
    "*open*(*filename-in-quotes*, *mode*)\n",
    "\n",
    "In place of *mode* you can specify:\n",
    "- 'r', to open a file you want to read\n",
    "- 'w', to open a file that you want to write (starting a new file).\n",
    "- 'a', to open a file that you want to write (appending to an existing file).\n",
    "\n",
    "So, to open a file with filename file1.txt in 'read' mode:\n",
    "\n",
    "open('file1.txt', 'r')\n",
    "\n",
    "To open a file, file2.txt, in 'write' mode:\n",
    "\n",
    "open('file2.txt', 'w')\n",
    "CAREFUL: this will create a new file called file2.txt.  If you had an existing file named file2.txt it will be overwritten.\n",
    "\n",
    "To open a file, file3.txt, in 'append' mode:\n",
    "\n",
    "open('file3.txt', 'a')\n",
    "\n",
    "If you don't specify the mode, the default is 'r'.\n",
    "\n",
    "### Reading files\n",
    "\n",
    "When we open a file in 'read' mode, we will also want to be able to access what has been read.\n",
    "\n",
    "To start with, we will create an opened file object and set it as a new variable, *f*.  (You could change *f* to whatever you want!):"
   ]
  },
  {
   "cell_type": "code",
   "execution_count": null,
   "metadata": {},
   "outputs": [],
   "source": [
    "f = open('file1.txt', 'r')"
   ]
  },
  {
   "cell_type": "markdown",
   "metadata": {},
   "source": [
    "The file object, *f*, is an *iterator*, that is we can iterate through the file object (using a for loop) to obtain each new line in the file.  We can then perform some operation on each line of the file.\n",
    "\n",
    "For example, if we just want to print each line in the file:"
   ]
  },
  {
   "cell_type": "code",
   "execution_count": null,
   "metadata": {},
   "outputs": [],
   "source": [
    "for line in f:\n",
    "    print(line)"
   ]
  },
  {
   "cell_type": "markdown",
   "metadata": {},
   "source": [
    "Open the file, file1.txt, in a text editor and check that the file indeed contains the lines we printed above.\n",
    "\n",
    "Once we have iterated once through the file object, *f*, it is empty, so if we do the same thing again, nothing will happen:"
   ]
  },
  {
   "cell_type": "code",
   "execution_count": null,
   "metadata": {},
   "outputs": [],
   "source": [
    "for line in f:\n",
    "    print(line)"
   ]
  },
  {
   "cell_type": "markdown",
   "metadata": {},
   "source": [
    "If we want to read the lines again, we need to close the file object, using f.close() , and reopen the file:\n"
   ]
  },
  {
   "cell_type": "code",
   "execution_count": null,
   "metadata": {},
   "outputs": [],
   "source": [
    "f.close()\n",
    "f = open('file1.txt', 'r')"
   ]
  },
  {
   "cell_type": "markdown",
   "metadata": {},
   "source": [
    "Now we can read the lines in the file again:"
   ]
  },
  {
   "cell_type": "code",
   "execution_count": null,
   "metadata": {},
   "outputs": [],
   "source": [
    "for line in f:\n",
    "    print(line)"
   ]
  },
  {
   "cell_type": "markdown",
   "metadata": {},
   "source": [
    "Let's close the file object again, so we don't have it hanging around!"
   ]
  },
  {
   "cell_type": "code",
   "execution_count": null,
   "metadata": {},
   "outputs": [],
   "source": [
    "f.close()"
   ]
  },
  {
   "cell_type": "markdown",
   "metadata": {},
   "source": [
    "If you only wanted to read through the contents of the file once, this would fine, but it is quite a nuisance if you want to go refer back to the lines in the file later on.\n",
    "\n",
    "Instead, we can convert the file object to a list, which then gives us a list of the lines in the file, that we can go back to:"
   ]
  },
  {
   "cell_type": "code",
   "execution_count": null,
   "metadata": {},
   "outputs": [],
   "source": [
    "file_object = open('file1.txt', 'r')\n",
    "file_list = list(file_object)\n",
    "file_list\n",
    "file_object.close()"
   ]
  },
  {
   "cell_type": "markdown",
   "metadata": {},
   "source": [
    "Note that:\n",
    "1. this is a list of string objects, and each string ends in a new line character, and\n",
    "2. we can still use file_list to print out the lines of the file in a 'for' loop:"
   ]
  },
  {
   "cell_type": "code",
   "execution_count": null,
   "metadata": {},
   "outputs": [],
   "source": [
    "for line in file_list:\n",
    "    print(line)"
   ]
  },
  {
   "cell_type": "markdown",
   "metadata": {},
   "source": [
    "You can also use the `readlines` function:"
   ]
  },
  {
   "cell_type": "code",
   "execution_count": null,
   "metadata": {},
   "outputs": [],
   "source": [
    "file_object = open('file1.txt', 'r')\n",
    "file_list2 = file_object.readlines()\n",
    "file_object.close()\n",
    "file_list2"
   ]
  },
  {
   "cell_type": "markdown",
   "metadata": {},
   "source": [
    "But now we can use the functions that work on lists to access the lines in the file.\n",
    "\n",
    "Let's put that into practise with an exercise:"
   ]
  },
  {
   "cell_type": "markdown",
   "metadata": {},
   "source": [
    "###### Exercise 8.1\n",
    "\n",
    "a) Print out just the first line in the file"
   ]
  },
  {
   "cell_type": "code",
   "execution_count": null,
   "metadata": {},
   "outputs": [],
   "source": [
    "# Exercise 8.1 a)\n",
    "print(file_list[0])"
   ]
  },
  {
   "cell_type": "markdown",
   "metadata": {},
   "source": [
    "b) Print out all except the first line in the file"
   ]
  },
  {
   "cell_type": "code",
   "execution_count": null,
   "metadata": {},
   "outputs": [],
   "source": [
    "# Exercise 8.1 b)\n",
    "for line in file_list[1:]:\n",
    "    print(line)"
   ]
  },
  {
   "cell_type": "markdown",
   "metadata": {},
   "source": [
    "c) Change the third peptide sequence from  'PLSDMASI' to 'PLSEMASI'"
   ]
  },
  {
   "cell_type": "code",
   "execution_count": null,
   "metadata": {},
   "outputs": [],
   "source": [
    "# Exercise 8.1 c)\n",
    "file_list[3] = 'PLSEMASI'"
   ]
  },
  {
   "cell_type": "markdown",
   "metadata": {},
   "source": [
    "d) Add a new peptide sequence (YYVHNKSERFT) to the end of file_list"
   ]
  },
  {
   "cell_type": "code",
   "execution_count": null,
   "metadata": {},
   "outputs": [],
   "source": [
    "# Exercise 8.1 d)\n",
    "file_list.append('YYVHNKSERFT')"
   ]
  },
  {
   "cell_type": "markdown",
   "metadata": {},
   "source": [
    "e) Now print all the peptide sequences again (without the first line)"
   ]
  },
  {
   "cell_type": "code",
   "execution_count": null,
   "metadata": {},
   "outputs": [],
   "source": [
    "# Exercise 8.1 e)\n",
    "for line in file_list[1:]:\n",
    "    print(line)"
   ]
  },
  {
   "cell_type": "markdown",
   "metadata": {},
   "source": [
    "### Writing files\n",
    "\n",
    "To write the updated list of peptides to a new file we would need to open a new file, using 'write' mode, and then use the *write* fuction.\n",
    "\n",
    "The following example opens a new file, file2.txt (as mentioned above, we need to be careful that this file doesn't already exist, otherwise it will be overwritten), then writes three lines to the new file.  Notice that the argument to the *write* function is a single string. We the use of the new line character (\\n) as part of the string to make separate lines."
   ]
  },
  {
   "cell_type": "code",
   "execution_count": null,
   "metadata": {},
   "outputs": [],
   "source": [
    "file_object_2 = open('file2.txt', 'w')\n",
    "file_object_2.write('In this new file\\nthis is the second line\\n')"
   ]
  },
  {
   "cell_type": "markdown",
   "metadata": {},
   "source": [
    "If I want to write more to the file I can do so by using the *write* function again:"
   ]
  },
  {
   "cell_type": "code",
   "execution_count": null,
   "metadata": {},
   "outputs": [],
   "source": [
    "file_object_2.write('and this is the third line\\n')"
   ]
  },
  {
   "cell_type": "markdown",
   "metadata": {},
   "source": [
    "Once finished writing to the file, we should close the file, using *close* as before."
   ]
  },
  {
   "cell_type": "code",
   "execution_count": null,
   "metadata": {},
   "outputs": [],
   "source": [
    "file_object_2.close()"
   ]
  },
  {
   "cell_type": "markdown",
   "metadata": {},
   "source": [
    "We can now no longer write to file_object_2:"
   ]
  },
  {
   "cell_type": "code",
   "execution_count": null,
   "metadata": {},
   "outputs": [],
   "source": [
    "file_object_2.write('another line\\n')"
   ]
  },
  {
   "cell_type": "markdown",
   "metadata": {},
   "source": [
    "Open file2.txt in a text editor to check that the lines we wrote to the file are there.\n",
    "\n",
    "If we now want to append a fourth line to file2.txt, we can open the file again, this time in 'append' mode.\n",
    "\n",
    "The following opens file2.txt in append mode, writes a third line to that file, then closes the file object."
   ]
  },
  {
   "cell_type": "code",
   "execution_count": null,
   "metadata": {},
   "outputs": [],
   "source": [
    "file_object_3 = open('file2.txt', 'a')\n",
    "file_object_3.write('this line will be appended\\n')\n",
    "file_object_3.close()"
   ]
  },
  {
   "cell_type": "markdown",
   "metadata": {},
   "source": [
    "Check file2.txt again (by opening in a text editor)\n",
    "\n",
    "###### Exercise 8.2\n",
    "\n",
    "Going back to our file of peptide sequences: write the updated list of peptide sequence lines to a new file called 'peptides.txt'.  Check your answer by opening 'peptides.txt' in a text editor.\n"
   ]
  },
  {
   "cell_type": "code",
   "execution_count": null,
   "metadata": {},
   "outputs": [],
   "source": [
    "# Exercise 8.2\n",
    "pep_file = open('peptides.txt', 'w')\n",
    "for line in file_list:\n",
    "    pep_file.write(line)\n",
    "pep_file.close()"
   ]
  },
  {
   "cell_type": "markdown",
   "metadata": {},
   "source": [
    "** An extra note **\n",
    "\n",
    "If you don't want to have to remeber to close the file when you're done with it, you can work with your file inside a `with` statement. Your file will be automatically closed at the end of the with statement. The technical term you may see for this type of usage is using a file as a 'context manager'."
   ]
  },
  {
   "cell_type": "code",
   "execution_count": null,
   "metadata": {},
   "outputs": [],
   "source": [
    "with open('file3.txt', 'w') as out_file:\n",
    "    # within this statement, the file is open\n",
    "    out_file.write('test')"
   ]
  },
  {
   "cell_type": "code",
   "execution_count": null,
   "metadata": {},
   "outputs": [],
   "source": [
    "with open('file3.txt', 'w') as out_file:\n",
    "    # within this statement, the file is open\n",
    "    out_file.write('test')\n",
    "\n",
    "# now the file is closed\n",
    "out_file.write('test')"
   ]
  },
  {
   "cell_type": "markdown",
   "metadata": {},
   "source": [
    "#### Review\n",
    "In this section we have learnt:\n",
    "- to open files using *open*('*filename*', '*mode*')\n",
    "- 'r' is read mode; 'w' is write mode and 'a' is append mode.\n",
    "- to perform operation on the lines in a file that has been opened in read mode, convert the file object to a list, using list(*file_object*)\n",
    "- if opening a file in write mode, the new file will overwrite another file of the same name\n",
    "- to write lines to a file opened in append or write mode, use *file_object*.write('*text-to-write-to-file*')\n",
    "- once finished with a file object, close it using *file_object*.close()\n"
   ]
  },
  {
   "cell_type": "markdown",
   "metadata": {},
   "source": [
    "# 9. Writing functions"
   ]
  },
  {
   "cell_type": "markdown",
   "metadata": {},
   "source": [
    "\"A function is a block of organised, reusable code that can be used to perform a single, related action.\"\n",
    "\n",
    "We have already seen examples of predefined python functions, most notably Print(), but Python gives you the ability to define your own, custom functions.\n",
    "\n",
    "The way you define a custom function is as follows:\n",
    "\n",
    "def function_name (function_variables):\n",
    "\n",
    "    tasks for the function to perform\n",
    "    \n",
    "    return Whatever we want our function to produce as a result\n",
    "    \n"
   ]
  },
  {
   "cell_type": "markdown",
   "metadata": {},
   "source": [
    "A very simple example, divide any given number by 3."
   ]
  },
  {
   "cell_type": "code",
   "execution_count": null,
   "metadata": {},
   "outputs": [],
   "source": [
    "def divider(x):\n",
    "    return x/3"
   ]
  },
  {
   "cell_type": "markdown",
   "metadata": {},
   "source": [
    "Now that we defined the function, it's time to use it, or call it!\n",
    "\n",
    "What would the following examples return?"
   ]
  },
  {
   "cell_type": "code",
   "execution_count": null,
   "metadata": {},
   "outputs": [],
   "source": [
    "divider(9)"
   ]
  },
  {
   "cell_type": "code",
   "execution_count": null,
   "metadata": {},
   "outputs": [],
   "source": [
    "divider(0)"
   ]
  },
  {
   "cell_type": "markdown",
   "metadata": {},
   "source": [
    "Another possible way to define our function would be:"
   ]
  },
  {
   "cell_type": "code",
   "execution_count": null,
   "metadata": {},
   "outputs": [],
   "source": [
    "def divider2(x):\n",
    "    print(x/3)"
   ]
  },
  {
   "cell_type": "code",
   "execution_count": null,
   "metadata": {},
   "outputs": [],
   "source": [
    "divider2(9)"
   ]
  },
  {
   "cell_type": "code",
   "execution_count": null,
   "metadata": {},
   "outputs": [],
   "source": [
    "def divider3(x):\n",
    "    x/3\n",
    "    return  x"
   ]
  },
  {
   "cell_type": "markdown",
   "metadata": {},
   "source": [
    "What would this give you?"
   ]
  },
  {
   "cell_type": "code",
   "execution_count": null,
   "metadata": {},
   "outputs": [],
   "source": [
    "divider3(9)"
   ]
  },
  {
   "cell_type": "markdown",
   "metadata": {},
   "source": [
    "A variable defined inside a function will only be available for use inside that function. If you want to use it outside a function, you need to have it returned by your function. \n",
    "\n",
    "Confused? See the following examples:"
   ]
  },
  {
   "cell_type": "code",
   "execution_count": null,
   "metadata": {},
   "outputs": [],
   "source": [
    "def summ(a, b):\n",
    "    tot_all1 = a + b\n",
    "    print(\"The sum from inside the function is: \", tot_all1)"
   ]
  },
  {
   "cell_type": "code",
   "execution_count": null,
   "metadata": {},
   "outputs": [],
   "source": [
    "summ(2,2)"
   ]
  },
  {
   "cell_type": "markdown",
   "metadata": {},
   "source": [
    "If you try to ask for total outside the function you get the following:"
   ]
  },
  {
   "cell_type": "code",
   "execution_count": null,
   "metadata": {},
   "outputs": [],
   "source": [
    "print(\"The total outside the function is: \", tot_all1)"
   ]
  },
  {
   "cell_type": "markdown",
   "metadata": {},
   "source": [
    "But if you define your function like that:"
   ]
  },
  {
   "cell_type": "code",
   "execution_count": null,
   "metadata": {},
   "outputs": [],
   "source": [
    "def summ2(a,b):\n",
    "    tot_all2 = a + b\n",
    "    print(\"The sum from inside the function is: \", tot_all2)\n",
    "    return tot_all2"
   ]
  },
  {
   "cell_type": "code",
   "execution_count": null,
   "metadata": {},
   "outputs": [],
   "source": [
    "tot_all2 = summ2(2,2)\n",
    "\n",
    "print(\"The total outside the function is: \", tot_all2)"
   ]
  },
  {
   "cell_type": "markdown",
   "metadata": {},
   "source": [
    "A slightly more complicated example. Can anyone identify what these functions do?"
   ]
  },
  {
   "cell_type": "code",
   "execution_count": null,
   "metadata": {},
   "outputs": [],
   "source": [
    "def is_multiple(x,y):\n",
    "    return (x % y == 0)\n",
    "\n",
    "def is_prime(n):\n",
    "    isPrime = True  \n",
    "    for div in range(2,int(n**0.5)+1):\n",
    "        if is_multiple(n,div):\n",
    "            isPrime = False  \n",
    "    return isPrime\n",
    "\n"
   ]
  },
  {
   "cell_type": "code",
   "execution_count": null,
   "metadata": {},
   "outputs": [],
   "source": [
    "a = is_multiple(70, 2)\n",
    "b = is_multiple(5, 17)\n",
    "c = is_multiple(72, 6)\n",
    "\n",
    "d = is_prime(90)\n",
    "f = is_prime(53)\n",
    "\n",
    "print(a, b, c, d, f)"
   ]
  },
  {
   "cell_type": "markdown",
   "metadata": {},
   "source": [
    "# 10. importing modules"
   ]
  },
  {
   "cell_type": "markdown",
   "metadata": {},
   "source": [
    "While creating your own functions can be incredibly useful, others may have done so already (and these might actually be faster).\n",
    "\n",
    "Often, these will come packaged as part of a wider python library."
   ]
  },
  {
   "cell_type": "markdown",
   "metadata": {},
   "source": [
    "A simple example of this is calculating the Euclidean distance between two points in space.\n",
    "\n",
    "Previously, you learned to write exponents, so you can write this distance as a function yourself."
   ]
  },
  {
   "cell_type": "code",
   "execution_count": null,
   "metadata": {},
   "outputs": [],
   "source": [
    "# Exercise 10.1: Write a function that calculates the Euclidean between two points\n",
    "def distance_between_two_points(coords1, coords2):\n",
    "    x_dist = (coords1[0] - coords2[0]) ** 2 \n",
    "    y_dist = (coords1[1] - coords2[1]) ** 2\n",
    "    z_dist = (coords1[2] - coords2[2]) ** 2\n",
    "    distance = (x_dist + y_dist + z_dist) ** 0.5\n",
    "    return distance\n",
    "\n",
    "print(distance_between_two_points([1,2,3], [1,2,3]))\n",
    "print(distance_between_two_points([1,2,3], [3,2,1]))"
   ]
  },
  {
   "cell_type": "markdown",
   "metadata": {},
   "source": [
    "However, certain python libraries already do this, allowing you to perform the same \n",
    "operation/function without having to write all of the above lines.\n",
    "\n",
    "One of the modules available for these math operations is NumPy!\n",
    "\n",
    "To use numpy in your code, all you need to do is"
   ]
  },
  {
   "cell_type": "code",
   "execution_count": null,
   "metadata": {},
   "outputs": [],
   "source": [
    "import numpy"
   ]
  },
  {
   "cell_type": "markdown",
   "metadata": {},
   "source": [
    "We can now use numpy's function etc as `numpy.functionname()`. It can often be useful to give an module a 'alias', especially if the name is long. You do this by adding `as` and the new name:"
   ]
  },
  {
   "cell_type": "code",
   "execution_count": null,
   "metadata": {},
   "outputs": [],
   "source": [
    "import numpy as np"
   ]
  },
  {
   "cell_type": "markdown",
   "metadata": {},
   "source": [
    "And now you can use the functions by `np.functionname()`. You can choose whatever you want, but be careful not to pick a name that already has another use within python."
   ]
  },
  {
   "cell_type": "markdown",
   "metadata": {},
   "source": [
    "NumPy has a Euclidean distance calculator.\n",
    "\n",
    "You can now either import all of NumPy, or just the function you need. You might want to do the latter,\n",
    "as that helps your code run faster, but for the purposes of this tutorial, import NumPy as above.\n",
    "\n",
    "To calculate the Euclidean distance, use:"
   ]
  },
  {
   "cell_type": "code",
   "execution_count": null,
   "metadata": {},
   "outputs": [],
   "source": [
    "print(numpy.linalg.norm(numpy.array([1,2,3]) - numpy.array([1,2,3])))\n",
    "print(numpy.linalg.norm(numpy.array([1,2,3]) - numpy.array([3,2,1])))"
   ]
  },
  {
   "cell_type": "markdown",
   "metadata": {},
   "source": [
    "###### So what is Numpy exactly?"
   ]
  },
  {
   "cell_type": "markdown",
   "metadata": {},
   "source": [
    "NumPy stands for \"Numerical Python\" and, along with some other libraries (SciPy, Pandas, etc.), is the core library used for scientific computing. It contains a big number of tools and functions that can be used to solve an array of common and not so common problems, some examples of which you'll see below. However, most importantly, NumPy contains the all powerful NumPy arrays!"
   ]
  },
  {
   "cell_type": "markdown",
   "metadata": {},
   "source": [
    "###### What is a numpy array?"
   ]
  },
  {
   "cell_type": "markdown",
   "metadata": {},
   "source": [
    "A numpy array is a bit like an improved version of a Python list, mentioned above. It \"is a high-performance multidimensional array object that is a powerful data structure for efficient computation of arrays and matrices. To work with these arrays, there’s a huge amount of high-level mathematical functions operate on these matrices and arrays.\" "
   ]
  },
  {
   "cell_type": "markdown",
   "metadata": {},
   "source": [
    "In other words, an array is a good structure to store data from 1D, 2D or 3D matrices."
   ]
  },
  {
   "cell_type": "markdown",
   "metadata": {},
   "source": [
    "This means that arrays can have rows and columns. In a 2D array, rows can also be called as the \"axis 0\" while columns are the \"axis 1\". The number of axis will go up according to the dimentions of the arrays so a 3D array would also have an \"axis 2\". These axes are useful when it comes to manipulating the data in your arrays. \n",
    "\n",
    "We will see some hands on examples of arrays below."
   ]
  },
  {
   "cell_type": "code",
   "execution_count": null,
   "metadata": {},
   "outputs": [],
   "source": [
    "# An example of a 2D array\n",
    "my_2d_array = numpy.ones((5, 3))\n",
    "\n",
    "print(my_2d_array)\n",
    "\n",
    "# Print out the shape of `my_array`\n",
    "print(my_2d_array.shape)\n",
    "\n",
    "# Print out the data type of `my_array`\n",
    "print(my_2d_array.dtype)\n",
    "\n"
   ]
  },
  {
   "cell_type": "code",
   "execution_count": null,
   "metadata": {},
   "outputs": [],
   "source": [
    "# This is an example of a 3D array\n",
    "my_3d_array = numpy.ones((2, 5, 3))\n",
    "\n",
    "print(my_3d_array)\n",
    "\n",
    "# Print out the shape of `my_array`\n",
    "print(my_3d_array.shape)\n",
    "\n",
    "# Print out the data type of `my_array`\n",
    "print(my_3d_array.dtype)\n",
    "\n"
   ]
  },
  {
   "cell_type": "markdown",
   "metadata": {},
   "source": [
    "You can also add, subtract, multiply or divide your arrays. Although the usual numeric symbols will work, numpy also provides ready made functions for you."
   ]
  },
  {
   "cell_type": "code",
   "execution_count": null,
   "metadata": {},
   "outputs": [],
   "source": [
    "my_new_array = my_2d_array + 1\n",
    "\n",
    "print(my_new_array)"
   ]
  },
  {
   "cell_type": "code",
   "execution_count": null,
   "metadata": {},
   "outputs": [],
   "source": [
    "my_new_array = my_2d_array + my_3d_array\n",
    "\n",
    "print(my_new_array)"
   ]
  },
  {
   "cell_type": "markdown",
   "metadata": {},
   "source": [
    "In order to perform arithmetic, and other, operations on two, or more arrays, there are certain criteria that need to be fulfilled. \n",
    "\n",
    "Firstly, their dimensions need to be compatible. This is the case when they are equal.\n",
    "\n",
    "Secondly, two dimensions are compatible when one of them is 1.\n",
    "\n",
    "Thirdly, the arrays need to be compatible in all directions."
   ]
  },
  {
   "cell_type": "markdown",
   "metadata": {},
   "source": [
    "We could be spending hours talking about arrays and all the functionality of numpy so this is where we will leave this part. If you are interested in learning more about arrays, this is a very good tutorial from datacamp:\n",
    "\n",
    "https://www.datacamp.com/community/tutorials/python-numpy-tutorial\n"
   ]
  },
  {
   "cell_type": "markdown",
   "metadata": {},
   "source": [
    "There are aslo a multitude of Python libraries just waiting for you to discover them.\n",
    "\n",
    "Here are some examples:\n",
    "\n",
    "Math (https://docs.python.org/3.6/library/math.html) is a very useful library for mathematical\n",
    "operations. This includes math.ceil(), math.floor(), math.fabs()(!), and math.factorial(),\n",
    "among others.\n",
    "\n",
    "NumPy (http://www.numpy.org/) and SciPy (https://www.scipy.org/) are excellent libraries \n",
    "that do a lot more that simple mathematical operations (like the Euclidean distance calculator above).\n",
    "These also interface very well with plotting libraries.\n",
    "\n",
    "Matplotlib (https://matplotlib.org/) is the most commonly used plotting library available. It is simple, \n",
    "and can do a lot. Other plotting libraries, such as GGPlot (http://ggplot.yhathq.com/), SeaBorn (https://seaborn.pydata.org/), and Bokeh (https://bokeh.pydata.org/en/latest/).\n",
    "\n",
    "Pandas (https://pandas.pydata.org/) is a great library to manipulate data structures. \n",
    "It's ease of use makes it ideal to work with large data sets.\n",
    "\n",
    "MDAnalysis (https://www.mdanalysis.org/), MDTraj (http://mdtraj.org/1.9.0/), and \n",
    "PyTraj (https://github.com/Amber-MD/pytraj), are some of the libraries used to process\n",
    "Molecular Dynamics trajcetories and other files. These interface very well with \n",
    "NumPy and Pandas and Matplotlib.\n",
    "\n",
    "IPython (https://ipython.org/) is a useful shell for interactive python.\n",
    "\n",
    "Jupyter (https://jupyter.org/) is what we are using right now! It is very useful for tutorials!\n",
    "\n",
    "More advanced libraries:\n",
    "\n",
    "SciKit-Learn (http://scikit-learn.org/stable/) for machine learning in Python.\n",
    "\n",
    "Sys (https://docs.python.org/2/library/sys.html) and ArgParser (https://docs.python.org/2/howto/argparse.html) are used to take inputs and write outputs from the Terminal.\n",
    "\n",
    "Requests (http://docs.python-requests.org/en/latest/) is used to process information from the web.\n",
    "\n",
    "MPI4Py (http://mpi4py.readthedocs.io/en/stable/) allows Python scripts to be parallelised \n",
    "(run over multiple processors).\n",
    "\n",
    "Cython (http://cython.org/) allows you to write parts of your code in C/C++, making it very fast."
   ]
  },
  {
   "cell_type": "markdown",
   "metadata": {},
   "source": [
    "# 11. Working with MDAnalysis"
   ]
  },
  {
   "cell_type": "markdown",
   "metadata": {},
   "source": [
    "MDAnalysis is one of the more popular libraries for processing structures and trajectories.\n",
    "\n",
    "To use MDAnalysis, you must first import the relevant functions you want to use. For the purposes\n",
    "of this tutorial, let's put together all you have learned so far into one final exercise.\n",
    "\n",
    "In this exercise, you will need to calculate, plot, and save to file the change in the phi and psi\n",
    "dihedrals of alanine di-peptide from a given trajectory."
   ]
  },
  {
   "cell_type": "markdown",
   "metadata": {},
   "source": [
    "## 11.1 The MDAnalysis Universe module"
   ]
  },
  {
   "cell_type": "markdown",
   "metadata": {},
   "source": [
    "To work with structures and trajectories in MDAnalysis, you must first create an MDAnalysis Universe.\n",
    "\n",
    "To do this, you import the MDAnalysis Universe module:"
   ]
  },
  {
   "cell_type": "code",
   "execution_count": null,
   "metadata": {},
   "outputs": [],
   "source": [
    "from MDAnalysis import Universe"
   ]
  },
  {
   "cell_type": "markdown",
   "metadata": {},
   "source": [
    "You then load the structure file into the Universe with:"
   ]
  },
  {
   "cell_type": "code",
   "execution_count": null,
   "metadata": {},
   "outputs": [],
   "source": [
    "alanine = Universe('ALA.pdb')"
   ]
  },
  {
   "cell_type": "markdown",
   "metadata": {},
   "source": [
    "** Note**: We could have also used `import MDAnalyis`, in which case we would have to use `MDAnalysis.Universe` in place of `Universe`. The `from ... import ...` syntax allows us to import only a sub-module from a module, rather than the full thing, which can be convinient in various circumstances."
   ]
  },
  {
   "cell_type": "markdown",
   "metadata": {},
   "source": [
    "A Universe is a 'class', a python object we haven't talked about yet, but it essentially allows us to group together a bunch of related information and relevant functions for working with it. A Universe stores all the information of the atoms in your structure, including\n",
    "\n",
    "Names\n",
    "\n",
    "Type\n",
    "\n",
    "Positions (i.e. coordinates)\n",
    "\n",
    "Bonds\n",
    "\n",
    "and so on. This could be very useful if you are trying to measure distances or dihedrals. For when we add a trajectory later on, the Universe also stores information like the current frame number, etc. We call `alanine` an 'instance' of the Universe class.\n",
    "\n",
    "You can check the different properties of your universe using MDAnalysis. The general syntax for this is `universename.attributename`; some properties (attributes) are themselves classes (e.g. `alanine.atoms` groups all the information about our atoms) and will have their own attributes. For example, if you want to check the names of the atoms of your structure, you can type\n",
    "\n",
    "alanine.atoms.names"
   ]
  },
  {
   "cell_type": "code",
   "execution_count": null,
   "metadata": {},
   "outputs": [],
   "source": [
    "alanine.atoms.names"
   ]
  },
  {
   "cell_type": "markdown",
   "metadata": {
    "collapsed": true
   },
   "source": [
    "###### How would you find the values of the Phi and Psi dihedral angles of alanine dipeptide, in degrees or radians?"
   ]
  },
  {
   "cell_type": "markdown",
   "metadata": {},
   "source": [
    "Hint: the Phi dihedral is calculated from atoms CLP, NL, CA, and CRP, and the Psi dihedral is calculated using atoms NR, CRP, CA, and NL.\n",
    "\n",
    "For this we can make use of the built-in functions associated with the Universe class (or 'methods'). We can use `select_atoms(selection)` to isolate a group of atoms that match `selection`; the syntax of the selections strings is generally the same as for VMD (which you may have used in day 1 of this workshop). `alanine.select_atoms(selection)` will give us an 'atom group' instance. We can then used this instance's method `dihedral` to turn four atoms into a 'dihedral' instance, and finally using `value()` on this instance will return the (current) value of that dihedral angle."
   ]
  },
  {
   "cell_type": "code",
   "execution_count": null,
   "metadata": {},
   "outputs": [],
   "source": [
    "print(type(alanine))\n",
    "print(type(alanine.select_atoms('name CLP NL CA CRP')))\n",
    "print(type(alanine.select_atoms('name CLP NL CA CRP').dihedral))\n",
    "\n",
    "phi = alanine.select_atoms('name CLP NL CA CRP').dihedral.value()\n",
    "psi = alanine.select_atoms('name NR CRP CA NL').dihedral.value()\n",
    "print('The Phi dihedral is {:.2f} in degrees and {:.2f} in radians'.format(phi, numpy.deg2rad(phi)))\n",
    "print('The Phi dihedral is {:.2f} in degrees and {:.2f} in radians'.format(psi, numpy.deg2rad(psi)))"
   ]
  },
  {
   "cell_type": "markdown",
   "metadata": {
    "collapsed": true
   },
   "source": [
    "###### How would you plot the change in Phi and Psi (in two plot, or all in the same plot)?"
   ]
  },
  {
   "cell_type": "markdown",
   "metadata": {},
   "source": [
    "In order to do this, let's break the process down into small steps.\n",
    "\n",
    "You will first need to load the trajectory. The format to do this is:\n",
    "\n",
    "universe_name = Universe(PDBfile, TRJfile)\n",
    "\n",
    "In our case, the PDB file is called 'ALA.pdb' and the TRJ file is called 'ALA.xtc'."
   ]
  },
  {
   "cell_type": "code",
   "execution_count": null,
   "metadata": {},
   "outputs": [],
   "source": [
    "# Exercise 11.1.1: Create a Universe called 'ala_trajectory' using the PDB file 'ALA.pdb' \n",
    "# and the trajectory file 'ALA.xtc'\n",
    "ala_trajectory = Universe('ALA.pdb', 'ALA.xtc')"
   ]
  },
  {
   "cell_type": "markdown",
   "metadata": {},
   "source": [
    "Now that you have a Universe with your trajectory, we can access another feature of the Universe: trajectory data.\n",
    "\n",
    "Let's try something simple now. Write a quick 'for' loop that prints the frame number.\n",
    "\n",
    "You can tell Python to pring the frame number using:\n",
    "\n",
    "`ala_trajectory.trajectory.frame`\n"
   ]
  },
  {
   "cell_type": "code",
   "execution_count": null,
   "metadata": {},
   "outputs": [],
   "source": [
    "# Exercise 11.1.2: Print the current frame number.\n",
    "print(ala_trajectory.trajectory.frame)"
   ]
  },
  {
   "cell_type": "markdown",
   "metadata": {},
   "source": [
    "A `Universe.trajectory` acts kind of like a list storing each frame in a simulation and various information about is, so we can loop through it the same way we did for lists above. As we go through each frame, the coordinates of each atom, stored in Universe.atoms, will be updated."
   ]
  },
  {
   "cell_type": "markdown",
   "metadata": {},
   "source": [
    "Remind yourself of how to construct a 'for' loop.\n",
    "\n",
    "Now, loop through the trajectory."
   ]
  },
  {
   "cell_type": "code",
   "execution_count": null,
   "metadata": {},
   "outputs": [],
   "source": [
    "# when using mdanalysis, each frame is conventionally called a 'timestep' or 'ts'\n",
    "for ts in ala_trajectory.trajectory:\n",
    "    # the comma at the end here will stop it printing on a new line every time,\n",
    "    # so this doesn't take up too much space\n",
    "    print(ts.frame)"
   ]
  },
  {
   "cell_type": "markdown",
   "metadata": {},
   "source": [
    "That's half the work done!\n",
    "\n",
    "Now, use the same logic as Exercise 11.1 to print the phi and psi dihedral angles."
   ]
  },
  {
   "cell_type": "code",
   "execution_count": null,
   "metadata": {},
   "outputs": [],
   "source": [
    "# Exercise 11.1.3: Print the frame number and at least one of the dihedrals.\n",
    "phi_dihedral = ala_trajectory.select_atoms('name CLP NL CA CRP').dihedral\n",
    "psi_dihedral = ala_trajectory.select_atoms('name NR CRP CA NL').dihedral\n",
    "\n",
    "for ts in ala_trajectory.trajectory:\n",
    "    phi = phi_dihedral.value()\n",
    "    psi = psi_dihedral.value()\n",
    "    print(ts.frame, phi, psi)"
   ]
  },
  {
   "cell_type": "markdown",
   "metadata": {},
   "source": [
    "\n",
    "Now that you can access both the frame number and the phi and psi dihedrals, it's time to plot them.\n",
    "\n",
    "Let's write a little bit more this time. First, import pyplot from matplotlib. Then create three empty \n",
    "lists (frames, all_phi, and all_psi, for example). Then fill each of those lists with the relevant values.\n",
    "\n",
    "Make sure you comment your code at every step, just so you don't forget what the code is doing!"
   ]
  },
  {
   "cell_type": "code",
   "execution_count": null,
   "metadata": {},
   "outputs": [],
   "source": [
    "# We need pyplot from matplotlib to plot the dihedrals\n",
    "from matplotlib import pyplot\n",
    "\n",
    "# Let's create a variable with the length of our trajectory\n",
    "length = len(ala_trajectory.trajectory)\n",
    "\n",
    "# Create three empty lists\n",
    "frames = []\n",
    "all_phi = []\n",
    "all_psi = []\n",
    "\n",
    "# iterate through the trajectory\n",
    "for frame in ala_trajectory.trajectory:\n",
    "    \n",
    "    # calculate phi and psi\n",
    "    phi = ala_trajectory.select_atoms('name CLP or name NL or name CA or name CRP').dihedral.value()\n",
    "    psi = ala_trajectory.select_atoms('name NR or name CRP or name CA or name NL').dihedral.value()\n",
    "    \n",
    "    # append frame number, phi, and psi to the lists\n",
    "    frames.append(frame.frame)\n",
    "    all_phi.append(phi)\n",
    "    all_psi.append(psi)\n",
    "\n",
    "# Check the contents of the lists\n",
    "frames\n",
    "all_phi\n",
    "all_psi"
   ]
  },
  {
   "cell_type": "markdown",
   "metadata": {},
   "source": [
    "Nearly there!\n",
    "\n",
    "Now plot the time series of the dihedrals.\n",
    "\n",
    "You can plot a line graph using\n",
    "\n",
    "pyplot.plot(x_value, y_value)\n",
    "\n",
    "then show the plot using pyplot.show()"
   ]
  },
  {
   "cell_type": "code",
   "execution_count": null,
   "metadata": {},
   "outputs": [],
   "source": [
    "%matplotlib inline\n",
    "# Exercise 11.1.5: Plot your data here\n",
    "\n",
    "pyplot.plot(frames, all_psi)\n",
    "pyplot.plot(frames, all_phi)\n",
    "pyplot.show()"
   ]
  },
  {
   "cell_type": "markdown",
   "metadata": {},
   "source": [
    "Optional exercise: Make your plot presentable.\n",
    "\n",
    "You can use `pyplot.xlim()`, `pyplot.ylim()`, `pyplot.xlabel()`, and `pyplot.ylabel()` to adjust your plot.\n",
    "\n",
    "`pyplot.title()` adds a title.\n",
    "\n",
    "Check the help for these functions for more details!"
   ]
  },
  {
   "cell_type": "markdown",
   "metadata": {
    "collapsed": true
   },
   "source": [
    "## 11.2 Analysing a protein simulation"
   ]
  },
  {
   "cell_type": "markdown",
   "metadata": {},
   "source": [
    "In day 1 of this workshop you did some molecular dynamics simulations of a HIV-1 protease protein using gromacs.\n",
    "Let's now look at how you could use MDAnalysis, and an associated python visulisation library NGLview, to analyse the trajectory you generated."
   ]
  },
  {
   "cell_type": "markdown",
   "metadata": {},
   "source": [
    "### Visualising the trajectory using nglview"
   ]
  },
  {
   "cell_type": "markdown",
   "metadata": {},
   "source": [
    "The nglview library is a python widget for visualising simulation trajectories, achieving a similar task to the VMD program that you will have used on day 1. One of the interesting advantages of nglview is that it interfaces directly with analysis packages such as MDAnalysis and runs within jupyter notebooks.\n",
    "\n",
    "Let's see how we can use nglview to visualise an MDAnalysis universe object.\n",
    "\n",
    "First we need to create a universe (let's call it protein) from the simulation output files \"pre_md.pdb\" and \"md_cent.xtc\".\n",
    "\n",
    "_Note: we have pre-aligned the trajectory to the first frame for you so as to remove any motions related to translation._"
   ]
  },
  {
   "cell_type": "code",
   "execution_count": null,
   "metadata": {},
   "outputs": [],
   "source": [
    "# Exercise 11.2.1: Let's load a universe named protein\n",
    "protein = Universe('pre_md.pdb', 'md_cent.xtc')"
   ]
  },
  {
   "cell_type": "markdown",
   "metadata": {},
   "source": [
    "Next let's load nglview and use it's show_mdanalysis function to load the MDAnalysis universe"
   ]
  },
  {
   "cell_type": "code",
   "execution_count": null,
   "metadata": {},
   "outputs": [],
   "source": [
    "import nglview\n",
    "protein_view = nglview.show_mdanalysis(protein)"
   ]
  },
  {
   "cell_type": "markdown",
   "metadata": {},
   "source": [
    "By default this pre-sets the nglviewer to show the protein in the cartoon representation. Let's add a few options to colour the protein by secondary structure, show water oxygens and change the background colour"
   ]
  },
  {
   "cell_type": "code",
   "execution_count": null,
   "metadata": {},
   "outputs": [],
   "source": [
    "# Let's update the cartoon representation to colour the protein by secondary structure\n",
    "protein_view.update_cartoon(color='sstruc')\n",
    "\n",
    "# We then add a transparent hyperball representation of the water oxygens \n",
    "#(play with the opacity value, see what you get)\n",
    "protein_view.add_hyperball('SOL and not hydrogen', opacity=0.4)\n",
    "\n",
    "# Let's change the display a little bit\n",
    "protein_view.parameters = dict(camera_type='orthographic', clip_dist=0)\n",
    "\n",
    "# Set the background colour to black\n",
    "protein_view.background = 'black'\n",
    "\n",
    "# Call protein_view to visualise the trajectory\n",
    "protein_view"
   ]
  },
  {
   "cell_type": "markdown",
   "metadata": {
    "collapsed": true
   },
   "source": [
    "The nglview output can be controlled in the following way:\n",
    "\n",
    "- play / pause button: play the trajectory \n",
    "- double click window: enter or exit full screen mode \n",
    "- left mouse button: rotate system \n",
    "- middle mouse wheel: zoom in/out \n",
    "- right mouse button: translate system \n"
   ]
  },
  {
   "cell_type": "markdown",
   "metadata": {},
   "source": [
    "As you can be seen from the trajectory, the HIV-1 protease structure does indeed move, but by how much? In the next section we will see how we can use MDAnalysis to quantify backbone fluctuations. "
   ]
  },
  {
   "cell_type": "markdown",
   "metadata": {},
   "source": [
    "### Calculating the root-mean-square deviation"
   ]
  },
  {
   "cell_type": "markdown",
   "metadata": {},
   "source": [
    "In order to gain a quantitative description of how the HIV-1 protease moves in our simulation we can calculate the root-mean-square deviation (RMSD) of the protein backbone.\n",
    "\n",
    "The RMSD gives us an idea of how 'stable' our protein is when compared to our starting, static, structure. The lower the RMSD is the more stable we can say our protein is. \n",
    "\n",
    "The RMSD as a fucntion of time, $\\rho (t)$, can be defined by the following equation:\n",
    "\n",
    "\\begin{equation}\n",
    "\\\\\n",
    "\\rho (t) = \\sqrt{\\frac{1}{N}\\sum^N_{i=1}w_i\\big(\\mathbf{x}_i(t) - \\mathbf{x}^{\\text{ref}}_i\\big)^2}\n",
    "\\end{equation}\n",
    "\n",
    "Luckily MDAnalysis has it's own built in function to calcualte this, we can import it like we did before."
   ]
  },
  {
   "cell_type": "code",
   "execution_count": null,
   "metadata": {},
   "outputs": [],
   "source": [
    "from MDAnalysis.analysis.rms import RMSD as rmsd"
   ]
  },
  {
   "cell_type": "markdown",
   "metadata": {},
   "source": [
    "In order to calculate the RMSD for every frame in our trajectory we will need:\n",
    "\n",
    "- A reference structure\n",
    "- A universe object\n",
    "- A selection of atoms\n",
    "\n",
    "In our case the reference structure will be the HIV-1 protease structure in the first frame.\n",
    "\n",
    "Our universe object will be the 'protein' object we defined above.\n",
    "\n",
    "For our selection we will use the backbone atoms."
   ]
  },
  {
   "cell_type": "code",
   "execution_count": null,
   "metadata": {},
   "outputs": [],
   "source": [
    "ref = Universe('pre_md.pdb', 'md_cent.xtc')\n",
    "ref.trajectory[0]"
   ]
  },
  {
   "cell_type": "markdown",
   "metadata": {},
   "source": [
    "Due to the way that GROMACS post processes the trajectory file we need to edit it slightly before running our RMSD.\n",
    "\n",
    "This is done by aligning all frames to the reference structure."
   ]
  },
  {
   "cell_type": "code",
   "execution_count": null,
   "metadata": {},
   "outputs": [],
   "source": [
    "from MDAnalysis.analysis import align\n",
    "\n",
    "protein = Universe('pre_md.pdb', 'md_cent.xtc')\n",
    "align_strucs = align.AlignTraj(protein, ref, select=\"backbone\", weights=\"mass\", in_memory=True, verbose=True)\n",
    "\n",
    "R = align_strucs.run()"
   ]
  },
  {
   "cell_type": "markdown",
   "metadata": {},
   "source": [
    "You will have noticed that running this function stores it in the variable 'R', we can now access the RMSD values:"
   ]
  },
  {
   "cell_type": "code",
   "execution_count": null,
   "metadata": {},
   "outputs": [],
   "source": [
    "rmsd_data = R.rmsd"
   ]
  },
  {
   "cell_type": "markdown",
   "metadata": {},
   "source": [
    "Really, we'd like to visualise how the RMSD changes over time and this can be done in the same way you did in Excercise 11.1.5.\n",
    "\n",
    "Take a look at the 'rmsd_data' variable (it's a numpy array) and try plotting it below.\n",
    "\n",
    "You will need to access 'rmsd_data' (a numpy array) in order to plot both the time and the RMSD as a line plot."
   ]
  },
  {
   "cell_type": "code",
   "execution_count": null,
   "metadata": {},
   "outputs": [],
   "source": [
    "# Excercise 11.2.2: Plot the RMSD data for the HIV-1 protease system. \n",
    "\n",
    "# Make sure to add appropriate axis titles.\n",
    "# What does the RMSD tell you about the protein?\n",
    "# [If you have time] What happens when you calculate the RMSD using more atoms (i.e. not just the backbone)\n",
    "\n",
    "pyplot.plot(rmsd_data)\n",
    "pyplot.show()"
   ]
  },
  {
   "cell_type": "markdown",
   "metadata": {},
   "source": [
    "### Calculating the root-mean-square fluctuation"
   ]
  },
  {
   "cell_type": "markdown",
   "metadata": {},
   "source": [
    "To look at how each residue flucuates over it's average postion we can use the closely related measurement of root-mean-square fluctuation (RMSF).\n",
    "\n",
    "The RMSF for an atom, $\\rho_i$, is given by:\n",
    "\n",
    "\\begin{equation}\n",
    "\\rho_i = \\sqrt{\\sum^N_{i=1} \\big\\langle(\\mathbf{x}_i - \\langle \\mathbf{x}_i \\rangle )^2 \\big\\rangle }\n",
    "\\end{equation}"
   ]
  },
  {
   "cell_type": "code",
   "execution_count": null,
   "metadata": {},
   "outputs": [],
   "source": [
    "from MDAnalysis.analysis.rms import RMSF as rmsf"
   ]
  },
  {
   "cell_type": "code",
   "execution_count": null,
   "metadata": {},
   "outputs": [],
   "source": [
    "# Reset the trajectory to the first frame\n",
    "protein.trajectory[-1]\n",
    "\n",
    "# We will need to select the alpha Carbons only\n",
    "calphas = protein.select_atoms(\"name CA\")\n",
    "rmsf_calc = rmsf(calphas, verbose=True).run()"
   ]
  },
  {
   "cell_type": "code",
   "execution_count": null,
   "metadata": {},
   "outputs": [],
   "source": [
    "# Excercise 11.2.3: Plot the RMSF data for the HIV-1 protease system. \n",
    "    # Tip, in order to plot the resids you will need to access them through the 'calphas' and 'rmsf_calc' \n",
    "    # objects we defined earlier.\n",
    "\n",
    "# Make sure to add appropriate axis titles.\n",
    "# What parts of the protein have a high RMSF, can you locate these?\n",
    "# [If you have time] What happens when you calculate the RMSF using more atoms (i.e. not just the backbone)\n",
    "\n",
    "pyplot.plot(calphas.resids, rmsf_calc.rmsf)\n",
    "pyplot.show()"
   ]
  },
  {
   "cell_type": "code",
   "execution_count": null,
   "metadata": {},
   "outputs": [],
   "source": []
  }
 ],
 "metadata": {
  "kernelspec": {
   "display_name": "Python 3",
   "language": "python",
   "name": "python3"
  },
  "language_info": {
   "codemirror_mode": {
    "name": "ipython",
    "version": 3
   },
   "file_extension": ".py",
   "mimetype": "text/x-python",
   "name": "python",
   "nbconvert_exporter": "python",
   "pygments_lexer": "ipython3",
   "version": "3.6.6"
  }
 },
 "nbformat": 4,
 "nbformat_minor": 1
}
