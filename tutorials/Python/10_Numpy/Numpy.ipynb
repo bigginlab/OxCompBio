{
 "cells": [
  {
   "cell_type": "markdown",
   "metadata": {},
   "source": [
    "# 10. Numpy"
   ]
  },
  {
   "cell_type": "markdown",
   "metadata": {},
   "source": [
    "## 10.1 A short introduction to NumPy\n",
    "\n",
    "NumPy stands for \"Numerical Python\" and, along with some other libraries (SciPy, Pandas, etc.), is the core library used for scientific computing. It contains a big number of tools and functions that can be used to solve an array of common and not so common problems, some examples of which you'll see below. However, most importantly, NumPy contains the all powerful NumPy arrays!\n",
    "\n",
    "For an example of how NumPy can be used in scientific computing, see the following code for calculating the Euclidean distance between two points:"
   ]
  },
  {
   "cell_type": "code",
   "execution_count": null,
   "metadata": {},
   "outputs": [],
   "source": [
    "import numpy\n",
    "print(numpy.linalg.norm(numpy.array([1,2,3]) - numpy.array([1,2,3])))\n",
    "print(numpy.linalg.norm(numpy.array([1,2,3]) - numpy.array([3,2,1])))"
   ]
  },
  {
   "cell_type": "markdown",
   "metadata": {},
   "source": [
    "Many scientific computing libraries, e.g. MDAnalysis (see section 11), rely on NumPy to hold and operate on the data passed to them.\n",
    "\n",
    "In this section, we will very briefly introduce the NumPy library, this will make work in Section 11 easier to understand."
   ]
  },
  {
   "cell_type": "markdown",
   "metadata": {},
   "source": [
    "## 10.2 The NumPy array"
   ]
  },
  {
   "cell_type": "markdown",
   "metadata": {},
   "source": [
    "A numpy array is a bit like an improved version of a Python list,. It \"is a high-performance multidimensional array object that is a powerful data structure for efficient computation of arrays and matrices. To work with these arrays, there’s a huge amount of high-level mathematical functions which operate on these matrices and arrays.\" "
   ]
  },
  {
   "cell_type": "markdown",
   "metadata": {},
   "source": [
    "In other words, an array is a good structure to store data from 1D, 2D, 3D, or higher dimensional matrices."
   ]
  },
  {
   "cell_type": "markdown",
   "metadata": {},
   "source": [
    "This means that arrays can have rows and columns. In a 2D array, rows can also be called as the \"axis 0\" while columns are the \"axis 1\". The number of axis will go up according to the dimentions of the arrays so a 3D array would also have an \"axis 2\". These axes are useful when it comes to manipulating the data in your arrays. \n",
    "\n",
    "We will see some hands on examples of arrays below."
   ]
  },
  {
   "cell_type": "markdown",
   "metadata": {},
   "source": [
    "First, let us build a 2D array.\n",
    "\n",
    "NumPy has an `numpy.empty` object which will allow you to build any sized \"empty\" NumPy array. However, when doing this the array will be returned with array elements set to any random value. Instead, we often want to initialise our array to a set value to begin with.\n",
    "\n",
    "There are two main methods for doing this in NumPy, `ones` and `zeros`. These create NumPy arrays filled with 0 and 1 respectively.\n",
    "\n",
    "Here we will build an array filled with the value 1, using `numpy.ones`. We are passing the argument (5,3) which dictates the shape of the array. The first value details the size of axis 0 (5), and the second value the size of axis 1 (3)."
   ]
  },
  {
   "cell_type": "code",
   "execution_count": null,
   "metadata": {},
   "outputs": [],
   "source": [
    "# An example of a 2D array\n",
    "my_2d_array = numpy.ones((5, 3))\n",
    "\n",
    "print(my_2d_array)"
   ]
  },
  {
   "cell_type": "markdown",
   "metadata": {},
   "source": [
    "NumPy arrays have many built-in methods, for example, the `shape` method will return the length of the array along each axis."
   ]
  },
  {
   "cell_type": "code",
   "execution_count": null,
   "metadata": {},
   "outputs": [],
   "source": [
    "# Print out the shape of `my_array`\n",
    "print(my_2d_array.shape)"
   ]
  },
  {
   "cell_type": "markdown",
   "metadata": {},
   "source": [
    "NumPy arrays also have special data types (named dtypes) which describe the values held within the array.\n",
    "\n",
    "Examples include; `numpy.int64`, `numpy.float64`, and `numpy.complex64`.\n",
    "\n",
    "The type can be set when building the array using the `dtype` argument to methods such as; `numpy.ones`, `numpy.zeros`, and `numpy.empty`.\n",
    "\n",
    "Each array will have a `dtype` attribute which will tell you what the array assumes the underlying data to be. In this case, we see that the `dtype` of `my_2d_array` is `numpy.float64` which is the default data type of `numpy.ones`:"
   ]
  },
  {
   "cell_type": "code",
   "execution_count": null,
   "metadata": {},
   "outputs": [],
   "source": [
    "# Print out the data type of `my_array`\n",
    "# Similar to the type() function\n",
    "print(my_2d_array.dtype)"
   ]
  },
  {
   "cell_type": "markdown",
   "metadata": {},
   "source": [
    "Similarly, we could use the same idea to build a 3D array of shape (2,5,3), but this time filled with integers `dtype=numpy.int64`:"
   ]
  },
  {
   "cell_type": "code",
   "execution_count": null,
   "metadata": {},
   "outputs": [],
   "source": [
    "# This is an example of a 3D array\n",
    "my_3d_array = numpy.ones((2, 5, 3), dtype=numpy.int64)\n",
    "\n",
    "print(my_3d_array)\n",
    "\n",
    "# Print out the shape of `my_array`\n",
    "print(my_3d_array.shape)\n",
    "\n",
    "# Print out the data type of `my_array`\n",
    "print(my_3d_array.dtype)"
   ]
  },
  {
   "cell_type": "markdown",
   "metadata": {},
   "source": [
    "**Note:** The number in the `numpy.int64` `dtype` declaration stands for the size of the data type in bits. In this case, we are asking for a 64 bit integer, which means that it can hold any integer numbers that range from `-9223372036854775808` to `9223372036854775808`."
   ]
  },
  {
   "cell_type": "markdown",
   "metadata": {},
   "source": [
    "## 10.3 Manipulating NumPy arrays\n",
    "\n",
    "You can also add, subtract, multiply or divide your arrays."
   ]
  },
  {
   "cell_type": "code",
   "execution_count": null,
   "metadata": {},
   "outputs": [],
   "source": [
    "my_new_array = my_2d_array + 1\n",
    "\n",
    "print(my_new_array)"
   ]
  },
  {
   "cell_type": "code",
   "execution_count": null,
   "metadata": {},
   "outputs": [],
   "source": [
    "my_new_array = my_2d_array + my_3d_array\n",
    "\n",
    "print(my_new_array)"
   ]
  },
  {
   "cell_type": "markdown",
   "metadata": {},
   "source": [
    "In order to perform arithmetic, and other, operations on two, or more arrays, there are certain criteria that need to be fulfilled.\n",
    "\n",
    "Firstly, their dimensions need to be compatible. This is the case when they are equal.\n",
    "\n",
    "Secondly, two dimensions are compatible when one of them is 1.\n",
    "\n",
    "Thirdly, the arrays need to be compatible in all directions.\n",
    "\n",
    "Although standard use of `-`, `+`, `/` and `*` operators work, NumPy also provides a series of mathematical functions to achieve several types of array manipulations.\n",
    "\n",
    "For example one could calculate the dot product of two arrays using:"
   ]
  },
  {
   "cell_type": "code",
   "execution_count": null,
   "metadata": {},
   "outputs": [],
   "source": [
    "# Here we use the numpy.array constructor to build arrays with pre-specified values.\n",
    "array_1 = numpy.array([[1, 0], [0, 1]])\n",
    "array_2 = numpy.array([[4, 1], [2, 2]])\n",
    "\n",
    "numpy.dot(array_1, array_2)"
   ]
  },
  {
   "cell_type": "markdown",
   "metadata": {},
   "source": [
    "NumPy also includes several functions to analyse/manipulate the data in NumPy arrays.\n",
    "\n",
    "For example, we can histogram a 1D array in the following manner:"
   ]
  },
  {
   "cell_type": "code",
   "execution_count": null,
   "metadata": {},
   "outputs": [],
   "source": [
    "array_1D = numpy.array([1,2,1])\n",
    "\n",
    "# We histogram the above 1 dimensional array with bins edges 0, 1, 2, and 3\n",
    "# This means that we expect the histogram to return:\n",
    "# * 0 in the 0->1 bin\n",
    "# * 2 in the 1->2 bin\n",
    "# * 1 in the 2->3 bin\n",
    "\n",
    "histogram, bins = numpy.histogram(array_1D, bins=[0, 1, 2, 3])\n",
    "\n",
    "print(histogram)"
   ]
  },
  {
   "cell_type": "markdown",
   "metadata": {},
   "source": [
    "We could be spending hours talking about arrays and all the functionality of NumPy so this is where we will leave this part. If you are interested in learning more about NumPy, we recommend this very good tutorial from datacamp:\n",
    "\n",
    "https://www.datacamp.com/community/tutorials/python-numpy-tutorial\n"
   ]
  },
  {
   "cell_type": "markdown",
   "metadata": {},
   "source": [
    "## Review\n",
    "\n",
    "In this section we covered the following:\n",
    "- The basic concept of the NumPy library.\n",
    "- How to create basic NumPy arrays.\n",
    "- The basics of NumPy array manipulation.\n",
    "- How NumPy functions can be used to analyse NumPy arrays."
   ]
  }
 ],
 "metadata": {
  "kernelspec": {
   "display_name": "Python 3",
   "language": "python",
   "name": "python3"
  },
  "language_info": {
   "codemirror_mode": {
    "name": "ipython",
    "version": 3
   },
   "file_extension": ".py",
   "mimetype": "text/x-python",
   "name": "python",
   "nbconvert_exporter": "python",
   "pygments_lexer": "ipython3",
   "version": "3.7.3"
  }
 },
 "nbformat": 4,
 "nbformat_minor": 1
}
