{
 "cells": [
  {
   "cell_type": "markdown",
   "metadata": {},
   "source": [
    "# 9. Importing Modules"
   ]
  },
  {
   "cell_type": "markdown",
   "metadata": {},
   "source": [
    "While creating your own functions can be incredibly useful, others may have done so already (and these might actually be faster).\n",
    "\n",
    "Often, these will come packaged as part of a wider python library."
   ]
  },
  {
   "cell_type": "markdown",
   "metadata": {},
   "source": [
    "A simple example of this is calculating the Euclidean distance between two points in space.\n",
    "\n",
    "Previously, you learned to write exponents, so you can write this distance as a function yourself."
   ]
  },
  {
   "cell_type": "code",
   "execution_count": null,
   "metadata": {},
   "outputs": [],
   "source": [
    "# Exercise 10.1: Write a function that calculates the Euclidean between two points"
   ]
  },
  {
   "cell_type": "markdown",
   "metadata": {},
   "source": [
    "However, certain python libraries already do this, allowing you to perform the same \n",
    "operation/function without having to write all of the above lines.\n",
    "\n",
    "One of the modules available for these math operations is NumPy!\n",
    "\n",
    "To use numpy in your code, all you need to do is"
   ]
  },
  {
   "cell_type": "code",
   "execution_count": null,
   "metadata": {},
   "outputs": [],
   "source": [
    "import numpy"
   ]
  },
  {
   "cell_type": "markdown",
   "metadata": {},
   "source": [
    "We can now use numpy's function etc as `numpy.functionname()`. It can often be useful to give an module a 'alias', especially if the name is long. You do this by adding `as` and the new name:"
   ]
  },
  {
   "cell_type": "code",
   "execution_count": null,
   "metadata": {},
   "outputs": [],
   "source": [
    "import numpy as np"
   ]
  },
  {
   "cell_type": "markdown",
   "metadata": {},
   "source": [
    "And now you can use the functions by `np.functionname()`. You can choose whatever you want, but be careful not to pick a name that already has another use within python."
   ]
  },
  {
   "cell_type": "markdown",
   "metadata": {},
   "source": [
    "NumPy has a Euclidean distance calculator.\n",
    "\n",
    "You can now either import all of NumPy, or just the function you need. You might want to do the latter,\n",
    "as that helps your code run faster, but for the purposes of this tutorial, import NumPy as above.\n",
    "\n",
    "To calculate the Euclidean distance, use:"
   ]
  },
  {
   "cell_type": "code",
   "execution_count": null,
   "metadata": {},
   "outputs": [],
   "source": [
    "print(numpy.linalg.norm(numpy.array([1,2,3]) - numpy.array([1,2,3])))\n",
    "print(numpy.linalg.norm(numpy.array([1,2,3]) - numpy.array([3,2,1])))"
   ]
  },
  {
   "cell_type": "markdown",
   "metadata": {},
   "source": [
    "###### So what is Numpy exactly?"
   ]
  },
  {
   "cell_type": "markdown",
   "metadata": {},
   "source": [
    "NumPy stands for \"Numerical Python\" and, along with some other libraries (SciPy, Pandas, etc.), is the core library used for scientific computing. It contains a big number of tools and functions that can be used to solve an array of common and not so common problems, some examples of which you'll see below. However, most importantly, NumPy contains the all powerful NumPy arrays!"
   ]
  },
  {
   "cell_type": "markdown",
   "metadata": {},
   "source": [
    "###### What is a numpy array?"
   ]
  },
  {
   "cell_type": "markdown",
   "metadata": {},
   "source": [
    "A numpy array is a bit like an improved version of a Python list, mentioned above. It \"is a high-performance multidimensional array object that is a powerful data structure for efficient computation of arrays and matrices. To work with these arrays, there’s a huge amount of high-level mathematical functions operate on these matrices and arrays.\" "
   ]
  },
  {
   "cell_type": "markdown",
   "metadata": {},
   "source": [
    "In other words, an array is a good structure to store data from 1D, 2D or 3D matrices."
   ]
  },
  {
   "cell_type": "markdown",
   "metadata": {},
   "source": [
    "This means that arrays can have rows and columns. In a 2D array, rows can also be called as the \"axis 0\" while columns are the \"axis 1\". The number of axis will go up according to the dimentions of the arrays so a 3D array would also have an \"axis 2\". These axes are useful when it comes to manipulating the data in your arrays. \n",
    "\n",
    "We will see some hands on examples of arrays below."
   ]
  },
  {
   "cell_type": "code",
   "execution_count": null,
   "metadata": {},
   "outputs": [],
   "source": [
    "# An example of a 2D array\n",
    "my_2d_array = numpy.ones((5, 3))\n",
    "\n",
    "print(my_2d_array)\n",
    "\n",
    "# Print out the shape of `my_array`\n",
    "print(my_2d_array.shape)\n",
    "\n",
    "# Print out the data type of `my_array`\n",
    "print(my_2d_array.dtype)\n",
    "\n"
   ]
  },
  {
   "cell_type": "code",
   "execution_count": null,
   "metadata": {},
   "outputs": [],
   "source": [
    "# This is an example of a 3D array\n",
    "my_3d_array = numpy.ones((2, 5, 3))\n",
    "\n",
    "print(my_3d_array)\n",
    "\n",
    "# Print out the shape of `my_array`\n",
    "print(my_3d_array.shape)\n",
    "\n",
    "# Print out the data type of `my_array`\n",
    "print(my_3d_array.dtype)\n",
    "\n"
   ]
  },
  {
   "cell_type": "markdown",
   "metadata": {},
   "source": [
    "You can also add, subtract, multiply or divide your arrays. Although the usual numeric symbols will work, numpy also provides ready made functions for you."
   ]
  },
  {
   "cell_type": "code",
   "execution_count": null,
   "metadata": {},
   "outputs": [],
   "source": [
    "my_new_array = my_2d_array + 1\n",
    "\n",
    "print(my_new_array)"
   ]
  },
  {
   "cell_type": "code",
   "execution_count": null,
   "metadata": {},
   "outputs": [],
   "source": [
    "my_new_array = my_2d_array + my_3d_array\n",
    "\n",
    "print(my_new_array)"
   ]
  },
  {
   "cell_type": "markdown",
   "metadata": {},
   "source": [
    "In order to perform arithmetic, and other, operations on two, or more arrays, there are certain criteria that need to be fulfilled. \n",
    "\n",
    "Firstly, their dimensions need to be compatible. This is the case when they are equal.\n",
    "\n",
    "Secondly, two dimensions are compatible when one of them is 1.\n",
    "\n",
    "Thirdly, the arrays need to be compatible in all directions."
   ]
  },
  {
   "cell_type": "markdown",
   "metadata": {},
   "source": [
    "We could be spending hours talking about arrays and all the functionality of numpy so this is where we will leave this part. If you are interested in learning more about arrays, this is a very good tutorial from datacamp:\n",
    "\n",
    "https://www.datacamp.com/community/tutorials/python-numpy-tutorial\n"
   ]
  },
  {
   "cell_type": "markdown",
   "metadata": {},
   "source": [
    "There are aslo a multitude of Python libraries just waiting for you to discover them.\n",
    "\n",
    "Here are some examples:\n",
    "\n",
    "Math (https://docs.python.org/3.6/library/math.html) is a very useful library for mathematical\n",
    "operations. This includes math.ceil(), math.floor(), math.fabs()(!), and math.factorial(),\n",
    "among others.\n",
    "\n",
    "NumPy (http://www.numpy.org/) and SciPy (https://www.scipy.org/) are excellent libraries \n",
    "that do a lot more that simple mathematical operations (like the Euclidean distance calculator above).\n",
    "These also interface very well with plotting libraries.\n",
    "\n",
    "Matplotlib (https://matplotlib.org/) is the most commonly used plotting library available. It is simple, \n",
    "and can do a lot. Other plotting libraries, such as GGPlot (http://ggplot.yhathq.com/), SeaBorn (https://seaborn.pydata.org/), and Bokeh (https://bokeh.pydata.org/en/latest/).\n",
    "\n",
    "Pandas (https://pandas.pydata.org/) is a great library to manipulate data structures. \n",
    "It's ease of use makes it ideal to work with large data sets.\n",
    "\n",
    "MDAnalysis (https://www.mdanalysis.org/), MDTraj (http://mdtraj.org/1.9.0/), and \n",
    "PyTraj (https://github.com/Amber-MD/pytraj), are some of the libraries used to process\n",
    "Molecular Dynamics trajcetories and other files. These interface very well with \n",
    "NumPy and Pandas and Matplotlib.\n",
    "\n",
    "IPython (https://ipython.org/) is a useful shell for interactive python.\n",
    "\n",
    "Jupyter (https://jupyter.org/) is what we are using right now! It is very useful for tutorials!\n",
    "\n",
    "More advanced libraries:\n",
    "\n",
    "SciKit-Learn (http://scikit-learn.org/stable/) for machine learning in Python.\n",
    "\n",
    "Sys (https://docs.python.org/2/library/sys.html) and ArgParser (https://docs.python.org/2/howto/argparse.html) are used to take inputs and write outputs from the Terminal.\n",
    "\n",
    "Requests (http://docs.python-requests.org/en/latest/) is used to process information from the web.\n",
    "\n",
    "MPI4Py (http://mpi4py.readthedocs.io/en/stable/) allows Python scripts to be parallelised \n",
    "(run over multiple processors).\n",
    "\n",
    "Cython (http://cython.org/) allows you to write parts of your code in C/C++, making it very fast."
   ]
  }
 ],
 "metadata": {
  "kernelspec": {
   "display_name": "Python 3",
   "language": "python",
   "name": "python3"
  },
  "language_info": {
   "codemirror_mode": {
    "name": "ipython",
    "version": 3
   },
   "file_extension": ".py",
   "mimetype": "text/x-python",
   "name": "python",
   "nbconvert_exporter": "python",
   "pygments_lexer": "ipython3",
   "version": "3.6.7"
  }
 },
 "nbformat": 4,
 "nbformat_minor": 1
}
