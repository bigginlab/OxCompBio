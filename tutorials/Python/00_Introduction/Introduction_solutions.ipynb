{
 "cells": [
  {
   "cell_type": "markdown",
   "metadata": {},
   "source": [
    "# 0. Introduction"
   ]
  },
  {
   "cell_type": "markdown",
   "metadata": {},
   "source": [
    "## Course overview\n",
    "\n",
    "This tutorial aims to teach the basics of python programming with a focus on its application in computational biochemistry. Assuming no previous knowledge of python, we start by explaining the basic building blocks (e.g. variables, conditionals, and lists) and build upon these to show examples of how python can be used to solve problems related to computational biochemistry (e.g. analysis of Molecular Dynamics simulations).\n",
    "\n",
    "The tutorial does not aim to completely cover every aspect of python programming, this unfortunately would not be feasible in a half day session. Instead we encourage attendees to use this as a jumping point into learning more about python and its many applications.\n",
    "\n",
    "We recommend the following useful resources for python:\n",
    "- [Python Documentation](https://docs.python.org/3.7/) (tutorials, library reference, ...)\n",
    "- [CodeAcademy Python tutorial](https://www.codecademy.com/learn/learn-python)\n",
    "\n",
    "### Course structure\n",
    "\n",
    "The tutorial is thought across 12 jupyter notebook:\n",
    "0. Introduction\n",
    "1. Basic Types\n",
    "2. Variables\n",
    "3. Conditionals\n",
    "4. Loops\n",
    "5. Lists\n",
    "6. File Handling\n",
    "7. Functions\n",
    "8. Documentation\n",
    "9. Libraries\n",
    "10. Numpy\n",
    "11. Analysing MD\n",
    "\n",
    "These notebooks are contained within their own labelled/named directories. Within these directories you will also find `datafiles` sub-directories that contain all the relevant data to run the notebook, in addition to copies of the notebooks with the exercise solutions (whose name ends in `_solutions.ipynb`).\n",
    "\n",
    "We recommend that each section be followed in order, however those with prior experience with python may wish to jump to the later sections.\n",
    "\n",
    "### Launching the notebooks\n",
    "\n",
    "When launching the notebooks locally/from a terminal (you will be doing this if you are attending the tutorial in person), do the following:\n",
    "1. Open a terminal window (find the program `Terminal` and open it).\n",
    "2. Activate the relevant python environment using: `conda activate oxpy`.\n",
    "3. Navigate to the OxCompBio python tutorial in the terminal.\n",
    "4. Type `jupyter notebook`. This will open an interactive jupyter session in your browser. You will then be able to nagivate through the different directories.\n",
    "5. To launch a notebook, just click on it to start the session.\n",
    "6. You can close the jupyter notebook via the dropdown menu within the notebook: `File > Close and Halt`. Alternatively you can close the entire jupyter session by typing `Ctl+C` in your terminal window.\n",
    "7. You can then close the terminal, or re-start a jupyter session by following the above instructions from step 3.\n",
    "\n",
    "### Using the notebooks\n",
    "\n",
    "Jupyter notebooks are a useful way to demonstrate python code in a clear and organised manner. Each notebook is composed of a series of `cells` which can either contain text (such as this one) or code (which will usually have the words `In []:` next to them). You can type in code `cells` by clicking on them and typing whatever changes you want to make.\n",
    "\n",
    "Code cells can be used to run any valid python code. To do this, simply click on the cell and press the `Run` button in the toolbar above, or type `Shift+Enter`.\n",
    "\n",
    "**Important note:** All code executed is retained in the `memory` of the notebook. That means that if you `import` a module or declare a variable, these will be seen and can interact with code executed in `cells` further down the notebook. There are many places in this tutorial where modules are imported early on in the notebook and used in subsequent code `cells`. We therefore recommend that tutorial users do not jump to later parts of the notebook without doing the earlier ones.\n",
    "\n",
    "Notebooks can be cleared to their original state by navigating to `Kernel > Restart & Clear Output`. A further prompt will ask you if you wish to clear all the outputs, pressing on this will return the notebook to a state where no code `cells` have been run.\n"
   ]
  },
  {
   "cell_type": "markdown",
   "metadata": {},
   "source": [
    "## 0.1 A first command in python:\n",
    "\n",
    "Let's start things off with executing our first python command. In the cell below we will use `print` to write out \"Hello world\". Try it out by clicking on the cell and pressing `Run` in the toolbar above."
   ]
  },
  {
   "cell_type": "code",
   "execution_count": null,
   "metadata": {},
   "outputs": [],
   "source": [
    "print('Hello world')"
   ]
  },
  {
   "cell_type": "markdown",
   "metadata": {},
   "source": [
    "The `print` function takes an input value (some text, in quotation marks) and prints the text as output (without the quotation marks). One should note that Python is case-sensitive - ie. we can't use `Print` or `PRINT`.\n",
    "\n",
    "Whilst `print` is a very simple function, it is one of the most useful. It allows us to write out any information relevant to our python code. This can be anything from usage instruction to the output of some calculation.\n",
    "\n",
    "**Note:** As of python 3, the inputs to the 'print' function must be placed within parantheses. If you use code developed for python 2.7 or lower, you may notice that this requirement is not followed and therefore will cause issues if run using python 3+. There are other key differences between python 3 and previous versions, some of which will be covered in this tutorial. For a more detailed look into them, the following resource may be of use: [Porting Python 2 Code to Python 3](https://docs.python.org/3.6/howto/pyporting.html). As python 2.7 will reach end of life as of January 2020, we strongly recommend that no new code be written in python 2.7."
   ]
  },
  {
   "cell_type": "markdown",
   "metadata": {},
   "source": [
    "### Exercise 0.1.1\n",
    "\n",
    "In the cell below, use print to output the phrase \"This is the second command\"."
   ]
  },
  {
   "cell_type": "code",
   "execution_count": null,
   "metadata": {},
   "outputs": [],
   "source": [
    "# Exercise 0.1.1\n",
    "print('This is the second command')"
   ]
  },
  {
   "cell_type": "markdown",
   "metadata": {},
   "source": [
    "### A note on python comments\n",
    "\n",
    "You will have noticed that the \"Exercise 0.1.1\" in the above box does not affect the notebook output. In python, in-line code comments are indicated using the # symbol. Any text that comes after this is considered to be a comment and is ignored by the python interpreter. It is considered good practice to comment your code in order to make it more readable for yourself and future users. Other means of commenting python code, such as docstrings, also exist and will be briefly covered in section 8 of this tutorial."
   ]
  },
  {
   "cell_type": "markdown",
   "metadata": {},
   "source": [
    "## 0.2 Writing a python script"
   ]
  },
  {
   "cell_type": "markdown",
   "metadata": {},
   "source": [
    "Whilst jupyter notebooks can be useful for demonstrating python code and prototyping new ideas, the main way in which to run python code is to execute a script. To do this, you need to write the python instructions within a file and execute it via the python interpretor.\n",
    "\n",
    "Let's write our first python script:\n",
    "1. In a new terminal, open a text editor (e.g. gedit; type `gedit hello.py` in the terminal and press enter; the text editor will open in a new window).\n",
    "2. Replicating the previous exercise, type `print('Hello world')` into the editor and save the file.\n",
    "3. Close gedit.\n",
    "4. Type `python hello.py` to run the script.\n",
    "\n",
    "This should hopefully have printed out `Hello world` to your terminal.\n",
    "\n",
    "In the remainder of this tutorial we will mainly focus on executing code within the jupyter notebook. However, it is worth remembering that all this could also be written in a file and executed in a similar manner to what is shown above."
   ]
  },
  {
   "cell_type": "markdown",
   "metadata": {},
   "source": [
    "## Review\n",
    "\n",
    "In this tutorial section we have:\n",
    "- Detailed the contents of the tutorial.\n",
    "- Shown how to execute and use a jupyter notebook session.\n",
    "- Used a function, `print`.\n",
    "- Written our first python script.\n",
    "- Run the script using the `python` interpretor."
   ]
  }
 ],
 "metadata": {
  "kernelspec": {
   "display_name": "Python 3",
   "language": "python",
   "name": "python3"
  },
  "language_info": {
   "codemirror_mode": {
    "name": "ipython",
    "version": 3
   },
   "file_extension": ".py",
   "mimetype": "text/x-python",
   "name": "python",
   "nbconvert_exporter": "python",
   "pygments_lexer": "ipython3",
   "version": "3.7.7"
  }
 },
 "nbformat": 4,
 "nbformat_minor": 1
}
