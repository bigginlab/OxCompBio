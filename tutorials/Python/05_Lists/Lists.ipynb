{
 "cells": [
  {
   "cell_type": "markdown",
   "metadata": {},
   "source": [
    "# 5. Working with lists"
   ]
  },
  {
   "cell_type": "markdown",
   "metadata": {},
   "source": [
    "Recall: a list is a collection of objects, arranged in a specific order.  A comma separates each entry and the whole thing is surrounded by square brackets.\n",
    "    \n",
    "For example:"
   ]
  },
  {
   "cell_type": "code",
   "execution_count": null,
   "metadata": {},
   "outputs": [],
   "source": [
    "exampleList = [1,5,3,2]"
   ]
  },
  {
   "cell_type": "code",
   "execution_count": null,
   "metadata": {},
   "outputs": [],
   "source": [
    "type(exampleList)"
   ]
  },
  {
   "cell_type": "markdown",
   "metadata": {},
   "source": [
    "## List indexing"
   ]
  },
  {
   "cell_type": "markdown",
   "metadata": {},
   "source": [
    "You can retrieve entries in a list by specifying the index of the entry in the list.  This is done by putting the index in square brackets after the name of the list.  \n",
    "\n",
    "Counting of indices in python lists starts at zero, so to pick the first entry in a list, specify index 0.\n",
    "\n",
    "eg. to specify the first value of the list, exampleList, defined above:"
   ]
  },
  {
   "cell_type": "code",
   "execution_count": null,
   "metadata": {},
   "outputs": [],
   "source": [
    "exampleList[0]"
   ]
  },
  {
   "cell_type": "markdown",
   "metadata": {},
   "source": [
    "### Exercise 5.1"
   ]
  },
  {
   "cell_type": "markdown",
   "metadata": {},
   "source": [
    "Pick out the third entry of the list `exampleList`"
   ]
  },
  {
   "cell_type": "code",
   "execution_count": null,
   "metadata": {},
   "outputs": [],
   "source": [
    "# Exercise 5.1 a)"
   ]
  },
  {
   "cell_type": "markdown",
   "metadata": {},
   "source": [
    "What happens if you try to pick an entry that doesn't exist, for example the tenth entry?"
   ]
  },
  {
   "cell_type": "code",
   "execution_count": null,
   "metadata": {},
   "outputs": [],
   "source": [
    "# Exercise 5.1 b)"
   ]
  },
  {
   "cell_type": "markdown",
   "metadata": {},
   "source": [
    "You can also use negative numbers as indices, which start backwards from the end of the list.\n",
    "This is useful if you don't know how long your list is, but want to pick, for example, the last entry:\n"
   ]
  },
  {
   "cell_type": "code",
   "execution_count": null,
   "metadata": {},
   "outputs": [],
   "source": [
    "exampleList[-1]"
   ]
  },
  {
   "cell_type": "markdown",
   "metadata": {},
   "source": [
    "### Exercise 5.2"
   ]
  },
  {
   "cell_type": "markdown",
   "metadata": {},
   "source": [
    "Pick out the last but one entry in the list, `exampleList`, using negative indices"
   ]
  },
  {
   "cell_type": "code",
   "execution_count": null,
   "metadata": {},
   "outputs": [],
   "source": [
    "# Exercise 5.2"
   ]
  },
  {
   "cell_type": "markdown",
   "metadata": {},
   "source": [
    "## Changing entries in a list"
   ]
  },
  {
   "cell_type": "markdown",
   "metadata": {},
   "source": [
    "We can use list indexing to change the value of a particular entry in a list.\n",
    "\n",
    "For example, to change the value of the second entry in exampleList from 5 to 32 we do:"
   ]
  },
  {
   "cell_type": "code",
   "execution_count": null,
   "metadata": {},
   "outputs": [],
   "source": [
    "exampleList[1] = 32"
   ]
  },
  {
   "cell_type": "markdown",
   "metadata": {},
   "source": [
    "Now exampleList looks like:"
   ]
  },
  {
   "cell_type": "code",
   "execution_count": null,
   "metadata": {},
   "outputs": [],
   "source": [
    "exampleList"
   ]
  },
  {
   "cell_type": "markdown",
   "metadata": {},
   "source": [
    "### Exercise 5.3\n",
    "\n",
    "Add 37 to the fourth entry in `exampleList`"
   ]
  },
  {
   "cell_type": "code",
   "execution_count": null,
   "metadata": {},
   "outputs": [],
   "source": [
    "# Exercise 5.3 a)"
   ]
  },
  {
   "cell_type": "markdown",
   "metadata": {},
   "source": [
    "Check that you have done what you expected by looking at exampleList:"
   ]
  },
  {
   "cell_type": "code",
   "execution_count": null,
   "metadata": {},
   "outputs": [],
   "source": [
    "# Exercise 5.3 b)"
   ]
  },
  {
   "cell_type": "markdown",
   "metadata": {},
   "source": [
    "## List slicing"
   ]
  },
  {
   "cell_type": "markdown",
   "metadata": {},
   "source": [
    "We can also select a section (or slice) of the original list using slicing.\n",
    "\n",
    "Here, we specify the first index we want to select, then a semicolon, then one more than the last index we want to select.\n",
    "\n",
    "For example, to select the second to the third entries in exampleList:"
   ]
  },
  {
   "cell_type": "code",
   "execution_count": null,
   "metadata": {},
   "outputs": [],
   "source": [
    "exampleList[1:3]"
   ]
  },
  {
   "cell_type": "markdown",
   "metadata": {},
   "source": [
    "### Exercise 5.4\n",
    "Pick out the first to third entries (inclusive) from `exampleList`"
   ]
  },
  {
   "cell_type": "code",
   "execution_count": null,
   "metadata": {},
   "outputs": [],
   "source": [
    "# Exercise 5.3"
   ]
  },
  {
   "cell_type": "markdown",
   "metadata": {},
   "source": [
    "## Finding the length of a list\n",
    "\n",
    "To find the length of a list, use the function `len()`:"
   ]
  },
  {
   "cell_type": "code",
   "execution_count": null,
   "metadata": {},
   "outputs": [],
   "source": [
    "len(exampleList)"
   ]
  },
  {
   "cell_type": "markdown",
   "metadata": {},
   "source": [
    "## Adding an entry to the end of a list\n",
    "\n",
    "What if you want to update your list and add a further entry?\n",
    "\n",
    "If you want to add a single entry to the list, use the `append()` function:"
   ]
  },
  {
   "cell_type": "code",
   "execution_count": null,
   "metadata": {},
   "outputs": [],
   "source": [
    "exampleList.append(9)"
   ]
  },
  {
   "cell_type": "code",
   "execution_count": null,
   "metadata": {},
   "outputs": [],
   "source": [
    "exampleList"
   ]
  },
  {
   "cell_type": "markdown",
   "metadata": {},
   "source": [
    "If you have a whole other list of entries that you want to add the end of your list, you can add the two lists together to make a third list:\n"
   ]
  },
  {
   "cell_type": "code",
   "execution_count": null,
   "metadata": {},
   "outputs": [],
   "source": [
    "exampleList + [5,2,721]"
   ]
  },
  {
   "cell_type": "markdown",
   "metadata": {},
   "source": [
    "## Other functions of lists\n",
    "\n",
    "Other useful functions you can perform on lists:\n",
    "\n",
    "- `sorted()`: sorts a list in ascending order:\n",
    "- `sum()`: sums the values in a list"
   ]
  },
  {
   "cell_type": "code",
   "execution_count": null,
   "metadata": {},
   "outputs": [],
   "source": [
    "unsortedlist = [9,2,7,4,1,8,12,6,4,1]\n",
    "sorted(unsortedlist)"
   ]
  },
  {
   "cell_type": "code",
   "execution_count": null,
   "metadata": {},
   "outputs": [],
   "source": [
    "sum(unsortedlist)"
   ]
  },
  {
   "cell_type": "markdown",
   "metadata": {},
   "source": [
    "### Exercise 5.5\n",
    "\n",
    "a) Find average value of the data in the list below:"
   ]
  },
  {
   "cell_type": "code",
   "execution_count": null,
   "metadata": {},
   "outputs": [],
   "source": [
    "data = [1,4,6,3,9,12,5,4,20,2,6,4,8,1,1,2,5,4,6,7,3]\n",
    "\n",
    "# Exercise 5.5 a)"
   ]
  },
  {
   "cell_type": "markdown",
   "metadata": {},
   "source": [
    "b) Add a new data point `17` to the list"
   ]
  },
  {
   "cell_type": "code",
   "execution_count": null,
   "metadata": {},
   "outputs": [],
   "source": [
    "# Exercise 5.5 b)"
   ]
  },
  {
   "cell_type": "markdown",
   "metadata": {},
   "source": [
    "c) Find the median value of the data"
   ]
  },
  {
   "cell_type": "code",
   "execution_count": null,
   "metadata": {},
   "outputs": [],
   "source": [
    "# Exercise 5.5 c)"
   ]
  },
  {
   "cell_type": "markdown",
   "metadata": {},
   "source": [
    "### Converting strings to lists"
   ]
  },
  {
   "cell_type": "markdown",
   "metadata": {},
   "source": [
    "So far we have been working with lists of integers or floating point values.\n",
    "\n",
    "What if we have a string that we want to convert to a list? eg. a DNA or protein sequence.  To convert a string to a list, we use `list()`.\n",
    "\n",
    "eg:"
   ]
  },
  {
   "cell_type": "code",
   "execution_count": null,
   "metadata": {},
   "outputs": [],
   "source": [
    "DNA = 'ACAATGCGATACGTATTTGCG'\n",
    "DNA = list(DNA)\n",
    "print(DNA)"
   ]
  },
  {
   "cell_type": "markdown",
   "metadata": {},
   "source": [
    "Then we can use list functions on the DNA list.\n",
    "\n",
    "### Exercise 5.6\n",
    "\n",
    "Find the length of the DNA sequence and change the second-last base to a 'T'"
   ]
  },
  {
   "cell_type": "code",
   "execution_count": null,
   "metadata": {},
   "outputs": [],
   "source": [
    "# Exercise 5.6"
   ]
  },
  {
   "cell_type": "markdown",
   "metadata": {},
   "source": [
    "## Review\n",
    "\n",
    "In this section we have learnt:\n",
    "- index numbers in python lists start at zero\n",
    "- to pick out values in a list by their index, using *listname*[*index*]\n",
    "- to pick out a slice of a list by index, using *listname*[ *index1*: *index2* ] (*index2* is one larger than the index of the last entry you want to select)\n",
    "- to find the length of a list, using len(*listname*)\n",
    "- to add a single entry to the end of a list, use *listname*.append(*entry*)\n",
    "- we can concatenate two lists to make a third list\n",
    "- to sort the entries in a list using sort(*listname*)\n",
    "- to sum the entries in a list using sum(*listname*)\n",
    "- convert letters in a string to a list using list(*string*)"
   ]
  },
  {
   "cell_type": "markdown",
   "metadata": {},
   "source": [
    "# 6.  Using lists in for loops"
   ]
  },
  {
   "cell_type": "markdown",
   "metadata": {},
   "source": [
    "To iterate through values in a list, we use a `for` loop.\n",
    "\n",
    "So to print every value of a list of names, for example:"
   ]
  },
  {
   "cell_type": "code",
   "execution_count": null,
   "metadata": {},
   "outputs": [],
   "source": [
    "for name in ['Jack','Elisa','Rahim','Sterling','Lucas','Anya']:\n",
    "    print(name)"
   ]
  },
  {
   "cell_type": "markdown",
   "metadata": {},
   "source": [
    "We can also set up the list in advance and refer back to the list name:"
   ]
  },
  {
   "cell_type": "code",
   "execution_count": null,
   "metadata": {},
   "outputs": [],
   "source": [
    "names = ['Jack','Elisa','Rahim','Sterling','Lucas','Anya']\n",
    "for name in names:\n",
    "    print(name)"
   ]
  },
  {
   "cell_type": "markdown",
   "metadata": {},
   "source": [
    "### Exercise 6.1\n",
    "From the list of distances given below, obtain a list of distances squared"
   ]
  },
  {
   "cell_type": "code",
   "execution_count": null,
   "metadata": {},
   "outputs": [],
   "source": [
    "# Exercise 6.1\n",
    "dists = [3.1, 8.4, 9.0, 4.2, 3.0]"
   ]
  },
  {
   "cell_type": "markdown",
   "metadata": {},
   "source": [
    "*List comprehension* is a handy shortcut when looping over lists:"
   ]
  },
  {
   "cell_type": "code",
   "execution_count": null,
   "metadata": {},
   "outputs": [],
   "source": [
    "dist_squared2 = [dist*dist for dist in dists]\n",
    "print(dist_squared2)"
   ]
  },
  {
   "cell_type": "markdown",
   "metadata": {},
   "source": [
    "This does the same thing as above (loops over `dists` and for each entry `dist` adds `dist` x `dist` at the corresponding index of a new list, `dist_squared2`), only in one line instead of three. You can do a similar thing with dictionaries and tuples."
   ]
  },
  {
   "cell_type": "markdown",
   "metadata": {},
   "source": [
    "## The `range` function\n",
    "\n",
    "When using a for loop it can sometimes be useful to create a list of consecutive numbers.\n",
    "To do this, you can use the `range` function in combination with list comprehension, which returns a list from 0 to one less than the argument given.\n",
    "eg:"
   ]
  },
  {
   "cell_type": "code",
   "execution_count": null,
   "metadata": {},
   "outputs": [],
   "source": [
    "[ i for i in range(12) ]"
   ]
  },
  {
   "cell_type": "markdown",
   "metadata": {},
   "source": [
    "### Exercise 6.2\n",
    "\n",
    "Below are two lists, the first gives the amount of growth (in cm) of four pieces of grass in the first twelve hours of the day, the second for the same pieces of grass in the last twelve hours of the day. Find the total amount of growth for each piece of grass."
   ]
  },
  {
   "cell_type": "code",
   "execution_count": null,
   "metadata": {},
   "outputs": [],
   "source": [
    "# Exercise 6.2\n",
    "am = [4.3, 7.1, 9.5, 8.5]\n",
    "pm = [1.2, 3.2, 4.2, 3.9]"
   ]
  },
  {
   "cell_type": "markdown",
   "metadata": {},
   "source": [
    "#### Exercise 6.3\n",
    "\n",
    "Below is a DNA sequence. During transcription, when mRNA is formed, base pairing occurs, so that the resultant mRNA sequence relates to the original DNA sequence in the following way:\n",
    "DNA -> mRNA\n",
    "- A -> U\n",
    "- C -> G\n",
    "- G -> C\n",
    "- T -> A\n",
    "\n",
    "The mRNA sequence is translated to protein with the mRNA sequence being read three letters at a time - the three letter codes give the protein amino acid, eg.:\n",
    "- AUG = methionine\n",
    "- AAA or AAG = lysine\n",
    "\n",
    "etc.\n",
    "\n",
    "a) Check that the DNA sequence length is divisible by 3.\n",
    "\n",
    "b) How many methionines would be in the resultant protein sequence?\n",
    "\n",
    "c) [if you have time] what would the resultant protein sequence be? [you will need to look online for mRNA -> amino acid transcription codes]"
   ]
  },
  {
   "cell_type": "code",
   "execution_count": null,
   "metadata": {},
   "outputs": [],
   "source": [
    "DNA = 'GGCGGCCCCCTAGCGTCGCGCAGGGTCGGGGACTGCGCGGCGGTGCCAGGCCGGGCGTGGGCGAGAGCACGAACGGGCTGCCTGCGGGCTGAGAGCGTCGAGCTGTCACCATGGGTGATCACGCTTGGAGCTTCCTAAAGGACTTCCTGGCCGGGGGCGTCGCCGCTGCCGTCTCCAAGACCGCGGTCGCCCCCATCGAGAGGGTCAAACTGCTGCTGCAGGTGAGGACCGCGCGGTGCAAGAGGCGGGCGCGGGCGCGGCGGGCCGGGCGGGGCGCGCGATGCGGCGCGAGCTGCAGGGCGCGGGGCGCCGCGGAAAATCTGCGCCAGGCCACAGGCCCGGGCGCCCGCCCGCCCGCCCGCCCGCCCGCGGGGGAAGAAGGTGCCCTCTGCGTAGAGACAGGTCCAGCGTCAGTCGCAG'"
   ]
  },
  {
   "cell_type": "code",
   "execution_count": null,
   "metadata": {},
   "outputs": [],
   "source": [
    "# Exercise 6.3 a)"
   ]
  },
  {
   "cell_type": "code",
   "execution_count": null,
   "metadata": {},
   "outputs": [],
   "source": [
    "# Exercise 6.3 b)"
   ]
  },
  {
   "cell_type": "code",
   "execution_count": null,
   "metadata": {},
   "outputs": [],
   "source": [
    "# Exercise 6.3 c)"
   ]
  },
  {
   "cell_type": "markdown",
   "metadata": {},
   "source": [
    "#### An aside on dictionaries\n",
    "\n",
    "When defining a dictionary, it has the form:\n",
    " `dict_name = {key1: value1, key2: value2, ...}`\n",
    "\n",
    "Keys can be strings, integers, tuples; values can be strings, integers, tuples, lists, other dictionaries..."
   ]
  },
  {
   "cell_type": "code",
   "execution_count": null,
   "metadata": {},
   "outputs": [],
   "source": [
    "key3 = 3\n",
    "dict_name = {'key1': 1, (2,2): 'value2', key3: [3,3]}\n",
    "dict_name"
   ]
  },
  {
   "cell_type": "markdown",
   "metadata": {},
   "source": [
    "Each key and value form a pair. We can use our dictionary to get the 'value' corresponding to a particular key:"
   ]
  },
  {
   "cell_type": "code",
   "execution_count": null,
   "metadata": {},
   "outputs": [],
   "source": [
    "print(dict_name['key1'])\n",
    "print(dict_name[(2,2)])\n",
    "print(dict_name[3])\n",
    "print(dict_name[key3])"
   ]
  },
  {
   "cell_type": "markdown",
   "metadata": {},
   "source": [
    "After first setting up our dictionary, we can then add or change entries:"
   ]
  },
  {
   "cell_type": "code",
   "execution_count": null,
   "metadata": {},
   "outputs": [],
   "source": [
    "dict_name['key1'] = 'newvalue'\n",
    "dict_name['key1']"
   ]
  },
  {
   "cell_type": "code",
   "execution_count": null,
   "metadata": {},
   "outputs": [],
   "source": [
    "dict_name['newkey'] = 4\n",
    "dict_name['newkey']"
   ]
  },
  {
   "cell_type": "markdown",
   "metadata": {},
   "source": [
    "### Review\n",
    "We have learnt:\n",
    "- to iterate through list using `for`\n",
    "- using the `range` function to create a list of consecutive numbers"
   ]
  }
 ],
 "metadata": {
  "kernelspec": {
   "display_name": "Python 3",
   "language": "python",
   "name": "python3"
  },
  "language_info": {
   "codemirror_mode": {
    "name": "ipython",
    "version": 3
   },
   "file_extension": ".py",
   "mimetype": "text/x-python",
   "name": "python",
   "nbconvert_exporter": "python",
   "pygments_lexer": "ipython3",
   "version": "3.6.7"
  }
 },
 "nbformat": 4,
 "nbformat_minor": 1
}
